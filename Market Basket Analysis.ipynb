{
 "cells": [
  {
   "cell_type": "markdown",
   "id": "c93f866d",
   "metadata": {},
   "source": [
    "# 1. Introduction\n",
    "##  1.1 Objective \n",
    "The main of this project is use <b>Market Basket Analysis</b> to understand customer purchasing behaviour so as improve customer experience whilst improve sales. With transaction data collected on items purchased we aim to understand which items leads to the purchase of other items in other to provide better product recommedation , better product arrangement in malls and  online website to ease the stress of buy hence improving customers satisfaction."
   ]
  },
  {
   "cell_type": "markdown",
   "id": "52493677",
   "metadata": {},
   "source": [
    "## 1.2 Business Problem\n",
    " - Which products are commonly purchased together?"
   ]
  },
  {
   "cell_type": "code",
   "execution_count": 42,
   "id": "d0870d4e",
   "metadata": {},
   "outputs": [
    {
     "name": "stderr",
     "output_type": "stream",
     "text": [
      "C:\\Users\\Richard\\anaconda3\\lib\\site-packages\\plotly\\graph_objs\\__init__.py:287: DeprecationWarning:\n",
      "\n",
      "distutils Version classes are deprecated. Use packaging.version instead.\n",
      "\n",
      "C:\\Users\\Richard\\anaconda3\\lib\\site-packages\\plotly\\graph_objs\\__init__.py:287: DeprecationWarning:\n",
      "\n",
      "distutils Version classes are deprecated. Use packaging.version instead.\n",
      "\n",
      "C:\\Users\\Richard\\anaconda3\\lib\\site-packages\\plotly\\graph_objs\\__init__.py:287: DeprecationWarning:\n",
      "\n",
      "distutils Version classes are deprecated. Use packaging.version instead.\n",
      "\n",
      "C:\\Users\\Richard\\anaconda3\\lib\\site-packages\\plotly\\graph_objs\\__init__.py:287: DeprecationWarning:\n",
      "\n",
      "distutils Version classes are deprecated. Use packaging.version instead.\n",
      "\n"
     ]
    }
   ],
   "source": [
    "import os\n",
    "import numpy as np \n",
    "import pandas as pd \n",
    "from itertools import permutations\n",
    "from mlxtend.preprocessing import TransactionEncoder\n",
    "from mlxtend.frequent_patterns import apriori, association_rules\n",
    "import matplotlib.pyplot as plt\n",
    "import seaborn as sns\n",
    "from pandas.plotting import parallel_coordinates\n",
    "import plotly.graph_objects as go\n",
    "import plotly.express as px\n",
    "import plotly.figure_factory as ff\n",
    "import networkx as nx\n",
    "from plotly.offline import download_plotlyjs, init_notebook_mode, iplot\n",
    "import plotly\n",
    "import igraph as ig\n",
    "from plotly.graph_objs import *\n",
    "from plotly.subplots import make_subplots\n"
   ]
  },
  {
   "cell_type": "code",
   "execution_count": 43,
   "id": "dcb2900f",
   "metadata": {},
   "outputs": [
    {
     "name": "stdout",
     "output_type": "stream",
     "text": [
      "Current working directory: C:\\Users\\Richard\\Downloads\\Data\n",
      "Current working directory: C:\\Users\\Richard\\Downloads\\Data\n"
     ]
    }
   ],
   "source": [
    "# Print the current working directory\n",
    "print(\"Current working directory: {0}\".format(os.getcwd()))\n",
    "# Change the current working directory\n",
    "os.chdir('C:\\\\Users\\\\Richard\\\\Downloads\\\\Data')\n",
    "# Print the current working directory\n",
    "print(\"Current working directory: {0}\".format(os.getcwd()))"
   ]
  },
  {
   "cell_type": "markdown",
   "id": "7cbce810",
   "metadata": {},
   "source": [
    "## 2. Prepare & Process"
   ]
  },
  {
   "cell_type": "markdown",
   "id": "a458f5bc",
   "metadata": {},
   "source": [
    "The cleaned dataset was downloaded from kaggle"
   ]
  },
  {
   "cell_type": "code",
   "execution_count": 44,
   "id": "92b35b51",
   "metadata": {},
   "outputs": [],
   "source": [
    "#reading my Groceries Dataset\n",
    "df = pd.read_csv(\"Groceries data.csv\")\n",
    "x  = pd.read_csv(\"basket.csv\")"
   ]
  },
  {
   "cell_type": "code",
   "execution_count": 45,
   "id": "a111edef",
   "metadata": {},
   "outputs": [
    {
     "name": "stdout",
     "output_type": "stream",
     "text": [
      "<class 'pandas.core.frame.DataFrame'>\n",
      "RangeIndex: 38765 entries, 0 to 38764\n",
      "Data columns (total 7 columns):\n",
      " #   Column           Non-Null Count  Dtype \n",
      "---  ------           --------------  ----- \n",
      " 0   Member_number    38765 non-null  int64 \n",
      " 1   Date             38765 non-null  object\n",
      " 2   itemDescription  38765 non-null  object\n",
      " 3   year             38765 non-null  int64 \n",
      " 4   month            38765 non-null  int64 \n",
      " 5   day              38765 non-null  int64 \n",
      " 6   day_of_week      38765 non-null  int64 \n",
      "dtypes: int64(5), object(2)\n",
      "memory usage: 2.1+ MB\n"
     ]
    }
   ],
   "source": [
    "df.info()"
   ]
  },
  {
   "cell_type": "code",
   "execution_count": 46,
   "id": "e5574112",
   "metadata": {},
   "outputs": [],
   "source": [
    "#changing the data format for my columns\n",
    "df[\"Date\"] = pd.to_datetime(df['Date'])\n",
    "#df[['Member_number','year','month','day','day_of_week']] = df[['Member_number','year','month','day','day_of_week']].astype(str)\n"
   ]
  },
  {
   "cell_type": "code",
   "execution_count": 47,
   "id": "716a75ea",
   "metadata": {},
   "outputs": [
    {
     "data": {
      "text/plain": [
       "38765"
      ]
     },
     "execution_count": 47,
     "metadata": {},
     "output_type": "execute_result"
    }
   ],
   "source": [
    "#checking how many transaction we have in our dataset\n",
    "len(df)"
   ]
  },
  {
   "cell_type": "markdown",
   "id": "2146ec92",
   "metadata": {},
   "source": [
    "## 3. Analyze"
   ]
  },
  {
   "cell_type": "markdown",
   "id": "8e52d82c",
   "metadata": {},
   "source": [
    "### 3.1 Exploratory Data Analysis (EDA)"
   ]
  },
  {
   "cell_type": "code",
   "execution_count": 48,
   "id": "b984f2c2",
   "metadata": {},
   "outputs": [
    {
     "name": "stderr",
     "output_type": "stream",
     "text": [
      "C:\\Users\\Richard\\anaconda3\\lib\\site-packages\\plotly\\io\\_renderers.py:396: DeprecationWarning:\n",
      "\n",
      "distutils Version classes are deprecated. Use packaging.version instead.\n",
      "\n",
      "C:\\Users\\Richard\\anaconda3\\lib\\site-packages\\plotly\\io\\_renderers.py:396: DeprecationWarning:\n",
      "\n",
      "distutils Version classes are deprecated. Use packaging.version instead.\n",
      "\n"
     ]
    },
    {
     "data": {
      "application/vnd.plotly.v1+json": {
       "config": {
        "plotlyServerURL": "https://plot.ly"
       },
       "data": [
        {
         "alignmentgroup": "True",
         "hovertemplate": "Item=%{x}<br>Quantity=%{y}<br>color=%{marker.color}<extra></extra>",
         "legendgroup": "",
         "marker": {
          "color": [
           2502,
           1898,
           1716,
           1514,
           1334,
           1071,
           1032,
           933,
           924,
           812,
           785,
           744,
           731,
           717,
           687,
           662,
           596,
           580,
           571,
           566
          ],
          "coloraxis": "coloraxis",
          "pattern": {
           "shape": ""
          }
         },
         "name": "",
         "offsetgroup": "",
         "orientation": "v",
         "showlegend": false,
         "textposition": "auto",
         "type": "bar",
         "x": [
          "whole milk",
          "other vegetables",
          "rolls/buns",
          "soda",
          "yogurt",
          "root vegetables",
          "tropical fruit",
          "bottled water",
          "sausage",
          "citrus fruit",
          "pastry",
          "pip fruit",
          "shopping bags",
          "canned beer",
          "bottled beer",
          "whipped/sour cream",
          "newspapers",
          "frankfurter",
          "brown bread",
          "pork"
         ],
         "xaxis": "x",
         "y": [
          2502,
          1898,
          1716,
          1514,
          1334,
          1071,
          1032,
          933,
          924,
          812,
          785,
          744,
          731,
          717,
          687,
          662,
          596,
          580,
          571,
          566
         ],
         "yaxis": "y"
        }
       ],
       "layout": {
        "barmode": "relative",
        "coloraxis": {
         "colorbar": {
          "title": {
           "text": "color"
          }
         },
         "colorscale": [
          [
           0,
           "#0d0887"
          ],
          [
           0.1111111111111111,
           "#46039f"
          ],
          [
           0.2222222222222222,
           "#7201a8"
          ],
          [
           0.3333333333333333,
           "#9c179e"
          ],
          [
           0.4444444444444444,
           "#bd3786"
          ],
          [
           0.5555555555555556,
           "#d8576b"
          ],
          [
           0.6666666666666666,
           "#ed7953"
          ],
          [
           0.7777777777777778,
           "#fb9f3a"
          ],
          [
           0.8888888888888888,
           "#fdca26"
          ],
          [
           1,
           "#f0f921"
          ]
         ]
        },
        "legend": {
         "tracegroupgap": 0
        },
        "template": {
         "data": {
          "bar": [
           {
            "error_x": {
             "color": "#2a3f5f"
            },
            "error_y": {
             "color": "#2a3f5f"
            },
            "marker": {
             "line": {
              "color": "#E5ECF6",
              "width": 0.5
             },
             "pattern": {
              "fillmode": "overlay",
              "size": 10,
              "solidity": 0.2
             }
            },
            "type": "bar"
           }
          ],
          "barpolar": [
           {
            "marker": {
             "line": {
              "color": "#E5ECF6",
              "width": 0.5
             },
             "pattern": {
              "fillmode": "overlay",
              "size": 10,
              "solidity": 0.2
             }
            },
            "type": "barpolar"
           }
          ],
          "carpet": [
           {
            "aaxis": {
             "endlinecolor": "#2a3f5f",
             "gridcolor": "white",
             "linecolor": "white",
             "minorgridcolor": "white",
             "startlinecolor": "#2a3f5f"
            },
            "baxis": {
             "endlinecolor": "#2a3f5f",
             "gridcolor": "white",
             "linecolor": "white",
             "minorgridcolor": "white",
             "startlinecolor": "#2a3f5f"
            },
            "type": "carpet"
           }
          ],
          "choropleth": [
           {
            "colorbar": {
             "outlinewidth": 0,
             "ticks": ""
            },
            "type": "choropleth"
           }
          ],
          "contour": [
           {
            "colorbar": {
             "outlinewidth": 0,
             "ticks": ""
            },
            "colorscale": [
             [
              0,
              "#0d0887"
             ],
             [
              0.1111111111111111,
              "#46039f"
             ],
             [
              0.2222222222222222,
              "#7201a8"
             ],
             [
              0.3333333333333333,
              "#9c179e"
             ],
             [
              0.4444444444444444,
              "#bd3786"
             ],
             [
              0.5555555555555556,
              "#d8576b"
             ],
             [
              0.6666666666666666,
              "#ed7953"
             ],
             [
              0.7777777777777778,
              "#fb9f3a"
             ],
             [
              0.8888888888888888,
              "#fdca26"
             ],
             [
              1,
              "#f0f921"
             ]
            ],
            "type": "contour"
           }
          ],
          "contourcarpet": [
           {
            "colorbar": {
             "outlinewidth": 0,
             "ticks": ""
            },
            "type": "contourcarpet"
           }
          ],
          "heatmap": [
           {
            "colorbar": {
             "outlinewidth": 0,
             "ticks": ""
            },
            "colorscale": [
             [
              0,
              "#0d0887"
             ],
             [
              0.1111111111111111,
              "#46039f"
             ],
             [
              0.2222222222222222,
              "#7201a8"
             ],
             [
              0.3333333333333333,
              "#9c179e"
             ],
             [
              0.4444444444444444,
              "#bd3786"
             ],
             [
              0.5555555555555556,
              "#d8576b"
             ],
             [
              0.6666666666666666,
              "#ed7953"
             ],
             [
              0.7777777777777778,
              "#fb9f3a"
             ],
             [
              0.8888888888888888,
              "#fdca26"
             ],
             [
              1,
              "#f0f921"
             ]
            ],
            "type": "heatmap"
           }
          ],
          "heatmapgl": [
           {
            "colorbar": {
             "outlinewidth": 0,
             "ticks": ""
            },
            "colorscale": [
             [
              0,
              "#0d0887"
             ],
             [
              0.1111111111111111,
              "#46039f"
             ],
             [
              0.2222222222222222,
              "#7201a8"
             ],
             [
              0.3333333333333333,
              "#9c179e"
             ],
             [
              0.4444444444444444,
              "#bd3786"
             ],
             [
              0.5555555555555556,
              "#d8576b"
             ],
             [
              0.6666666666666666,
              "#ed7953"
             ],
             [
              0.7777777777777778,
              "#fb9f3a"
             ],
             [
              0.8888888888888888,
              "#fdca26"
             ],
             [
              1,
              "#f0f921"
             ]
            ],
            "type": "heatmapgl"
           }
          ],
          "histogram": [
           {
            "marker": {
             "pattern": {
              "fillmode": "overlay",
              "size": 10,
              "solidity": 0.2
             }
            },
            "type": "histogram"
           }
          ],
          "histogram2d": [
           {
            "colorbar": {
             "outlinewidth": 0,
             "ticks": ""
            },
            "colorscale": [
             [
              0,
              "#0d0887"
             ],
             [
              0.1111111111111111,
              "#46039f"
             ],
             [
              0.2222222222222222,
              "#7201a8"
             ],
             [
              0.3333333333333333,
              "#9c179e"
             ],
             [
              0.4444444444444444,
              "#bd3786"
             ],
             [
              0.5555555555555556,
              "#d8576b"
             ],
             [
              0.6666666666666666,
              "#ed7953"
             ],
             [
              0.7777777777777778,
              "#fb9f3a"
             ],
             [
              0.8888888888888888,
              "#fdca26"
             ],
             [
              1,
              "#f0f921"
             ]
            ],
            "type": "histogram2d"
           }
          ],
          "histogram2dcontour": [
           {
            "colorbar": {
             "outlinewidth": 0,
             "ticks": ""
            },
            "colorscale": [
             [
              0,
              "#0d0887"
             ],
             [
              0.1111111111111111,
              "#46039f"
             ],
             [
              0.2222222222222222,
              "#7201a8"
             ],
             [
              0.3333333333333333,
              "#9c179e"
             ],
             [
              0.4444444444444444,
              "#bd3786"
             ],
             [
              0.5555555555555556,
              "#d8576b"
             ],
             [
              0.6666666666666666,
              "#ed7953"
             ],
             [
              0.7777777777777778,
              "#fb9f3a"
             ],
             [
              0.8888888888888888,
              "#fdca26"
             ],
             [
              1,
              "#f0f921"
             ]
            ],
            "type": "histogram2dcontour"
           }
          ],
          "mesh3d": [
           {
            "colorbar": {
             "outlinewidth": 0,
             "ticks": ""
            },
            "type": "mesh3d"
           }
          ],
          "parcoords": [
           {
            "line": {
             "colorbar": {
              "outlinewidth": 0,
              "ticks": ""
             }
            },
            "type": "parcoords"
           }
          ],
          "pie": [
           {
            "automargin": true,
            "type": "pie"
           }
          ],
          "scatter": [
           {
            "marker": {
             "colorbar": {
              "outlinewidth": 0,
              "ticks": ""
             }
            },
            "type": "scatter"
           }
          ],
          "scatter3d": [
           {
            "line": {
             "colorbar": {
              "outlinewidth": 0,
              "ticks": ""
             }
            },
            "marker": {
             "colorbar": {
              "outlinewidth": 0,
              "ticks": ""
             }
            },
            "type": "scatter3d"
           }
          ],
          "scattercarpet": [
           {
            "marker": {
             "colorbar": {
              "outlinewidth": 0,
              "ticks": ""
             }
            },
            "type": "scattercarpet"
           }
          ],
          "scattergeo": [
           {
            "marker": {
             "colorbar": {
              "outlinewidth": 0,
              "ticks": ""
             }
            },
            "type": "scattergeo"
           }
          ],
          "scattergl": [
           {
            "marker": {
             "colorbar": {
              "outlinewidth": 0,
              "ticks": ""
             }
            },
            "type": "scattergl"
           }
          ],
          "scattermapbox": [
           {
            "marker": {
             "colorbar": {
              "outlinewidth": 0,
              "ticks": ""
             }
            },
            "type": "scattermapbox"
           }
          ],
          "scatterpolar": [
           {
            "marker": {
             "colorbar": {
              "outlinewidth": 0,
              "ticks": ""
             }
            },
            "type": "scatterpolar"
           }
          ],
          "scatterpolargl": [
           {
            "marker": {
             "colorbar": {
              "outlinewidth": 0,
              "ticks": ""
             }
            },
            "type": "scatterpolargl"
           }
          ],
          "scatterternary": [
           {
            "marker": {
             "colorbar": {
              "outlinewidth": 0,
              "ticks": ""
             }
            },
            "type": "scatterternary"
           }
          ],
          "surface": [
           {
            "colorbar": {
             "outlinewidth": 0,
             "ticks": ""
            },
            "colorscale": [
             [
              0,
              "#0d0887"
             ],
             [
              0.1111111111111111,
              "#46039f"
             ],
             [
              0.2222222222222222,
              "#7201a8"
             ],
             [
              0.3333333333333333,
              "#9c179e"
             ],
             [
              0.4444444444444444,
              "#bd3786"
             ],
             [
              0.5555555555555556,
              "#d8576b"
             ],
             [
              0.6666666666666666,
              "#ed7953"
             ],
             [
              0.7777777777777778,
              "#fb9f3a"
             ],
             [
              0.8888888888888888,
              "#fdca26"
             ],
             [
              1,
              "#f0f921"
             ]
            ],
            "type": "surface"
           }
          ],
          "table": [
           {
            "cells": {
             "fill": {
              "color": "#EBF0F8"
             },
             "line": {
              "color": "white"
             }
            },
            "header": {
             "fill": {
              "color": "#C8D4E3"
             },
             "line": {
              "color": "white"
             }
            },
            "type": "table"
           }
          ]
         },
         "layout": {
          "annotationdefaults": {
           "arrowcolor": "#2a3f5f",
           "arrowhead": 0,
           "arrowwidth": 1
          },
          "autotypenumbers": "strict",
          "coloraxis": {
           "colorbar": {
            "outlinewidth": 0,
            "ticks": ""
           }
          },
          "colorscale": {
           "diverging": [
            [
             0,
             "#8e0152"
            ],
            [
             0.1,
             "#c51b7d"
            ],
            [
             0.2,
             "#de77ae"
            ],
            [
             0.3,
             "#f1b6da"
            ],
            [
             0.4,
             "#fde0ef"
            ],
            [
             0.5,
             "#f7f7f7"
            ],
            [
             0.6,
             "#e6f5d0"
            ],
            [
             0.7,
             "#b8e186"
            ],
            [
             0.8,
             "#7fbc41"
            ],
            [
             0.9,
             "#4d9221"
            ],
            [
             1,
             "#276419"
            ]
           ],
           "sequential": [
            [
             0,
             "#0d0887"
            ],
            [
             0.1111111111111111,
             "#46039f"
            ],
            [
             0.2222222222222222,
             "#7201a8"
            ],
            [
             0.3333333333333333,
             "#9c179e"
            ],
            [
             0.4444444444444444,
             "#bd3786"
            ],
            [
             0.5555555555555556,
             "#d8576b"
            ],
            [
             0.6666666666666666,
             "#ed7953"
            ],
            [
             0.7777777777777778,
             "#fb9f3a"
            ],
            [
             0.8888888888888888,
             "#fdca26"
            ],
            [
             1,
             "#f0f921"
            ]
           ],
           "sequentialminus": [
            [
             0,
             "#0d0887"
            ],
            [
             0.1111111111111111,
             "#46039f"
            ],
            [
             0.2222222222222222,
             "#7201a8"
            ],
            [
             0.3333333333333333,
             "#9c179e"
            ],
            [
             0.4444444444444444,
             "#bd3786"
            ],
            [
             0.5555555555555556,
             "#d8576b"
            ],
            [
             0.6666666666666666,
             "#ed7953"
            ],
            [
             0.7777777777777778,
             "#fb9f3a"
            ],
            [
             0.8888888888888888,
             "#fdca26"
            ],
            [
             1,
             "#f0f921"
            ]
           ]
          },
          "colorway": [
           "#636efa",
           "#EF553B",
           "#00cc96",
           "#ab63fa",
           "#FFA15A",
           "#19d3f3",
           "#FF6692",
           "#B6E880",
           "#FF97FF",
           "#FECB52"
          ],
          "font": {
           "color": "#2a3f5f"
          },
          "geo": {
           "bgcolor": "white",
           "lakecolor": "white",
           "landcolor": "#E5ECF6",
           "showlakes": true,
           "showland": true,
           "subunitcolor": "white"
          },
          "hoverlabel": {
           "align": "left"
          },
          "hovermode": "closest",
          "mapbox": {
           "style": "light"
          },
          "paper_bgcolor": "white",
          "plot_bgcolor": "#E5ECF6",
          "polar": {
           "angularaxis": {
            "gridcolor": "white",
            "linecolor": "white",
            "ticks": ""
           },
           "bgcolor": "#E5ECF6",
           "radialaxis": {
            "gridcolor": "white",
            "linecolor": "white",
            "ticks": ""
           }
          },
          "scene": {
           "xaxis": {
            "backgroundcolor": "#E5ECF6",
            "gridcolor": "white",
            "gridwidth": 2,
            "linecolor": "white",
            "showbackground": true,
            "ticks": "",
            "zerolinecolor": "white"
           },
           "yaxis": {
            "backgroundcolor": "#E5ECF6",
            "gridcolor": "white",
            "gridwidth": 2,
            "linecolor": "white",
            "showbackground": true,
            "ticks": "",
            "zerolinecolor": "white"
           },
           "zaxis": {
            "backgroundcolor": "#E5ECF6",
            "gridcolor": "white",
            "gridwidth": 2,
            "linecolor": "white",
            "showbackground": true,
            "ticks": "",
            "zerolinecolor": "white"
           }
          },
          "shapedefaults": {
           "line": {
            "color": "#2a3f5f"
           }
          },
          "ternary": {
           "aaxis": {
            "gridcolor": "white",
            "linecolor": "white",
            "ticks": ""
           },
           "baxis": {
            "gridcolor": "white",
            "linecolor": "white",
            "ticks": ""
           },
           "bgcolor": "#E5ECF6",
           "caxis": {
            "gridcolor": "white",
            "linecolor": "white",
            "ticks": ""
           }
          },
          "title": {
           "x": 0.05
          },
          "xaxis": {
           "automargin": true,
           "gridcolor": "white",
           "linecolor": "white",
           "ticks": "",
           "title": {
            "standoff": 15
           },
           "zerolinecolor": "white",
           "zerolinewidth": 2
          },
          "yaxis": {
           "automargin": true,
           "gridcolor": "white",
           "linecolor": "white",
           "ticks": "",
           "title": {
            "standoff": 15
           },
           "zerolinecolor": "white",
           "zerolinewidth": 2
          }
         }
        },
        "title": {
         "text": "Top 20 sold Items (2014-2015)",
         "x": 0.5,
         "y": 0.87
        },
        "xaxis": {
         "anchor": "y",
         "domain": [
          0,
          1
         ],
         "title": {
          "text": "Item"
         }
        },
        "yaxis": {
         "anchor": "x",
         "domain": [
          0,
          1
         ],
         "title": {
          "text": "Quantity"
         }
        }
       }
      },
      "text/html": [
       "<div>                            <div id=\"4b2324be-c14b-4dbe-ae4d-809a28a23352\" class=\"plotly-graph-div\" style=\"height:525px; width:100%;\"></div>            <script type=\"text/javascript\">                require([\"plotly\"], function(Plotly) {                    window.PLOTLYENV=window.PLOTLYENV || {};                                    if (document.getElementById(\"4b2324be-c14b-4dbe-ae4d-809a28a23352\")) {                    Plotly.newPlot(                        \"4b2324be-c14b-4dbe-ae4d-809a28a23352\",                        [{\"alignmentgroup\":\"True\",\"hovertemplate\":\"Item=%{x}<br>Quantity=%{y}<br>color=%{marker.color}<extra></extra>\",\"legendgroup\":\"\",\"marker\":{\"color\":[2502,1898,1716,1514,1334,1071,1032,933,924,812,785,744,731,717,687,662,596,580,571,566],\"coloraxis\":\"coloraxis\",\"pattern\":{\"shape\":\"\"}},\"name\":\"\",\"offsetgroup\":\"\",\"orientation\":\"v\",\"showlegend\":false,\"textposition\":\"auto\",\"x\":[\"whole milk\",\"other vegetables\",\"rolls/buns\",\"soda\",\"yogurt\",\"root vegetables\",\"tropical fruit\",\"bottled water\",\"sausage\",\"citrus fruit\",\"pastry\",\"pip fruit\",\"shopping bags\",\"canned beer\",\"bottled beer\",\"whipped/sour cream\",\"newspapers\",\"frankfurter\",\"brown bread\",\"pork\"],\"xaxis\":\"x\",\"y\":[2502,1898,1716,1514,1334,1071,1032,933,924,812,785,744,731,717,687,662,596,580,571,566],\"yaxis\":\"y\",\"type\":\"bar\"}],                        {\"template\":{\"data\":{\"bar\":[{\"error_x\":{\"color\":\"#2a3f5f\"},\"error_y\":{\"color\":\"#2a3f5f\"},\"marker\":{\"line\":{\"color\":\"#E5ECF6\",\"width\":0.5},\"pattern\":{\"fillmode\":\"overlay\",\"size\":10,\"solidity\":0.2}},\"type\":\"bar\"}],\"barpolar\":[{\"marker\":{\"line\":{\"color\":\"#E5ECF6\",\"width\":0.5},\"pattern\":{\"fillmode\":\"overlay\",\"size\":10,\"solidity\":0.2}},\"type\":\"barpolar\"}],\"carpet\":[{\"aaxis\":{\"endlinecolor\":\"#2a3f5f\",\"gridcolor\":\"white\",\"linecolor\":\"white\",\"minorgridcolor\":\"white\",\"startlinecolor\":\"#2a3f5f\"},\"baxis\":{\"endlinecolor\":\"#2a3f5f\",\"gridcolor\":\"white\",\"linecolor\":\"white\",\"minorgridcolor\":\"white\",\"startlinecolor\":\"#2a3f5f\"},\"type\":\"carpet\"}],\"choropleth\":[{\"colorbar\":{\"outlinewidth\":0,\"ticks\":\"\"},\"type\":\"choropleth\"}],\"contour\":[{\"colorbar\":{\"outlinewidth\":0,\"ticks\":\"\"},\"colorscale\":[[0.0,\"#0d0887\"],[0.1111111111111111,\"#46039f\"],[0.2222222222222222,\"#7201a8\"],[0.3333333333333333,\"#9c179e\"],[0.4444444444444444,\"#bd3786\"],[0.5555555555555556,\"#d8576b\"],[0.6666666666666666,\"#ed7953\"],[0.7777777777777778,\"#fb9f3a\"],[0.8888888888888888,\"#fdca26\"],[1.0,\"#f0f921\"]],\"type\":\"contour\"}],\"contourcarpet\":[{\"colorbar\":{\"outlinewidth\":0,\"ticks\":\"\"},\"type\":\"contourcarpet\"}],\"heatmap\":[{\"colorbar\":{\"outlinewidth\":0,\"ticks\":\"\"},\"colorscale\":[[0.0,\"#0d0887\"],[0.1111111111111111,\"#46039f\"],[0.2222222222222222,\"#7201a8\"],[0.3333333333333333,\"#9c179e\"],[0.4444444444444444,\"#bd3786\"],[0.5555555555555556,\"#d8576b\"],[0.6666666666666666,\"#ed7953\"],[0.7777777777777778,\"#fb9f3a\"],[0.8888888888888888,\"#fdca26\"],[1.0,\"#f0f921\"]],\"type\":\"heatmap\"}],\"heatmapgl\":[{\"colorbar\":{\"outlinewidth\":0,\"ticks\":\"\"},\"colorscale\":[[0.0,\"#0d0887\"],[0.1111111111111111,\"#46039f\"],[0.2222222222222222,\"#7201a8\"],[0.3333333333333333,\"#9c179e\"],[0.4444444444444444,\"#bd3786\"],[0.5555555555555556,\"#d8576b\"],[0.6666666666666666,\"#ed7953\"],[0.7777777777777778,\"#fb9f3a\"],[0.8888888888888888,\"#fdca26\"],[1.0,\"#f0f921\"]],\"type\":\"heatmapgl\"}],\"histogram\":[{\"marker\":{\"pattern\":{\"fillmode\":\"overlay\",\"size\":10,\"solidity\":0.2}},\"type\":\"histogram\"}],\"histogram2d\":[{\"colorbar\":{\"outlinewidth\":0,\"ticks\":\"\"},\"colorscale\":[[0.0,\"#0d0887\"],[0.1111111111111111,\"#46039f\"],[0.2222222222222222,\"#7201a8\"],[0.3333333333333333,\"#9c179e\"],[0.4444444444444444,\"#bd3786\"],[0.5555555555555556,\"#d8576b\"],[0.6666666666666666,\"#ed7953\"],[0.7777777777777778,\"#fb9f3a\"],[0.8888888888888888,\"#fdca26\"],[1.0,\"#f0f921\"]],\"type\":\"histogram2d\"}],\"histogram2dcontour\":[{\"colorbar\":{\"outlinewidth\":0,\"ticks\":\"\"},\"colorscale\":[[0.0,\"#0d0887\"],[0.1111111111111111,\"#46039f\"],[0.2222222222222222,\"#7201a8\"],[0.3333333333333333,\"#9c179e\"],[0.4444444444444444,\"#bd3786\"],[0.5555555555555556,\"#d8576b\"],[0.6666666666666666,\"#ed7953\"],[0.7777777777777778,\"#fb9f3a\"],[0.8888888888888888,\"#fdca26\"],[1.0,\"#f0f921\"]],\"type\":\"histogram2dcontour\"}],\"mesh3d\":[{\"colorbar\":{\"outlinewidth\":0,\"ticks\":\"\"},\"type\":\"mesh3d\"}],\"parcoords\":[{\"line\":{\"colorbar\":{\"outlinewidth\":0,\"ticks\":\"\"}},\"type\":\"parcoords\"}],\"pie\":[{\"automargin\":true,\"type\":\"pie\"}],\"scatter\":[{\"marker\":{\"colorbar\":{\"outlinewidth\":0,\"ticks\":\"\"}},\"type\":\"scatter\"}],\"scatter3d\":[{\"line\":{\"colorbar\":{\"outlinewidth\":0,\"ticks\":\"\"}},\"marker\":{\"colorbar\":{\"outlinewidth\":0,\"ticks\":\"\"}},\"type\":\"scatter3d\"}],\"scattercarpet\":[{\"marker\":{\"colorbar\":{\"outlinewidth\":0,\"ticks\":\"\"}},\"type\":\"scattercarpet\"}],\"scattergeo\":[{\"marker\":{\"colorbar\":{\"outlinewidth\":0,\"ticks\":\"\"}},\"type\":\"scattergeo\"}],\"scattergl\":[{\"marker\":{\"colorbar\":{\"outlinewidth\":0,\"ticks\":\"\"}},\"type\":\"scattergl\"}],\"scattermapbox\":[{\"marker\":{\"colorbar\":{\"outlinewidth\":0,\"ticks\":\"\"}},\"type\":\"scattermapbox\"}],\"scatterpolar\":[{\"marker\":{\"colorbar\":{\"outlinewidth\":0,\"ticks\":\"\"}},\"type\":\"scatterpolar\"}],\"scatterpolargl\":[{\"marker\":{\"colorbar\":{\"outlinewidth\":0,\"ticks\":\"\"}},\"type\":\"scatterpolargl\"}],\"scatterternary\":[{\"marker\":{\"colorbar\":{\"outlinewidth\":0,\"ticks\":\"\"}},\"type\":\"scatterternary\"}],\"surface\":[{\"colorbar\":{\"outlinewidth\":0,\"ticks\":\"\"},\"colorscale\":[[0.0,\"#0d0887\"],[0.1111111111111111,\"#46039f\"],[0.2222222222222222,\"#7201a8\"],[0.3333333333333333,\"#9c179e\"],[0.4444444444444444,\"#bd3786\"],[0.5555555555555556,\"#d8576b\"],[0.6666666666666666,\"#ed7953\"],[0.7777777777777778,\"#fb9f3a\"],[0.8888888888888888,\"#fdca26\"],[1.0,\"#f0f921\"]],\"type\":\"surface\"}],\"table\":[{\"cells\":{\"fill\":{\"color\":\"#EBF0F8\"},\"line\":{\"color\":\"white\"}},\"header\":{\"fill\":{\"color\":\"#C8D4E3\"},\"line\":{\"color\":\"white\"}},\"type\":\"table\"}]},\"layout\":{\"annotationdefaults\":{\"arrowcolor\":\"#2a3f5f\",\"arrowhead\":0,\"arrowwidth\":1},\"autotypenumbers\":\"strict\",\"coloraxis\":{\"colorbar\":{\"outlinewidth\":0,\"ticks\":\"\"}},\"colorscale\":{\"diverging\":[[0,\"#8e0152\"],[0.1,\"#c51b7d\"],[0.2,\"#de77ae\"],[0.3,\"#f1b6da\"],[0.4,\"#fde0ef\"],[0.5,\"#f7f7f7\"],[0.6,\"#e6f5d0\"],[0.7,\"#b8e186\"],[0.8,\"#7fbc41\"],[0.9,\"#4d9221\"],[1,\"#276419\"]],\"sequential\":[[0.0,\"#0d0887\"],[0.1111111111111111,\"#46039f\"],[0.2222222222222222,\"#7201a8\"],[0.3333333333333333,\"#9c179e\"],[0.4444444444444444,\"#bd3786\"],[0.5555555555555556,\"#d8576b\"],[0.6666666666666666,\"#ed7953\"],[0.7777777777777778,\"#fb9f3a\"],[0.8888888888888888,\"#fdca26\"],[1.0,\"#f0f921\"]],\"sequentialminus\":[[0.0,\"#0d0887\"],[0.1111111111111111,\"#46039f\"],[0.2222222222222222,\"#7201a8\"],[0.3333333333333333,\"#9c179e\"],[0.4444444444444444,\"#bd3786\"],[0.5555555555555556,\"#d8576b\"],[0.6666666666666666,\"#ed7953\"],[0.7777777777777778,\"#fb9f3a\"],[0.8888888888888888,\"#fdca26\"],[1.0,\"#f0f921\"]]},\"colorway\":[\"#636efa\",\"#EF553B\",\"#00cc96\",\"#ab63fa\",\"#FFA15A\",\"#19d3f3\",\"#FF6692\",\"#B6E880\",\"#FF97FF\",\"#FECB52\"],\"font\":{\"color\":\"#2a3f5f\"},\"geo\":{\"bgcolor\":\"white\",\"lakecolor\":\"white\",\"landcolor\":\"#E5ECF6\",\"showlakes\":true,\"showland\":true,\"subunitcolor\":\"white\"},\"hoverlabel\":{\"align\":\"left\"},\"hovermode\":\"closest\",\"mapbox\":{\"style\":\"light\"},\"paper_bgcolor\":\"white\",\"plot_bgcolor\":\"#E5ECF6\",\"polar\":{\"angularaxis\":{\"gridcolor\":\"white\",\"linecolor\":\"white\",\"ticks\":\"\"},\"bgcolor\":\"#E5ECF6\",\"radialaxis\":{\"gridcolor\":\"white\",\"linecolor\":\"white\",\"ticks\":\"\"}},\"scene\":{\"xaxis\":{\"backgroundcolor\":\"#E5ECF6\",\"gridcolor\":\"white\",\"gridwidth\":2,\"linecolor\":\"white\",\"showbackground\":true,\"ticks\":\"\",\"zerolinecolor\":\"white\"},\"yaxis\":{\"backgroundcolor\":\"#E5ECF6\",\"gridcolor\":\"white\",\"gridwidth\":2,\"linecolor\":\"white\",\"showbackground\":true,\"ticks\":\"\",\"zerolinecolor\":\"white\"},\"zaxis\":{\"backgroundcolor\":\"#E5ECF6\",\"gridcolor\":\"white\",\"gridwidth\":2,\"linecolor\":\"white\",\"showbackground\":true,\"ticks\":\"\",\"zerolinecolor\":\"white\"}},\"shapedefaults\":{\"line\":{\"color\":\"#2a3f5f\"}},\"ternary\":{\"aaxis\":{\"gridcolor\":\"white\",\"linecolor\":\"white\",\"ticks\":\"\"},\"baxis\":{\"gridcolor\":\"white\",\"linecolor\":\"white\",\"ticks\":\"\"},\"bgcolor\":\"#E5ECF6\",\"caxis\":{\"gridcolor\":\"white\",\"linecolor\":\"white\",\"ticks\":\"\"}},\"title\":{\"x\":0.05},\"xaxis\":{\"automargin\":true,\"gridcolor\":\"white\",\"linecolor\":\"white\",\"ticks\":\"\",\"title\":{\"standoff\":15},\"zerolinecolor\":\"white\",\"zerolinewidth\":2},\"yaxis\":{\"automargin\":true,\"gridcolor\":\"white\",\"linecolor\":\"white\",\"ticks\":\"\",\"title\":{\"standoff\":15},\"zerolinecolor\":\"white\",\"zerolinewidth\":2}}},\"xaxis\":{\"anchor\":\"y\",\"domain\":[0.0,1.0],\"title\":{\"text\":\"Item\"}},\"yaxis\":{\"anchor\":\"x\",\"domain\":[0.0,1.0],\"title\":{\"text\":\"Quantity\"}},\"coloraxis\":{\"colorbar\":{\"title\":{\"text\":\"color\"}},\"colorscale\":[[0.0,\"#0d0887\"],[0.1111111111111111,\"#46039f\"],[0.2222222222222222,\"#7201a8\"],[0.3333333333333333,\"#9c179e\"],[0.4444444444444444,\"#bd3786\"],[0.5555555555555556,\"#d8576b\"],[0.6666666666666666,\"#ed7953\"],[0.7777777777777778,\"#fb9f3a\"],[0.8888888888888888,\"#fdca26\"],[1.0,\"#f0f921\"]]},\"legend\":{\"tracegroupgap\":0},\"title\":{\"text\":\"Top 20 sold Items (2014-2015)\",\"x\":0.5,\"y\":0.87},\"barmode\":\"relative\"},                        {\"responsive\": true}                    ).then(function(){\n",
       "                            \n",
       "var gd = document.getElementById('4b2324be-c14b-4dbe-ae4d-809a28a23352');\n",
       "var x = new MutationObserver(function (mutations, observer) {{\n",
       "        var display = window.getComputedStyle(gd).display;\n",
       "        if (!display || display === 'none') {{\n",
       "            console.log([gd, 'removed!']);\n",
       "            Plotly.purge(gd);\n",
       "            observer.disconnect();\n",
       "        }}\n",
       "}});\n",
       "\n",
       "// Listen for the removal of the full notebook cells\n",
       "var notebookContainer = gd.closest('#notebook-container');\n",
       "if (notebookContainer) {{\n",
       "    x.observe(notebookContainer, {childList: true});\n",
       "}}\n",
       "\n",
       "// Listen for the clearing of the current output cell\n",
       "var outputEl = gd.closest('.output');\n",
       "if (outputEl) {{\n",
       "    x.observe(outputEl, {childList: true});\n",
       "}}\n",
       "\n",
       "                        })                };                });            </script>        </div>"
      ]
     },
     "metadata": {},
     "output_type": "display_data"
    }
   ],
   "source": [
    "#showing the Top 20 most bought item for the combine year 2014 and 2015\n",
    "freq_item = df['itemDescription'].value_counts().head(20)\n",
    "\n",
    "#plot the top 20 most frequent item\n",
    "fig = px.bar(data_frame=freq_item, title = 'Top 20 sold Items (2014-2015)', color = freq_item,\n",
    "            labels = {'index':'Item',\n",
    "                      'value':'Quantity'})\n",
    "fig.update_layout(title_x=0.5, title_y=0.87)\n",
    "fig"
   ]
  },
  {
   "cell_type": "markdown",
   "id": "7d8cc975",
   "metadata": {},
   "source": [
    "The above bar chart shows the products with the most sales, with <i><b>whole milk, other vegetables, rolls/buns, soda and yougurt</b></i> being their <b>top 5 selling products</b>."
   ]
  },
  {
   "cell_type": "code",
   "execution_count": 49,
   "id": "17bf379e",
   "metadata": {},
   "outputs": [
    {
     "data": {
      "text/html": [
       "<div>\n",
       "<style scoped>\n",
       "    .dataframe tbody tr th:only-of-type {\n",
       "        vertical-align: middle;\n",
       "    }\n",
       "\n",
       "    .dataframe tbody tr th {\n",
       "        vertical-align: top;\n",
       "    }\n",
       "\n",
       "    .dataframe thead th {\n",
       "        text-align: right;\n",
       "    }\n",
       "</style>\n",
       "<table border=\"1\" class=\"dataframe\">\n",
       "  <thead>\n",
       "    <tr style=\"text-align: right;\">\n",
       "      <th></th>\n",
       "      <th>Member_number</th>\n",
       "      <th>Date</th>\n",
       "      <th>itemDescription</th>\n",
       "      <th>year</th>\n",
       "      <th>month</th>\n",
       "      <th>day</th>\n",
       "      <th>day_of_week</th>\n",
       "    </tr>\n",
       "  </thead>\n",
       "  <tbody>\n",
       "    <tr>\n",
       "      <th>0</th>\n",
       "      <td>1808</td>\n",
       "      <td>2015-07-21</td>\n",
       "      <td>tropical fruit</td>\n",
       "      <td>2015</td>\n",
       "      <td>7</td>\n",
       "      <td>21</td>\n",
       "      <td>1</td>\n",
       "    </tr>\n",
       "    <tr>\n",
       "      <th>1</th>\n",
       "      <td>2552</td>\n",
       "      <td>2015-05-01</td>\n",
       "      <td>whole milk</td>\n",
       "      <td>2015</td>\n",
       "      <td>5</td>\n",
       "      <td>1</td>\n",
       "      <td>4</td>\n",
       "    </tr>\n",
       "    <tr>\n",
       "      <th>2</th>\n",
       "      <td>2300</td>\n",
       "      <td>2015-09-19</td>\n",
       "      <td>pip fruit</td>\n",
       "      <td>2015</td>\n",
       "      <td>9</td>\n",
       "      <td>19</td>\n",
       "      <td>5</td>\n",
       "    </tr>\n",
       "    <tr>\n",
       "      <th>3</th>\n",
       "      <td>1187</td>\n",
       "      <td>2015-12-12</td>\n",
       "      <td>other vegetables</td>\n",
       "      <td>2015</td>\n",
       "      <td>12</td>\n",
       "      <td>12</td>\n",
       "      <td>5</td>\n",
       "    </tr>\n",
       "    <tr>\n",
       "      <th>4</th>\n",
       "      <td>3037</td>\n",
       "      <td>2015-01-02</td>\n",
       "      <td>whole milk</td>\n",
       "      <td>2015</td>\n",
       "      <td>1</td>\n",
       "      <td>2</td>\n",
       "      <td>4</td>\n",
       "    </tr>\n",
       "  </tbody>\n",
       "</table>\n",
       "</div>"
      ],
      "text/plain": [
       "   Member_number       Date   itemDescription  year  month  day  day_of_week\n",
       "0           1808 2015-07-21    tropical fruit  2015      7   21            1\n",
       "1           2552 2015-05-01        whole milk  2015      5    1            4\n",
       "2           2300 2015-09-19         pip fruit  2015      9   19            5\n",
       "3           1187 2015-12-12  other vegetables  2015     12   12            5\n",
       "4           3037 2015-01-02        whole milk  2015      1    2            4"
      ]
     },
     "execution_count": 49,
     "metadata": {},
     "output_type": "execute_result"
    }
   ],
   "source": [
    "df.head()"
   ]
  },
  {
   "cell_type": "code",
   "execution_count": 50,
   "id": "03637f74",
   "metadata": {},
   "outputs": [],
   "source": [
    "# creating a new dataframe by filtering out by years\n",
    "df14 = df[df['year'] == 2014]\n",
    "df15 = df[df['year'] == 2015]"
   ]
  },
  {
   "cell_type": "code",
   "execution_count": 51,
   "id": "86f29055",
   "metadata": {},
   "outputs": [
    {
     "name": "stderr",
     "output_type": "stream",
     "text": [
      "C:\\Users\\Richard\\anaconda3\\lib\\site-packages\\plotly\\io\\_renderers.py:396: DeprecationWarning:\n",
      "\n",
      "distutils Version classes are deprecated. Use packaging.version instead.\n",
      "\n",
      "C:\\Users\\Richard\\anaconda3\\lib\\site-packages\\plotly\\io\\_renderers.py:396: DeprecationWarning:\n",
      "\n",
      "distutils Version classes are deprecated. Use packaging.version instead.\n",
      "\n"
     ]
    },
    {
     "data": {
      "application/vnd.plotly.v1+json": {
       "config": {
        "plotlyServerURL": "https://plot.ly"
       },
       "data": [
        {
         "hovertemplate": "Months=%{x}<br>Quantity=%{y}<extra></extra>",
         "legendgroup": "",
         "line": {
          "color": "#636efa",
          "dash": "solid"
         },
         "marker": {
          "symbol": "circle"
         },
         "mode": "lines",
         "name": "",
         "orientation": "v",
         "showlegend": false,
         "type": "scatter",
         "x": [
          "Jan",
          "Feb",
          "Mar",
          "Apr",
          "May",
          "Jun",
          "Jul",
          "Aug",
          "Sep",
          "Oct",
          "Nov",
          "Dec"
         ],
         "xaxis": "x",
         "y": [
          3333,
          3032,
          3283,
          3172,
          3335,
          3316,
          3268,
          3498,
          2963,
          3218,
          3273,
          3074
         ],
         "yaxis": "y"
        }
       ],
       "layout": {
        "legend": {
         "tracegroupgap": 0
        },
        "template": {
         "data": {
          "bar": [
           {
            "error_x": {
             "color": "#2a3f5f"
            },
            "error_y": {
             "color": "#2a3f5f"
            },
            "marker": {
             "line": {
              "color": "#E5ECF6",
              "width": 0.5
             },
             "pattern": {
              "fillmode": "overlay",
              "size": 10,
              "solidity": 0.2
             }
            },
            "type": "bar"
           }
          ],
          "barpolar": [
           {
            "marker": {
             "line": {
              "color": "#E5ECF6",
              "width": 0.5
             },
             "pattern": {
              "fillmode": "overlay",
              "size": 10,
              "solidity": 0.2
             }
            },
            "type": "barpolar"
           }
          ],
          "carpet": [
           {
            "aaxis": {
             "endlinecolor": "#2a3f5f",
             "gridcolor": "white",
             "linecolor": "white",
             "minorgridcolor": "white",
             "startlinecolor": "#2a3f5f"
            },
            "baxis": {
             "endlinecolor": "#2a3f5f",
             "gridcolor": "white",
             "linecolor": "white",
             "minorgridcolor": "white",
             "startlinecolor": "#2a3f5f"
            },
            "type": "carpet"
           }
          ],
          "choropleth": [
           {
            "colorbar": {
             "outlinewidth": 0,
             "ticks": ""
            },
            "type": "choropleth"
           }
          ],
          "contour": [
           {
            "colorbar": {
             "outlinewidth": 0,
             "ticks": ""
            },
            "colorscale": [
             [
              0,
              "#0d0887"
             ],
             [
              0.1111111111111111,
              "#46039f"
             ],
             [
              0.2222222222222222,
              "#7201a8"
             ],
             [
              0.3333333333333333,
              "#9c179e"
             ],
             [
              0.4444444444444444,
              "#bd3786"
             ],
             [
              0.5555555555555556,
              "#d8576b"
             ],
             [
              0.6666666666666666,
              "#ed7953"
             ],
             [
              0.7777777777777778,
              "#fb9f3a"
             ],
             [
              0.8888888888888888,
              "#fdca26"
             ],
             [
              1,
              "#f0f921"
             ]
            ],
            "type": "contour"
           }
          ],
          "contourcarpet": [
           {
            "colorbar": {
             "outlinewidth": 0,
             "ticks": ""
            },
            "type": "contourcarpet"
           }
          ],
          "heatmap": [
           {
            "colorbar": {
             "outlinewidth": 0,
             "ticks": ""
            },
            "colorscale": [
             [
              0,
              "#0d0887"
             ],
             [
              0.1111111111111111,
              "#46039f"
             ],
             [
              0.2222222222222222,
              "#7201a8"
             ],
             [
              0.3333333333333333,
              "#9c179e"
             ],
             [
              0.4444444444444444,
              "#bd3786"
             ],
             [
              0.5555555555555556,
              "#d8576b"
             ],
             [
              0.6666666666666666,
              "#ed7953"
             ],
             [
              0.7777777777777778,
              "#fb9f3a"
             ],
             [
              0.8888888888888888,
              "#fdca26"
             ],
             [
              1,
              "#f0f921"
             ]
            ],
            "type": "heatmap"
           }
          ],
          "heatmapgl": [
           {
            "colorbar": {
             "outlinewidth": 0,
             "ticks": ""
            },
            "colorscale": [
             [
              0,
              "#0d0887"
             ],
             [
              0.1111111111111111,
              "#46039f"
             ],
             [
              0.2222222222222222,
              "#7201a8"
             ],
             [
              0.3333333333333333,
              "#9c179e"
             ],
             [
              0.4444444444444444,
              "#bd3786"
             ],
             [
              0.5555555555555556,
              "#d8576b"
             ],
             [
              0.6666666666666666,
              "#ed7953"
             ],
             [
              0.7777777777777778,
              "#fb9f3a"
             ],
             [
              0.8888888888888888,
              "#fdca26"
             ],
             [
              1,
              "#f0f921"
             ]
            ],
            "type": "heatmapgl"
           }
          ],
          "histogram": [
           {
            "marker": {
             "pattern": {
              "fillmode": "overlay",
              "size": 10,
              "solidity": 0.2
             }
            },
            "type": "histogram"
           }
          ],
          "histogram2d": [
           {
            "colorbar": {
             "outlinewidth": 0,
             "ticks": ""
            },
            "colorscale": [
             [
              0,
              "#0d0887"
             ],
             [
              0.1111111111111111,
              "#46039f"
             ],
             [
              0.2222222222222222,
              "#7201a8"
             ],
             [
              0.3333333333333333,
              "#9c179e"
             ],
             [
              0.4444444444444444,
              "#bd3786"
             ],
             [
              0.5555555555555556,
              "#d8576b"
             ],
             [
              0.6666666666666666,
              "#ed7953"
             ],
             [
              0.7777777777777778,
              "#fb9f3a"
             ],
             [
              0.8888888888888888,
              "#fdca26"
             ],
             [
              1,
              "#f0f921"
             ]
            ],
            "type": "histogram2d"
           }
          ],
          "histogram2dcontour": [
           {
            "colorbar": {
             "outlinewidth": 0,
             "ticks": ""
            },
            "colorscale": [
             [
              0,
              "#0d0887"
             ],
             [
              0.1111111111111111,
              "#46039f"
             ],
             [
              0.2222222222222222,
              "#7201a8"
             ],
             [
              0.3333333333333333,
              "#9c179e"
             ],
             [
              0.4444444444444444,
              "#bd3786"
             ],
             [
              0.5555555555555556,
              "#d8576b"
             ],
             [
              0.6666666666666666,
              "#ed7953"
             ],
             [
              0.7777777777777778,
              "#fb9f3a"
             ],
             [
              0.8888888888888888,
              "#fdca26"
             ],
             [
              1,
              "#f0f921"
             ]
            ],
            "type": "histogram2dcontour"
           }
          ],
          "mesh3d": [
           {
            "colorbar": {
             "outlinewidth": 0,
             "ticks": ""
            },
            "type": "mesh3d"
           }
          ],
          "parcoords": [
           {
            "line": {
             "colorbar": {
              "outlinewidth": 0,
              "ticks": ""
             }
            },
            "type": "parcoords"
           }
          ],
          "pie": [
           {
            "automargin": true,
            "type": "pie"
           }
          ],
          "scatter": [
           {
            "marker": {
             "colorbar": {
              "outlinewidth": 0,
              "ticks": ""
             }
            },
            "type": "scatter"
           }
          ],
          "scatter3d": [
           {
            "line": {
             "colorbar": {
              "outlinewidth": 0,
              "ticks": ""
             }
            },
            "marker": {
             "colorbar": {
              "outlinewidth": 0,
              "ticks": ""
             }
            },
            "type": "scatter3d"
           }
          ],
          "scattercarpet": [
           {
            "marker": {
             "colorbar": {
              "outlinewidth": 0,
              "ticks": ""
             }
            },
            "type": "scattercarpet"
           }
          ],
          "scattergeo": [
           {
            "marker": {
             "colorbar": {
              "outlinewidth": 0,
              "ticks": ""
             }
            },
            "type": "scattergeo"
           }
          ],
          "scattergl": [
           {
            "marker": {
             "colorbar": {
              "outlinewidth": 0,
              "ticks": ""
             }
            },
            "type": "scattergl"
           }
          ],
          "scattermapbox": [
           {
            "marker": {
             "colorbar": {
              "outlinewidth": 0,
              "ticks": ""
             }
            },
            "type": "scattermapbox"
           }
          ],
          "scatterpolar": [
           {
            "marker": {
             "colorbar": {
              "outlinewidth": 0,
              "ticks": ""
             }
            },
            "type": "scatterpolar"
           }
          ],
          "scatterpolargl": [
           {
            "marker": {
             "colorbar": {
              "outlinewidth": 0,
              "ticks": ""
             }
            },
            "type": "scatterpolargl"
           }
          ],
          "scatterternary": [
           {
            "marker": {
             "colorbar": {
              "outlinewidth": 0,
              "ticks": ""
             }
            },
            "type": "scatterternary"
           }
          ],
          "surface": [
           {
            "colorbar": {
             "outlinewidth": 0,
             "ticks": ""
            },
            "colorscale": [
             [
              0,
              "#0d0887"
             ],
             [
              0.1111111111111111,
              "#46039f"
             ],
             [
              0.2222222222222222,
              "#7201a8"
             ],
             [
              0.3333333333333333,
              "#9c179e"
             ],
             [
              0.4444444444444444,
              "#bd3786"
             ],
             [
              0.5555555555555556,
              "#d8576b"
             ],
             [
              0.6666666666666666,
              "#ed7953"
             ],
             [
              0.7777777777777778,
              "#fb9f3a"
             ],
             [
              0.8888888888888888,
              "#fdca26"
             ],
             [
              1,
              "#f0f921"
             ]
            ],
            "type": "surface"
           }
          ],
          "table": [
           {
            "cells": {
             "fill": {
              "color": "#EBF0F8"
             },
             "line": {
              "color": "white"
             }
            },
            "header": {
             "fill": {
              "color": "#C8D4E3"
             },
             "line": {
              "color": "white"
             }
            },
            "type": "table"
           }
          ]
         },
         "layout": {
          "annotationdefaults": {
           "arrowcolor": "#2a3f5f",
           "arrowhead": 0,
           "arrowwidth": 1
          },
          "autotypenumbers": "strict",
          "coloraxis": {
           "colorbar": {
            "outlinewidth": 0,
            "ticks": ""
           }
          },
          "colorscale": {
           "diverging": [
            [
             0,
             "#8e0152"
            ],
            [
             0.1,
             "#c51b7d"
            ],
            [
             0.2,
             "#de77ae"
            ],
            [
             0.3,
             "#f1b6da"
            ],
            [
             0.4,
             "#fde0ef"
            ],
            [
             0.5,
             "#f7f7f7"
            ],
            [
             0.6,
             "#e6f5d0"
            ],
            [
             0.7,
             "#b8e186"
            ],
            [
             0.8,
             "#7fbc41"
            ],
            [
             0.9,
             "#4d9221"
            ],
            [
             1,
             "#276419"
            ]
           ],
           "sequential": [
            [
             0,
             "#0d0887"
            ],
            [
             0.1111111111111111,
             "#46039f"
            ],
            [
             0.2222222222222222,
             "#7201a8"
            ],
            [
             0.3333333333333333,
             "#9c179e"
            ],
            [
             0.4444444444444444,
             "#bd3786"
            ],
            [
             0.5555555555555556,
             "#d8576b"
            ],
            [
             0.6666666666666666,
             "#ed7953"
            ],
            [
             0.7777777777777778,
             "#fb9f3a"
            ],
            [
             0.8888888888888888,
             "#fdca26"
            ],
            [
             1,
             "#f0f921"
            ]
           ],
           "sequentialminus": [
            [
             0,
             "#0d0887"
            ],
            [
             0.1111111111111111,
             "#46039f"
            ],
            [
             0.2222222222222222,
             "#7201a8"
            ],
            [
             0.3333333333333333,
             "#9c179e"
            ],
            [
             0.4444444444444444,
             "#bd3786"
            ],
            [
             0.5555555555555556,
             "#d8576b"
            ],
            [
             0.6666666666666666,
             "#ed7953"
            ],
            [
             0.7777777777777778,
             "#fb9f3a"
            ],
            [
             0.8888888888888888,
             "#fdca26"
            ],
            [
             1,
             "#f0f921"
            ]
           ]
          },
          "colorway": [
           "#636efa",
           "#EF553B",
           "#00cc96",
           "#ab63fa",
           "#FFA15A",
           "#19d3f3",
           "#FF6692",
           "#B6E880",
           "#FF97FF",
           "#FECB52"
          ],
          "font": {
           "color": "#2a3f5f"
          },
          "geo": {
           "bgcolor": "white",
           "lakecolor": "white",
           "landcolor": "#E5ECF6",
           "showlakes": true,
           "showland": true,
           "subunitcolor": "white"
          },
          "hoverlabel": {
           "align": "left"
          },
          "hovermode": "closest",
          "mapbox": {
           "style": "light"
          },
          "paper_bgcolor": "white",
          "plot_bgcolor": "#E5ECF6",
          "polar": {
           "angularaxis": {
            "gridcolor": "white",
            "linecolor": "white",
            "ticks": ""
           },
           "bgcolor": "#E5ECF6",
           "radialaxis": {
            "gridcolor": "white",
            "linecolor": "white",
            "ticks": ""
           }
          },
          "scene": {
           "xaxis": {
            "backgroundcolor": "#E5ECF6",
            "gridcolor": "white",
            "gridwidth": 2,
            "linecolor": "white",
            "showbackground": true,
            "ticks": "",
            "zerolinecolor": "white"
           },
           "yaxis": {
            "backgroundcolor": "#E5ECF6",
            "gridcolor": "white",
            "gridwidth": 2,
            "linecolor": "white",
            "showbackground": true,
            "ticks": "",
            "zerolinecolor": "white"
           },
           "zaxis": {
            "backgroundcolor": "#E5ECF6",
            "gridcolor": "white",
            "gridwidth": 2,
            "linecolor": "white",
            "showbackground": true,
            "ticks": "",
            "zerolinecolor": "white"
           }
          },
          "shapedefaults": {
           "line": {
            "color": "#2a3f5f"
           }
          },
          "ternary": {
           "aaxis": {
            "gridcolor": "white",
            "linecolor": "white",
            "ticks": ""
           },
           "baxis": {
            "gridcolor": "white",
            "linecolor": "white",
            "ticks": ""
           },
           "bgcolor": "#E5ECF6",
           "caxis": {
            "gridcolor": "white",
            "linecolor": "white",
            "ticks": ""
           }
          },
          "title": {
           "x": 0.05
          },
          "xaxis": {
           "automargin": true,
           "gridcolor": "white",
           "linecolor": "white",
           "ticks": "",
           "title": {
            "standoff": 15
           },
           "zerolinecolor": "white",
           "zerolinewidth": 2
          },
          "yaxis": {
           "automargin": true,
           "gridcolor": "white",
           "linecolor": "white",
           "ticks": "",
           "title": {
            "standoff": 15
           },
           "zerolinecolor": "white",
           "zerolinewidth": 2
          }
         }
        },
        "title": {
         "text": "Total Qunatity Sold Per Month (2014-2015)",
         "x": 0.5,
         "y": 0.86
        },
        "xaxis": {
         "anchor": "y",
         "domain": [
          0,
          1
         ],
         "title": {
          "text": "Months"
         }
        },
        "yaxis": {
         "anchor": "x",
         "domain": [
          0,
          1
         ],
         "range": [
          2000,
          4000
         ],
         "title": {
          "text": "Quantity"
         }
        }
       }
      },
      "text/html": [
       "<div>                            <div id=\"50819852-db1b-4d91-89ce-5beabbdebbfc\" class=\"plotly-graph-div\" style=\"height:525px; width:100%;\"></div>            <script type=\"text/javascript\">                require([\"plotly\"], function(Plotly) {                    window.PLOTLYENV=window.PLOTLYENV || {};                                    if (document.getElementById(\"50819852-db1b-4d91-89ce-5beabbdebbfc\")) {                    Plotly.newPlot(                        \"50819852-db1b-4d91-89ce-5beabbdebbfc\",                        [{\"hovertemplate\":\"Months=%{x}<br>Quantity=%{y}<extra></extra>\",\"legendgroup\":\"\",\"line\":{\"color\":\"#636efa\",\"dash\":\"solid\"},\"marker\":{\"symbol\":\"circle\"},\"mode\":\"lines\",\"name\":\"\",\"orientation\":\"v\",\"showlegend\":false,\"x\":[\"Jan\",\"Feb\",\"Mar\",\"Apr\",\"May\",\"Jun\",\"Jul\",\"Aug\",\"Sep\",\"Oct\",\"Nov\",\"Dec\"],\"xaxis\":\"x\",\"y\":[3333,3032,3283,3172,3335,3316,3268,3498,2963,3218,3273,3074],\"yaxis\":\"y\",\"type\":\"scatter\"}],                        {\"template\":{\"data\":{\"bar\":[{\"error_x\":{\"color\":\"#2a3f5f\"},\"error_y\":{\"color\":\"#2a3f5f\"},\"marker\":{\"line\":{\"color\":\"#E5ECF6\",\"width\":0.5},\"pattern\":{\"fillmode\":\"overlay\",\"size\":10,\"solidity\":0.2}},\"type\":\"bar\"}],\"barpolar\":[{\"marker\":{\"line\":{\"color\":\"#E5ECF6\",\"width\":0.5},\"pattern\":{\"fillmode\":\"overlay\",\"size\":10,\"solidity\":0.2}},\"type\":\"barpolar\"}],\"carpet\":[{\"aaxis\":{\"endlinecolor\":\"#2a3f5f\",\"gridcolor\":\"white\",\"linecolor\":\"white\",\"minorgridcolor\":\"white\",\"startlinecolor\":\"#2a3f5f\"},\"baxis\":{\"endlinecolor\":\"#2a3f5f\",\"gridcolor\":\"white\",\"linecolor\":\"white\",\"minorgridcolor\":\"white\",\"startlinecolor\":\"#2a3f5f\"},\"type\":\"carpet\"}],\"choropleth\":[{\"colorbar\":{\"outlinewidth\":0,\"ticks\":\"\"},\"type\":\"choropleth\"}],\"contour\":[{\"colorbar\":{\"outlinewidth\":0,\"ticks\":\"\"},\"colorscale\":[[0.0,\"#0d0887\"],[0.1111111111111111,\"#46039f\"],[0.2222222222222222,\"#7201a8\"],[0.3333333333333333,\"#9c179e\"],[0.4444444444444444,\"#bd3786\"],[0.5555555555555556,\"#d8576b\"],[0.6666666666666666,\"#ed7953\"],[0.7777777777777778,\"#fb9f3a\"],[0.8888888888888888,\"#fdca26\"],[1.0,\"#f0f921\"]],\"type\":\"contour\"}],\"contourcarpet\":[{\"colorbar\":{\"outlinewidth\":0,\"ticks\":\"\"},\"type\":\"contourcarpet\"}],\"heatmap\":[{\"colorbar\":{\"outlinewidth\":0,\"ticks\":\"\"},\"colorscale\":[[0.0,\"#0d0887\"],[0.1111111111111111,\"#46039f\"],[0.2222222222222222,\"#7201a8\"],[0.3333333333333333,\"#9c179e\"],[0.4444444444444444,\"#bd3786\"],[0.5555555555555556,\"#d8576b\"],[0.6666666666666666,\"#ed7953\"],[0.7777777777777778,\"#fb9f3a\"],[0.8888888888888888,\"#fdca26\"],[1.0,\"#f0f921\"]],\"type\":\"heatmap\"}],\"heatmapgl\":[{\"colorbar\":{\"outlinewidth\":0,\"ticks\":\"\"},\"colorscale\":[[0.0,\"#0d0887\"],[0.1111111111111111,\"#46039f\"],[0.2222222222222222,\"#7201a8\"],[0.3333333333333333,\"#9c179e\"],[0.4444444444444444,\"#bd3786\"],[0.5555555555555556,\"#d8576b\"],[0.6666666666666666,\"#ed7953\"],[0.7777777777777778,\"#fb9f3a\"],[0.8888888888888888,\"#fdca26\"],[1.0,\"#f0f921\"]],\"type\":\"heatmapgl\"}],\"histogram\":[{\"marker\":{\"pattern\":{\"fillmode\":\"overlay\",\"size\":10,\"solidity\":0.2}},\"type\":\"histogram\"}],\"histogram2d\":[{\"colorbar\":{\"outlinewidth\":0,\"ticks\":\"\"},\"colorscale\":[[0.0,\"#0d0887\"],[0.1111111111111111,\"#46039f\"],[0.2222222222222222,\"#7201a8\"],[0.3333333333333333,\"#9c179e\"],[0.4444444444444444,\"#bd3786\"],[0.5555555555555556,\"#d8576b\"],[0.6666666666666666,\"#ed7953\"],[0.7777777777777778,\"#fb9f3a\"],[0.8888888888888888,\"#fdca26\"],[1.0,\"#f0f921\"]],\"type\":\"histogram2d\"}],\"histogram2dcontour\":[{\"colorbar\":{\"outlinewidth\":0,\"ticks\":\"\"},\"colorscale\":[[0.0,\"#0d0887\"],[0.1111111111111111,\"#46039f\"],[0.2222222222222222,\"#7201a8\"],[0.3333333333333333,\"#9c179e\"],[0.4444444444444444,\"#bd3786\"],[0.5555555555555556,\"#d8576b\"],[0.6666666666666666,\"#ed7953\"],[0.7777777777777778,\"#fb9f3a\"],[0.8888888888888888,\"#fdca26\"],[1.0,\"#f0f921\"]],\"type\":\"histogram2dcontour\"}],\"mesh3d\":[{\"colorbar\":{\"outlinewidth\":0,\"ticks\":\"\"},\"type\":\"mesh3d\"}],\"parcoords\":[{\"line\":{\"colorbar\":{\"outlinewidth\":0,\"ticks\":\"\"}},\"type\":\"parcoords\"}],\"pie\":[{\"automargin\":true,\"type\":\"pie\"}],\"scatter\":[{\"marker\":{\"colorbar\":{\"outlinewidth\":0,\"ticks\":\"\"}},\"type\":\"scatter\"}],\"scatter3d\":[{\"line\":{\"colorbar\":{\"outlinewidth\":0,\"ticks\":\"\"}},\"marker\":{\"colorbar\":{\"outlinewidth\":0,\"ticks\":\"\"}},\"type\":\"scatter3d\"}],\"scattercarpet\":[{\"marker\":{\"colorbar\":{\"outlinewidth\":0,\"ticks\":\"\"}},\"type\":\"scattercarpet\"}],\"scattergeo\":[{\"marker\":{\"colorbar\":{\"outlinewidth\":0,\"ticks\":\"\"}},\"type\":\"scattergeo\"}],\"scattergl\":[{\"marker\":{\"colorbar\":{\"outlinewidth\":0,\"ticks\":\"\"}},\"type\":\"scattergl\"}],\"scattermapbox\":[{\"marker\":{\"colorbar\":{\"outlinewidth\":0,\"ticks\":\"\"}},\"type\":\"scattermapbox\"}],\"scatterpolar\":[{\"marker\":{\"colorbar\":{\"outlinewidth\":0,\"ticks\":\"\"}},\"type\":\"scatterpolar\"}],\"scatterpolargl\":[{\"marker\":{\"colorbar\":{\"outlinewidth\":0,\"ticks\":\"\"}},\"type\":\"scatterpolargl\"}],\"scatterternary\":[{\"marker\":{\"colorbar\":{\"outlinewidth\":0,\"ticks\":\"\"}},\"type\":\"scatterternary\"}],\"surface\":[{\"colorbar\":{\"outlinewidth\":0,\"ticks\":\"\"},\"colorscale\":[[0.0,\"#0d0887\"],[0.1111111111111111,\"#46039f\"],[0.2222222222222222,\"#7201a8\"],[0.3333333333333333,\"#9c179e\"],[0.4444444444444444,\"#bd3786\"],[0.5555555555555556,\"#d8576b\"],[0.6666666666666666,\"#ed7953\"],[0.7777777777777778,\"#fb9f3a\"],[0.8888888888888888,\"#fdca26\"],[1.0,\"#f0f921\"]],\"type\":\"surface\"}],\"table\":[{\"cells\":{\"fill\":{\"color\":\"#EBF0F8\"},\"line\":{\"color\":\"white\"}},\"header\":{\"fill\":{\"color\":\"#C8D4E3\"},\"line\":{\"color\":\"white\"}},\"type\":\"table\"}]},\"layout\":{\"annotationdefaults\":{\"arrowcolor\":\"#2a3f5f\",\"arrowhead\":0,\"arrowwidth\":1},\"autotypenumbers\":\"strict\",\"coloraxis\":{\"colorbar\":{\"outlinewidth\":0,\"ticks\":\"\"}},\"colorscale\":{\"diverging\":[[0,\"#8e0152\"],[0.1,\"#c51b7d\"],[0.2,\"#de77ae\"],[0.3,\"#f1b6da\"],[0.4,\"#fde0ef\"],[0.5,\"#f7f7f7\"],[0.6,\"#e6f5d0\"],[0.7,\"#b8e186\"],[0.8,\"#7fbc41\"],[0.9,\"#4d9221\"],[1,\"#276419\"]],\"sequential\":[[0.0,\"#0d0887\"],[0.1111111111111111,\"#46039f\"],[0.2222222222222222,\"#7201a8\"],[0.3333333333333333,\"#9c179e\"],[0.4444444444444444,\"#bd3786\"],[0.5555555555555556,\"#d8576b\"],[0.6666666666666666,\"#ed7953\"],[0.7777777777777778,\"#fb9f3a\"],[0.8888888888888888,\"#fdca26\"],[1.0,\"#f0f921\"]],\"sequentialminus\":[[0.0,\"#0d0887\"],[0.1111111111111111,\"#46039f\"],[0.2222222222222222,\"#7201a8\"],[0.3333333333333333,\"#9c179e\"],[0.4444444444444444,\"#bd3786\"],[0.5555555555555556,\"#d8576b\"],[0.6666666666666666,\"#ed7953\"],[0.7777777777777778,\"#fb9f3a\"],[0.8888888888888888,\"#fdca26\"],[1.0,\"#f0f921\"]]},\"colorway\":[\"#636efa\",\"#EF553B\",\"#00cc96\",\"#ab63fa\",\"#FFA15A\",\"#19d3f3\",\"#FF6692\",\"#B6E880\",\"#FF97FF\",\"#FECB52\"],\"font\":{\"color\":\"#2a3f5f\"},\"geo\":{\"bgcolor\":\"white\",\"lakecolor\":\"white\",\"landcolor\":\"#E5ECF6\",\"showlakes\":true,\"showland\":true,\"subunitcolor\":\"white\"},\"hoverlabel\":{\"align\":\"left\"},\"hovermode\":\"closest\",\"mapbox\":{\"style\":\"light\"},\"paper_bgcolor\":\"white\",\"plot_bgcolor\":\"#E5ECF6\",\"polar\":{\"angularaxis\":{\"gridcolor\":\"white\",\"linecolor\":\"white\",\"ticks\":\"\"},\"bgcolor\":\"#E5ECF6\",\"radialaxis\":{\"gridcolor\":\"white\",\"linecolor\":\"white\",\"ticks\":\"\"}},\"scene\":{\"xaxis\":{\"backgroundcolor\":\"#E5ECF6\",\"gridcolor\":\"white\",\"gridwidth\":2,\"linecolor\":\"white\",\"showbackground\":true,\"ticks\":\"\",\"zerolinecolor\":\"white\"},\"yaxis\":{\"backgroundcolor\":\"#E5ECF6\",\"gridcolor\":\"white\",\"gridwidth\":2,\"linecolor\":\"white\",\"showbackground\":true,\"ticks\":\"\",\"zerolinecolor\":\"white\"},\"zaxis\":{\"backgroundcolor\":\"#E5ECF6\",\"gridcolor\":\"white\",\"gridwidth\":2,\"linecolor\":\"white\",\"showbackground\":true,\"ticks\":\"\",\"zerolinecolor\":\"white\"}},\"shapedefaults\":{\"line\":{\"color\":\"#2a3f5f\"}},\"ternary\":{\"aaxis\":{\"gridcolor\":\"white\",\"linecolor\":\"white\",\"ticks\":\"\"},\"baxis\":{\"gridcolor\":\"white\",\"linecolor\":\"white\",\"ticks\":\"\"},\"bgcolor\":\"#E5ECF6\",\"caxis\":{\"gridcolor\":\"white\",\"linecolor\":\"white\",\"ticks\":\"\"}},\"title\":{\"x\":0.05},\"xaxis\":{\"automargin\":true,\"gridcolor\":\"white\",\"linecolor\":\"white\",\"ticks\":\"\",\"title\":{\"standoff\":15},\"zerolinecolor\":\"white\",\"zerolinewidth\":2},\"yaxis\":{\"automargin\":true,\"gridcolor\":\"white\",\"linecolor\":\"white\",\"ticks\":\"\",\"title\":{\"standoff\":15},\"zerolinecolor\":\"white\",\"zerolinewidth\":2}}},\"xaxis\":{\"anchor\":\"y\",\"domain\":[0.0,1.0],\"title\":{\"text\":\"Months\"}},\"yaxis\":{\"anchor\":\"x\",\"domain\":[0.0,1.0],\"title\":{\"text\":\"Quantity\"},\"range\":[2000,4000]},\"legend\":{\"tracegroupgap\":0},\"title\":{\"text\":\"Total Qunatity Sold Per Month (2014-2015)\",\"x\":0.5,\"y\":0.86}},                        {\"responsive\": true}                    ).then(function(){\n",
       "                            \n",
       "var gd = document.getElementById('50819852-db1b-4d91-89ce-5beabbdebbfc');\n",
       "var x = new MutationObserver(function (mutations, observer) {{\n",
       "        var display = window.getComputedStyle(gd).display;\n",
       "        if (!display || display === 'none') {{\n",
       "            console.log([gd, 'removed!']);\n",
       "            Plotly.purge(gd);\n",
       "            observer.disconnect();\n",
       "        }}\n",
       "}});\n",
       "\n",
       "// Listen for the removal of the full notebook cells\n",
       "var notebookContainer = gd.closest('#notebook-container');\n",
       "if (notebookContainer) {{\n",
       "    x.observe(notebookContainer, {childList: true});\n",
       "}}\n",
       "\n",
       "// Listen for the clearing of the current output cell\n",
       "var outputEl = gd.closest('.output');\n",
       "if (outputEl) {{\n",
       "    x.observe(outputEl, {childList: true});\n",
       "}}\n",
       "\n",
       "                        })                };                });            </script>        </div>"
      ]
     },
     "metadata": {},
     "output_type": "display_data"
    }
   ],
   "source": [
    "#finding the total number of quantity sold per month and arranging the data according to the index\n",
    "total_items = df['month'].value_counts().sort_index()\n",
    "\n",
    "#converting the total_items into a dataframe\n",
    "total_items_months = pd.DataFrame(total_items)\n",
    "\n",
    "#creating a month list arranged in monthly order\n",
    "months = ('Jan','Feb','Mar','Apr','May','Jun','Jul','Aug','Sep','Oct','Nov','Dec')\n",
    "\n",
    "#adding the months list into the dataframe\n",
    "total_items_months['months'] = months\n",
    "\n",
    "#renaming the columns name\n",
    "total_items_months.rename(columns={'month':'quantity'})\n",
    "\n",
    "total_items_months\n",
    "\n",
    "#Plotting the line graph to show the quantity of items sold per month\n",
    "px.line(data_frame = total_items_months,x='months',y='month', title = \"Total Qunatity Sold Per Month (2014-2015)\",\n",
    "       labels = {'month':'Quantity',\n",
    "                'months':'Months'}).update_layout(title_x=0.50,title_y=0.86).update_yaxes(range=[2000,4000])"
   ]
  },
  {
   "cell_type": "markdown",
   "id": "a1d80d95",
   "metadata": {},
   "source": [
    "Looking at the total trend of total quantities of item sold per month(2014-2015).The major trend shows a <b> increase in sales </b> from <b>Feburary to August</b>.<p></p>\n",
    "\n",
    "\n",
    "A deeper look in to the trend line to discover any insights by breaking it down into previous years"
   ]
  },
  {
   "cell_type": "code",
   "execution_count": 52,
   "id": "41d3a63d",
   "metadata": {},
   "outputs": [
    {
     "data": {
      "text/html": [
       "<div>\n",
       "<style scoped>\n",
       "    .dataframe tbody tr th:only-of-type {\n",
       "        vertical-align: middle;\n",
       "    }\n",
       "\n",
       "    .dataframe tbody tr th {\n",
       "        vertical-align: top;\n",
       "    }\n",
       "\n",
       "    .dataframe thead th {\n",
       "        text-align: right;\n",
       "    }\n",
       "</style>\n",
       "<table border=\"1\" class=\"dataframe\">\n",
       "  <thead>\n",
       "    <tr style=\"text-align: right;\">\n",
       "      <th></th>\n",
       "      <th>month</th>\n",
       "      <th>months</th>\n",
       "    </tr>\n",
       "  </thead>\n",
       "  <tbody>\n",
       "    <tr>\n",
       "      <th>1</th>\n",
       "      <td>1504</td>\n",
       "      <td>Jan</td>\n",
       "    </tr>\n",
       "    <tr>\n",
       "      <th>2</th>\n",
       "      <td>1547</td>\n",
       "      <td>Feb</td>\n",
       "    </tr>\n",
       "    <tr>\n",
       "      <th>3</th>\n",
       "      <td>1491</td>\n",
       "      <td>Mar</td>\n",
       "    </tr>\n",
       "    <tr>\n",
       "      <th>4</th>\n",
       "      <td>1506</td>\n",
       "      <td>Apr</td>\n",
       "    </tr>\n",
       "    <tr>\n",
       "      <th>5</th>\n",
       "      <td>1625</td>\n",
       "      <td>May</td>\n",
       "    </tr>\n",
       "    <tr>\n",
       "      <th>6</th>\n",
       "      <td>1525</td>\n",
       "      <td>Jun</td>\n",
       "    </tr>\n",
       "    <tr>\n",
       "      <th>7</th>\n",
       "      <td>1623</td>\n",
       "      <td>Jul</td>\n",
       "    </tr>\n",
       "    <tr>\n",
       "      <th>8</th>\n",
       "      <td>1535</td>\n",
       "      <td>Aug</td>\n",
       "    </tr>\n",
       "    <tr>\n",
       "      <th>9</th>\n",
       "      <td>1350</td>\n",
       "      <td>Sep</td>\n",
       "    </tr>\n",
       "    <tr>\n",
       "      <th>10</th>\n",
       "      <td>1555</td>\n",
       "      <td>Oct</td>\n",
       "    </tr>\n",
       "    <tr>\n",
       "      <th>11</th>\n",
       "      <td>1496</td>\n",
       "      <td>Nov</td>\n",
       "    </tr>\n",
       "    <tr>\n",
       "      <th>12</th>\n",
       "      <td>1520</td>\n",
       "      <td>Dec</td>\n",
       "    </tr>\n",
       "  </tbody>\n",
       "</table>\n",
       "</div>"
      ],
      "text/plain": [
       "    month months\n",
       "1    1504    Jan\n",
       "2    1547    Feb\n",
       "3    1491    Mar\n",
       "4    1506    Apr\n",
       "5    1625    May\n",
       "6    1525    Jun\n",
       "7    1623    Jul\n",
       "8    1535    Aug\n",
       "9    1350    Sep\n",
       "10   1555    Oct\n",
       "11   1496    Nov\n",
       "12   1520    Dec"
      ]
     },
     "execution_count": 52,
     "metadata": {},
     "output_type": "execute_result"
    }
   ],
   "source": [
    "#finding the total number of quantity sold per month and arranging the data according to the index\n",
    "total_items14 = df14['month'].value_counts().sort_index()\n",
    "\n",
    "#converting the total_items into a dataframe\n",
    "total_items_months14 = pd.DataFrame(total_items14)\n",
    "\n",
    "#creating a month list arranged in monthly order\n",
    "months14 = ('jan','feb','mar','apr','may','jun','jul','aug','sep','oct','nov','dec')\n",
    "\n",
    "#adding the months list into the dataframe\n",
    "total_items_months14['months'] = months\n",
    "\n",
    "#renaming the columns name\n",
    "total_items_months14.rename(columns={'month':'quantity'})\n",
    "\n",
    "total_items_months14\n",
    "\n",
    "\n"
   ]
  },
  {
   "cell_type": "markdown",
   "id": "0fcc4164",
   "metadata": {},
   "source": [
    "The above table shows the total quantity of products sold per month for the year 2014"
   ]
  },
  {
   "cell_type": "code",
   "execution_count": 53,
   "id": "3f23a938",
   "metadata": {},
   "outputs": [
    {
     "data": {
      "text/html": [
       "<div>\n",
       "<style scoped>\n",
       "    .dataframe tbody tr th:only-of-type {\n",
       "        vertical-align: middle;\n",
       "    }\n",
       "\n",
       "    .dataframe tbody tr th {\n",
       "        vertical-align: top;\n",
       "    }\n",
       "\n",
       "    .dataframe thead th {\n",
       "        text-align: right;\n",
       "    }\n",
       "</style>\n",
       "<table border=\"1\" class=\"dataframe\">\n",
       "  <thead>\n",
       "    <tr style=\"text-align: right;\">\n",
       "      <th></th>\n",
       "      <th>month</th>\n",
       "      <th>months</th>\n",
       "    </tr>\n",
       "  </thead>\n",
       "  <tbody>\n",
       "    <tr>\n",
       "      <th>1</th>\n",
       "      <td>1829</td>\n",
       "      <td>Jan</td>\n",
       "    </tr>\n",
       "    <tr>\n",
       "      <th>2</th>\n",
       "      <td>1485</td>\n",
       "      <td>Feb</td>\n",
       "    </tr>\n",
       "    <tr>\n",
       "      <th>3</th>\n",
       "      <td>1792</td>\n",
       "      <td>Mar</td>\n",
       "    </tr>\n",
       "    <tr>\n",
       "      <th>4</th>\n",
       "      <td>1666</td>\n",
       "      <td>Apr</td>\n",
       "    </tr>\n",
       "    <tr>\n",
       "      <th>5</th>\n",
       "      <td>1710</td>\n",
       "      <td>May</td>\n",
       "    </tr>\n",
       "    <tr>\n",
       "      <th>6</th>\n",
       "      <td>1791</td>\n",
       "      <td>Jun</td>\n",
       "    </tr>\n",
       "    <tr>\n",
       "      <th>7</th>\n",
       "      <td>1645</td>\n",
       "      <td>Jul</td>\n",
       "    </tr>\n",
       "    <tr>\n",
       "      <th>8</th>\n",
       "      <td>1963</td>\n",
       "      <td>Aug</td>\n",
       "    </tr>\n",
       "    <tr>\n",
       "      <th>9</th>\n",
       "      <td>1613</td>\n",
       "      <td>Sep</td>\n",
       "    </tr>\n",
       "    <tr>\n",
       "      <th>10</th>\n",
       "      <td>1663</td>\n",
       "      <td>Oct</td>\n",
       "    </tr>\n",
       "    <tr>\n",
       "      <th>11</th>\n",
       "      <td>1777</td>\n",
       "      <td>Nov</td>\n",
       "    </tr>\n",
       "    <tr>\n",
       "      <th>12</th>\n",
       "      <td>1554</td>\n",
       "      <td>Dec</td>\n",
       "    </tr>\n",
       "  </tbody>\n",
       "</table>\n",
       "</div>"
      ],
      "text/plain": [
       "    month months\n",
       "1    1829    Jan\n",
       "2    1485    Feb\n",
       "3    1792    Mar\n",
       "4    1666    Apr\n",
       "5    1710    May\n",
       "6    1791    Jun\n",
       "7    1645    Jul\n",
       "8    1963    Aug\n",
       "9    1613    Sep\n",
       "10   1663    Oct\n",
       "11   1777    Nov\n",
       "12   1554    Dec"
      ]
     },
     "execution_count": 53,
     "metadata": {},
     "output_type": "execute_result"
    }
   ],
   "source": [
    "#finding the total number of quantity sold per month and arranging the data according to the index\n",
    "total_items15 = df15['month'].value_counts().sort_index()\n",
    "\n",
    "#converting the total_items into a dataframe\n",
    "total_items_months15 = pd.DataFrame(total_items15)\n",
    "\n",
    "#creating a month list arranged in monthly order\n",
    "months15 = ('jan','feb','mar','apr','may','jun','jul','aug','sep','oct','nov','dec')\n",
    "\n",
    "#adding the months list into the dataframe\n",
    "total_items_months15['months'] = months\n",
    "\n",
    "#renaming the columns name\n",
    "total_items_months15.rename(columns={'month':'quantity'})\n",
    "\n",
    "total_items_months15\n",
    "\n",
    "\n"
   ]
  },
  {
   "cell_type": "markdown",
   "id": "22289983",
   "metadata": {},
   "source": [
    "The above table shows the total quantity of products sold per month for the year 2015"
   ]
  },
  {
   "cell_type": "code",
   "execution_count": 54,
   "id": "35ddbede",
   "metadata": {},
   "outputs": [],
   "source": [
    "#plotting our two graphs for the year 2014 and 2015\n",
    "a=go.Scatter(x = total_items_months14['months'], y = total_items_months14['month'], name = \"2014\")\n",
    "b=go.Scatter(x = total_items_months15['months'], y = total_items_months15['month'], name = \"2015\")"
   ]
  },
  {
   "cell_type": "code",
   "execution_count": 55,
   "id": "caf0d2b4",
   "metadata": {},
   "outputs": [
    {
     "name": "stderr",
     "output_type": "stream",
     "text": [
      "C:\\Users\\Richard\\anaconda3\\lib\\site-packages\\plotly\\io\\_renderers.py:396: DeprecationWarning:\n",
      "\n",
      "distutils Version classes are deprecated. Use packaging.version instead.\n",
      "\n",
      "C:\\Users\\Richard\\anaconda3\\lib\\site-packages\\plotly\\io\\_renderers.py:396: DeprecationWarning:\n",
      "\n",
      "distutils Version classes are deprecated. Use packaging.version instead.\n",
      "\n"
     ]
    },
    {
     "data": {
      "application/vnd.plotly.v1+json": {
       "config": {
        "plotlyServerURL": "https://plot.ly"
       },
       "data": [
        {
         "name": "2014",
         "type": "scatter",
         "x": [
          "Jan",
          "Feb",
          "Mar",
          "Apr",
          "May",
          "Jun",
          "Jul",
          "Aug",
          "Sep",
          "Oct",
          "Nov",
          "Dec"
         ],
         "xaxis": "x",
         "y": [
          1504,
          1547,
          1491,
          1506,
          1625,
          1525,
          1623,
          1535,
          1350,
          1555,
          1496,
          1520
         ],
         "yaxis": "y"
        },
        {
         "name": "2015",
         "type": "scatter",
         "x": [
          "Jan",
          "Feb",
          "Mar",
          "Apr",
          "May",
          "Jun",
          "Jul",
          "Aug",
          "Sep",
          "Oct",
          "Nov",
          "Dec"
         ],
         "xaxis": "x2",
         "y": [
          1829,
          1485,
          1792,
          1666,
          1710,
          1791,
          1645,
          1963,
          1613,
          1663,
          1777,
          1554
         ],
         "yaxis": "y2"
        }
       ],
       "layout": {
        "annotations": [
         {
          "font": {
           "size": 16
          },
          "showarrow": false,
          "text": "Quantity Purchased",
          "textangle": -90,
          "x": 0,
          "xanchor": "right",
          "xref": "paper",
          "xshift": -40,
          "y": 0.5,
          "yanchor": "middle",
          "yref": "paper"
         }
        ],
        "height": 600,
        "template": {
         "data": {
          "bar": [
           {
            "error_x": {
             "color": "#2a3f5f"
            },
            "error_y": {
             "color": "#2a3f5f"
            },
            "marker": {
             "line": {
              "color": "#E5ECF6",
              "width": 0.5
             },
             "pattern": {
              "fillmode": "overlay",
              "size": 10,
              "solidity": 0.2
             }
            },
            "type": "bar"
           }
          ],
          "barpolar": [
           {
            "marker": {
             "line": {
              "color": "#E5ECF6",
              "width": 0.5
             },
             "pattern": {
              "fillmode": "overlay",
              "size": 10,
              "solidity": 0.2
             }
            },
            "type": "barpolar"
           }
          ],
          "carpet": [
           {
            "aaxis": {
             "endlinecolor": "#2a3f5f",
             "gridcolor": "white",
             "linecolor": "white",
             "minorgridcolor": "white",
             "startlinecolor": "#2a3f5f"
            },
            "baxis": {
             "endlinecolor": "#2a3f5f",
             "gridcolor": "white",
             "linecolor": "white",
             "minorgridcolor": "white",
             "startlinecolor": "#2a3f5f"
            },
            "type": "carpet"
           }
          ],
          "choropleth": [
           {
            "colorbar": {
             "outlinewidth": 0,
             "ticks": ""
            },
            "type": "choropleth"
           }
          ],
          "contour": [
           {
            "colorbar": {
             "outlinewidth": 0,
             "ticks": ""
            },
            "colorscale": [
             [
              0,
              "#0d0887"
             ],
             [
              0.1111111111111111,
              "#46039f"
             ],
             [
              0.2222222222222222,
              "#7201a8"
             ],
             [
              0.3333333333333333,
              "#9c179e"
             ],
             [
              0.4444444444444444,
              "#bd3786"
             ],
             [
              0.5555555555555556,
              "#d8576b"
             ],
             [
              0.6666666666666666,
              "#ed7953"
             ],
             [
              0.7777777777777778,
              "#fb9f3a"
             ],
             [
              0.8888888888888888,
              "#fdca26"
             ],
             [
              1,
              "#f0f921"
             ]
            ],
            "type": "contour"
           }
          ],
          "contourcarpet": [
           {
            "colorbar": {
             "outlinewidth": 0,
             "ticks": ""
            },
            "type": "contourcarpet"
           }
          ],
          "heatmap": [
           {
            "colorbar": {
             "outlinewidth": 0,
             "ticks": ""
            },
            "colorscale": [
             [
              0,
              "#0d0887"
             ],
             [
              0.1111111111111111,
              "#46039f"
             ],
             [
              0.2222222222222222,
              "#7201a8"
             ],
             [
              0.3333333333333333,
              "#9c179e"
             ],
             [
              0.4444444444444444,
              "#bd3786"
             ],
             [
              0.5555555555555556,
              "#d8576b"
             ],
             [
              0.6666666666666666,
              "#ed7953"
             ],
             [
              0.7777777777777778,
              "#fb9f3a"
             ],
             [
              0.8888888888888888,
              "#fdca26"
             ],
             [
              1,
              "#f0f921"
             ]
            ],
            "type": "heatmap"
           }
          ],
          "heatmapgl": [
           {
            "colorbar": {
             "outlinewidth": 0,
             "ticks": ""
            },
            "colorscale": [
             [
              0,
              "#0d0887"
             ],
             [
              0.1111111111111111,
              "#46039f"
             ],
             [
              0.2222222222222222,
              "#7201a8"
             ],
             [
              0.3333333333333333,
              "#9c179e"
             ],
             [
              0.4444444444444444,
              "#bd3786"
             ],
             [
              0.5555555555555556,
              "#d8576b"
             ],
             [
              0.6666666666666666,
              "#ed7953"
             ],
             [
              0.7777777777777778,
              "#fb9f3a"
             ],
             [
              0.8888888888888888,
              "#fdca26"
             ],
             [
              1,
              "#f0f921"
             ]
            ],
            "type": "heatmapgl"
           }
          ],
          "histogram": [
           {
            "marker": {
             "pattern": {
              "fillmode": "overlay",
              "size": 10,
              "solidity": 0.2
             }
            },
            "type": "histogram"
           }
          ],
          "histogram2d": [
           {
            "colorbar": {
             "outlinewidth": 0,
             "ticks": ""
            },
            "colorscale": [
             [
              0,
              "#0d0887"
             ],
             [
              0.1111111111111111,
              "#46039f"
             ],
             [
              0.2222222222222222,
              "#7201a8"
             ],
             [
              0.3333333333333333,
              "#9c179e"
             ],
             [
              0.4444444444444444,
              "#bd3786"
             ],
             [
              0.5555555555555556,
              "#d8576b"
             ],
             [
              0.6666666666666666,
              "#ed7953"
             ],
             [
              0.7777777777777778,
              "#fb9f3a"
             ],
             [
              0.8888888888888888,
              "#fdca26"
             ],
             [
              1,
              "#f0f921"
             ]
            ],
            "type": "histogram2d"
           }
          ],
          "histogram2dcontour": [
           {
            "colorbar": {
             "outlinewidth": 0,
             "ticks": ""
            },
            "colorscale": [
             [
              0,
              "#0d0887"
             ],
             [
              0.1111111111111111,
              "#46039f"
             ],
             [
              0.2222222222222222,
              "#7201a8"
             ],
             [
              0.3333333333333333,
              "#9c179e"
             ],
             [
              0.4444444444444444,
              "#bd3786"
             ],
             [
              0.5555555555555556,
              "#d8576b"
             ],
             [
              0.6666666666666666,
              "#ed7953"
             ],
             [
              0.7777777777777778,
              "#fb9f3a"
             ],
             [
              0.8888888888888888,
              "#fdca26"
             ],
             [
              1,
              "#f0f921"
             ]
            ],
            "type": "histogram2dcontour"
           }
          ],
          "mesh3d": [
           {
            "colorbar": {
             "outlinewidth": 0,
             "ticks": ""
            },
            "type": "mesh3d"
           }
          ],
          "parcoords": [
           {
            "line": {
             "colorbar": {
              "outlinewidth": 0,
              "ticks": ""
             }
            },
            "type": "parcoords"
           }
          ],
          "pie": [
           {
            "automargin": true,
            "type": "pie"
           }
          ],
          "scatter": [
           {
            "marker": {
             "colorbar": {
              "outlinewidth": 0,
              "ticks": ""
             }
            },
            "type": "scatter"
           }
          ],
          "scatter3d": [
           {
            "line": {
             "colorbar": {
              "outlinewidth": 0,
              "ticks": ""
             }
            },
            "marker": {
             "colorbar": {
              "outlinewidth": 0,
              "ticks": ""
             }
            },
            "type": "scatter3d"
           }
          ],
          "scattercarpet": [
           {
            "marker": {
             "colorbar": {
              "outlinewidth": 0,
              "ticks": ""
             }
            },
            "type": "scattercarpet"
           }
          ],
          "scattergeo": [
           {
            "marker": {
             "colorbar": {
              "outlinewidth": 0,
              "ticks": ""
             }
            },
            "type": "scattergeo"
           }
          ],
          "scattergl": [
           {
            "marker": {
             "colorbar": {
              "outlinewidth": 0,
              "ticks": ""
             }
            },
            "type": "scattergl"
           }
          ],
          "scattermapbox": [
           {
            "marker": {
             "colorbar": {
              "outlinewidth": 0,
              "ticks": ""
             }
            },
            "type": "scattermapbox"
           }
          ],
          "scatterpolar": [
           {
            "marker": {
             "colorbar": {
              "outlinewidth": 0,
              "ticks": ""
             }
            },
            "type": "scatterpolar"
           }
          ],
          "scatterpolargl": [
           {
            "marker": {
             "colorbar": {
              "outlinewidth": 0,
              "ticks": ""
             }
            },
            "type": "scatterpolargl"
           }
          ],
          "scatterternary": [
           {
            "marker": {
             "colorbar": {
              "outlinewidth": 0,
              "ticks": ""
             }
            },
            "type": "scatterternary"
           }
          ],
          "surface": [
           {
            "colorbar": {
             "outlinewidth": 0,
             "ticks": ""
            },
            "colorscale": [
             [
              0,
              "#0d0887"
             ],
             [
              0.1111111111111111,
              "#46039f"
             ],
             [
              0.2222222222222222,
              "#7201a8"
             ],
             [
              0.3333333333333333,
              "#9c179e"
             ],
             [
              0.4444444444444444,
              "#bd3786"
             ],
             [
              0.5555555555555556,
              "#d8576b"
             ],
             [
              0.6666666666666666,
              "#ed7953"
             ],
             [
              0.7777777777777778,
              "#fb9f3a"
             ],
             [
              0.8888888888888888,
              "#fdca26"
             ],
             [
              1,
              "#f0f921"
             ]
            ],
            "type": "surface"
           }
          ],
          "table": [
           {
            "cells": {
             "fill": {
              "color": "#EBF0F8"
             },
             "line": {
              "color": "white"
             }
            },
            "header": {
             "fill": {
              "color": "#C8D4E3"
             },
             "line": {
              "color": "white"
             }
            },
            "type": "table"
           }
          ]
         },
         "layout": {
          "annotationdefaults": {
           "arrowcolor": "#2a3f5f",
           "arrowhead": 0,
           "arrowwidth": 1
          },
          "autotypenumbers": "strict",
          "coloraxis": {
           "colorbar": {
            "outlinewidth": 0,
            "ticks": ""
           }
          },
          "colorscale": {
           "diverging": [
            [
             0,
             "#8e0152"
            ],
            [
             0.1,
             "#c51b7d"
            ],
            [
             0.2,
             "#de77ae"
            ],
            [
             0.3,
             "#f1b6da"
            ],
            [
             0.4,
             "#fde0ef"
            ],
            [
             0.5,
             "#f7f7f7"
            ],
            [
             0.6,
             "#e6f5d0"
            ],
            [
             0.7,
             "#b8e186"
            ],
            [
             0.8,
             "#7fbc41"
            ],
            [
             0.9,
             "#4d9221"
            ],
            [
             1,
             "#276419"
            ]
           ],
           "sequential": [
            [
             0,
             "#0d0887"
            ],
            [
             0.1111111111111111,
             "#46039f"
            ],
            [
             0.2222222222222222,
             "#7201a8"
            ],
            [
             0.3333333333333333,
             "#9c179e"
            ],
            [
             0.4444444444444444,
             "#bd3786"
            ],
            [
             0.5555555555555556,
             "#d8576b"
            ],
            [
             0.6666666666666666,
             "#ed7953"
            ],
            [
             0.7777777777777778,
             "#fb9f3a"
            ],
            [
             0.8888888888888888,
             "#fdca26"
            ],
            [
             1,
             "#f0f921"
            ]
           ],
           "sequentialminus": [
            [
             0,
             "#0d0887"
            ],
            [
             0.1111111111111111,
             "#46039f"
            ],
            [
             0.2222222222222222,
             "#7201a8"
            ],
            [
             0.3333333333333333,
             "#9c179e"
            ],
            [
             0.4444444444444444,
             "#bd3786"
            ],
            [
             0.5555555555555556,
             "#d8576b"
            ],
            [
             0.6666666666666666,
             "#ed7953"
            ],
            [
             0.7777777777777778,
             "#fb9f3a"
            ],
            [
             0.8888888888888888,
             "#fdca26"
            ],
            [
             1,
             "#f0f921"
            ]
           ]
          },
          "colorway": [
           "#636efa",
           "#EF553B",
           "#00cc96",
           "#ab63fa",
           "#FFA15A",
           "#19d3f3",
           "#FF6692",
           "#B6E880",
           "#FF97FF",
           "#FECB52"
          ],
          "font": {
           "color": "#2a3f5f"
          },
          "geo": {
           "bgcolor": "white",
           "lakecolor": "white",
           "landcolor": "#E5ECF6",
           "showlakes": true,
           "showland": true,
           "subunitcolor": "white"
          },
          "hoverlabel": {
           "align": "left"
          },
          "hovermode": "closest",
          "mapbox": {
           "style": "light"
          },
          "paper_bgcolor": "white",
          "plot_bgcolor": "#E5ECF6",
          "polar": {
           "angularaxis": {
            "gridcolor": "white",
            "linecolor": "white",
            "ticks": ""
           },
           "bgcolor": "#E5ECF6",
           "radialaxis": {
            "gridcolor": "white",
            "linecolor": "white",
            "ticks": ""
           }
          },
          "scene": {
           "xaxis": {
            "backgroundcolor": "#E5ECF6",
            "gridcolor": "white",
            "gridwidth": 2,
            "linecolor": "white",
            "showbackground": true,
            "ticks": "",
            "zerolinecolor": "white"
           },
           "yaxis": {
            "backgroundcolor": "#E5ECF6",
            "gridcolor": "white",
            "gridwidth": 2,
            "linecolor": "white",
            "showbackground": true,
            "ticks": "",
            "zerolinecolor": "white"
           },
           "zaxis": {
            "backgroundcolor": "#E5ECF6",
            "gridcolor": "white",
            "gridwidth": 2,
            "linecolor": "white",
            "showbackground": true,
            "ticks": "",
            "zerolinecolor": "white"
           }
          },
          "shapedefaults": {
           "line": {
            "color": "#2a3f5f"
           }
          },
          "ternary": {
           "aaxis": {
            "gridcolor": "white",
            "linecolor": "white",
            "ticks": ""
           },
           "baxis": {
            "gridcolor": "white",
            "linecolor": "white",
            "ticks": ""
           },
           "bgcolor": "#E5ECF6",
           "caxis": {
            "gridcolor": "white",
            "linecolor": "white",
            "ticks": ""
           }
          },
          "title": {
           "x": 0.05
          },
          "xaxis": {
           "automargin": true,
           "gridcolor": "white",
           "linecolor": "white",
           "ticks": "",
           "title": {
            "standoff": 15
           },
           "zerolinecolor": "white",
           "zerolinewidth": 2
          },
          "yaxis": {
           "automargin": true,
           "gridcolor": "white",
           "linecolor": "white",
           "ticks": "",
           "title": {
            "standoff": 15
           },
           "zerolinecolor": "white",
           "zerolinewidth": 2
          }
         }
        },
        "title": {
         "text": "Monthly Changes in Quantity Purchased Per Month",
         "x": 0.5,
         "y": 0.9
        },
        "width": 1000,
        "xaxis": {
         "anchor": "y",
         "domain": [
          0,
          0.45
         ]
        },
        "xaxis2": {
         "anchor": "y2",
         "domain": [
          0.55,
          1
         ],
         "matches": "x"
        },
        "yaxis": {
         "anchor": "x",
         "domain": [
          0,
          1
         ],
         "range": [
          0,
          3000
         ]
        },
        "yaxis2": {
         "anchor": "x2",
         "domain": [
          0,
          1
         ],
         "matches": "y",
         "range": [
          0,
          3000
         ],
         "showticklabels": false
        }
       }
      },
      "text/html": [
       "<div>                            <div id=\"516b3206-8f57-4a9b-84c1-7024c0fd7595\" class=\"plotly-graph-div\" style=\"height:600px; width:1000px;\"></div>            <script type=\"text/javascript\">                require([\"plotly\"], function(Plotly) {                    window.PLOTLYENV=window.PLOTLYENV || {};                                    if (document.getElementById(\"516b3206-8f57-4a9b-84c1-7024c0fd7595\")) {                    Plotly.newPlot(                        \"516b3206-8f57-4a9b-84c1-7024c0fd7595\",                        [{\"name\":\"2014\",\"x\":[\"Jan\",\"Feb\",\"Mar\",\"Apr\",\"May\",\"Jun\",\"Jul\",\"Aug\",\"Sep\",\"Oct\",\"Nov\",\"Dec\"],\"y\":[1504,1547,1491,1506,1625,1525,1623,1535,1350,1555,1496,1520],\"type\":\"scatter\",\"xaxis\":\"x\",\"yaxis\":\"y\"},{\"name\":\"2015\",\"x\":[\"Jan\",\"Feb\",\"Mar\",\"Apr\",\"May\",\"Jun\",\"Jul\",\"Aug\",\"Sep\",\"Oct\",\"Nov\",\"Dec\"],\"y\":[1829,1485,1792,1666,1710,1791,1645,1963,1613,1663,1777,1554],\"type\":\"scatter\",\"xaxis\":\"x2\",\"yaxis\":\"y2\"}],                        {\"template\":{\"data\":{\"bar\":[{\"error_x\":{\"color\":\"#2a3f5f\"},\"error_y\":{\"color\":\"#2a3f5f\"},\"marker\":{\"line\":{\"color\":\"#E5ECF6\",\"width\":0.5},\"pattern\":{\"fillmode\":\"overlay\",\"size\":10,\"solidity\":0.2}},\"type\":\"bar\"}],\"barpolar\":[{\"marker\":{\"line\":{\"color\":\"#E5ECF6\",\"width\":0.5},\"pattern\":{\"fillmode\":\"overlay\",\"size\":10,\"solidity\":0.2}},\"type\":\"barpolar\"}],\"carpet\":[{\"aaxis\":{\"endlinecolor\":\"#2a3f5f\",\"gridcolor\":\"white\",\"linecolor\":\"white\",\"minorgridcolor\":\"white\",\"startlinecolor\":\"#2a3f5f\"},\"baxis\":{\"endlinecolor\":\"#2a3f5f\",\"gridcolor\":\"white\",\"linecolor\":\"white\",\"minorgridcolor\":\"white\",\"startlinecolor\":\"#2a3f5f\"},\"type\":\"carpet\"}],\"choropleth\":[{\"colorbar\":{\"outlinewidth\":0,\"ticks\":\"\"},\"type\":\"choropleth\"}],\"contour\":[{\"colorbar\":{\"outlinewidth\":0,\"ticks\":\"\"},\"colorscale\":[[0.0,\"#0d0887\"],[0.1111111111111111,\"#46039f\"],[0.2222222222222222,\"#7201a8\"],[0.3333333333333333,\"#9c179e\"],[0.4444444444444444,\"#bd3786\"],[0.5555555555555556,\"#d8576b\"],[0.6666666666666666,\"#ed7953\"],[0.7777777777777778,\"#fb9f3a\"],[0.8888888888888888,\"#fdca26\"],[1.0,\"#f0f921\"]],\"type\":\"contour\"}],\"contourcarpet\":[{\"colorbar\":{\"outlinewidth\":0,\"ticks\":\"\"},\"type\":\"contourcarpet\"}],\"heatmap\":[{\"colorbar\":{\"outlinewidth\":0,\"ticks\":\"\"},\"colorscale\":[[0.0,\"#0d0887\"],[0.1111111111111111,\"#46039f\"],[0.2222222222222222,\"#7201a8\"],[0.3333333333333333,\"#9c179e\"],[0.4444444444444444,\"#bd3786\"],[0.5555555555555556,\"#d8576b\"],[0.6666666666666666,\"#ed7953\"],[0.7777777777777778,\"#fb9f3a\"],[0.8888888888888888,\"#fdca26\"],[1.0,\"#f0f921\"]],\"type\":\"heatmap\"}],\"heatmapgl\":[{\"colorbar\":{\"outlinewidth\":0,\"ticks\":\"\"},\"colorscale\":[[0.0,\"#0d0887\"],[0.1111111111111111,\"#46039f\"],[0.2222222222222222,\"#7201a8\"],[0.3333333333333333,\"#9c179e\"],[0.4444444444444444,\"#bd3786\"],[0.5555555555555556,\"#d8576b\"],[0.6666666666666666,\"#ed7953\"],[0.7777777777777778,\"#fb9f3a\"],[0.8888888888888888,\"#fdca26\"],[1.0,\"#f0f921\"]],\"type\":\"heatmapgl\"}],\"histogram\":[{\"marker\":{\"pattern\":{\"fillmode\":\"overlay\",\"size\":10,\"solidity\":0.2}},\"type\":\"histogram\"}],\"histogram2d\":[{\"colorbar\":{\"outlinewidth\":0,\"ticks\":\"\"},\"colorscale\":[[0.0,\"#0d0887\"],[0.1111111111111111,\"#46039f\"],[0.2222222222222222,\"#7201a8\"],[0.3333333333333333,\"#9c179e\"],[0.4444444444444444,\"#bd3786\"],[0.5555555555555556,\"#d8576b\"],[0.6666666666666666,\"#ed7953\"],[0.7777777777777778,\"#fb9f3a\"],[0.8888888888888888,\"#fdca26\"],[1.0,\"#f0f921\"]],\"type\":\"histogram2d\"}],\"histogram2dcontour\":[{\"colorbar\":{\"outlinewidth\":0,\"ticks\":\"\"},\"colorscale\":[[0.0,\"#0d0887\"],[0.1111111111111111,\"#46039f\"],[0.2222222222222222,\"#7201a8\"],[0.3333333333333333,\"#9c179e\"],[0.4444444444444444,\"#bd3786\"],[0.5555555555555556,\"#d8576b\"],[0.6666666666666666,\"#ed7953\"],[0.7777777777777778,\"#fb9f3a\"],[0.8888888888888888,\"#fdca26\"],[1.0,\"#f0f921\"]],\"type\":\"histogram2dcontour\"}],\"mesh3d\":[{\"colorbar\":{\"outlinewidth\":0,\"ticks\":\"\"},\"type\":\"mesh3d\"}],\"parcoords\":[{\"line\":{\"colorbar\":{\"outlinewidth\":0,\"ticks\":\"\"}},\"type\":\"parcoords\"}],\"pie\":[{\"automargin\":true,\"type\":\"pie\"}],\"scatter\":[{\"marker\":{\"colorbar\":{\"outlinewidth\":0,\"ticks\":\"\"}},\"type\":\"scatter\"}],\"scatter3d\":[{\"line\":{\"colorbar\":{\"outlinewidth\":0,\"ticks\":\"\"}},\"marker\":{\"colorbar\":{\"outlinewidth\":0,\"ticks\":\"\"}},\"type\":\"scatter3d\"}],\"scattercarpet\":[{\"marker\":{\"colorbar\":{\"outlinewidth\":0,\"ticks\":\"\"}},\"type\":\"scattercarpet\"}],\"scattergeo\":[{\"marker\":{\"colorbar\":{\"outlinewidth\":0,\"ticks\":\"\"}},\"type\":\"scattergeo\"}],\"scattergl\":[{\"marker\":{\"colorbar\":{\"outlinewidth\":0,\"ticks\":\"\"}},\"type\":\"scattergl\"}],\"scattermapbox\":[{\"marker\":{\"colorbar\":{\"outlinewidth\":0,\"ticks\":\"\"}},\"type\":\"scattermapbox\"}],\"scatterpolar\":[{\"marker\":{\"colorbar\":{\"outlinewidth\":0,\"ticks\":\"\"}},\"type\":\"scatterpolar\"}],\"scatterpolargl\":[{\"marker\":{\"colorbar\":{\"outlinewidth\":0,\"ticks\":\"\"}},\"type\":\"scatterpolargl\"}],\"scatterternary\":[{\"marker\":{\"colorbar\":{\"outlinewidth\":0,\"ticks\":\"\"}},\"type\":\"scatterternary\"}],\"surface\":[{\"colorbar\":{\"outlinewidth\":0,\"ticks\":\"\"},\"colorscale\":[[0.0,\"#0d0887\"],[0.1111111111111111,\"#46039f\"],[0.2222222222222222,\"#7201a8\"],[0.3333333333333333,\"#9c179e\"],[0.4444444444444444,\"#bd3786\"],[0.5555555555555556,\"#d8576b\"],[0.6666666666666666,\"#ed7953\"],[0.7777777777777778,\"#fb9f3a\"],[0.8888888888888888,\"#fdca26\"],[1.0,\"#f0f921\"]],\"type\":\"surface\"}],\"table\":[{\"cells\":{\"fill\":{\"color\":\"#EBF0F8\"},\"line\":{\"color\":\"white\"}},\"header\":{\"fill\":{\"color\":\"#C8D4E3\"},\"line\":{\"color\":\"white\"}},\"type\":\"table\"}]},\"layout\":{\"annotationdefaults\":{\"arrowcolor\":\"#2a3f5f\",\"arrowhead\":0,\"arrowwidth\":1},\"autotypenumbers\":\"strict\",\"coloraxis\":{\"colorbar\":{\"outlinewidth\":0,\"ticks\":\"\"}},\"colorscale\":{\"diverging\":[[0,\"#8e0152\"],[0.1,\"#c51b7d\"],[0.2,\"#de77ae\"],[0.3,\"#f1b6da\"],[0.4,\"#fde0ef\"],[0.5,\"#f7f7f7\"],[0.6,\"#e6f5d0\"],[0.7,\"#b8e186\"],[0.8,\"#7fbc41\"],[0.9,\"#4d9221\"],[1,\"#276419\"]],\"sequential\":[[0.0,\"#0d0887\"],[0.1111111111111111,\"#46039f\"],[0.2222222222222222,\"#7201a8\"],[0.3333333333333333,\"#9c179e\"],[0.4444444444444444,\"#bd3786\"],[0.5555555555555556,\"#d8576b\"],[0.6666666666666666,\"#ed7953\"],[0.7777777777777778,\"#fb9f3a\"],[0.8888888888888888,\"#fdca26\"],[1.0,\"#f0f921\"]],\"sequentialminus\":[[0.0,\"#0d0887\"],[0.1111111111111111,\"#46039f\"],[0.2222222222222222,\"#7201a8\"],[0.3333333333333333,\"#9c179e\"],[0.4444444444444444,\"#bd3786\"],[0.5555555555555556,\"#d8576b\"],[0.6666666666666666,\"#ed7953\"],[0.7777777777777778,\"#fb9f3a\"],[0.8888888888888888,\"#fdca26\"],[1.0,\"#f0f921\"]]},\"colorway\":[\"#636efa\",\"#EF553B\",\"#00cc96\",\"#ab63fa\",\"#FFA15A\",\"#19d3f3\",\"#FF6692\",\"#B6E880\",\"#FF97FF\",\"#FECB52\"],\"font\":{\"color\":\"#2a3f5f\"},\"geo\":{\"bgcolor\":\"white\",\"lakecolor\":\"white\",\"landcolor\":\"#E5ECF6\",\"showlakes\":true,\"showland\":true,\"subunitcolor\":\"white\"},\"hoverlabel\":{\"align\":\"left\"},\"hovermode\":\"closest\",\"mapbox\":{\"style\":\"light\"},\"paper_bgcolor\":\"white\",\"plot_bgcolor\":\"#E5ECF6\",\"polar\":{\"angularaxis\":{\"gridcolor\":\"white\",\"linecolor\":\"white\",\"ticks\":\"\"},\"bgcolor\":\"#E5ECF6\",\"radialaxis\":{\"gridcolor\":\"white\",\"linecolor\":\"white\",\"ticks\":\"\"}},\"scene\":{\"xaxis\":{\"backgroundcolor\":\"#E5ECF6\",\"gridcolor\":\"white\",\"gridwidth\":2,\"linecolor\":\"white\",\"showbackground\":true,\"ticks\":\"\",\"zerolinecolor\":\"white\"},\"yaxis\":{\"backgroundcolor\":\"#E5ECF6\",\"gridcolor\":\"white\",\"gridwidth\":2,\"linecolor\":\"white\",\"showbackground\":true,\"ticks\":\"\",\"zerolinecolor\":\"white\"},\"zaxis\":{\"backgroundcolor\":\"#E5ECF6\",\"gridcolor\":\"white\",\"gridwidth\":2,\"linecolor\":\"white\",\"showbackground\":true,\"ticks\":\"\",\"zerolinecolor\":\"white\"}},\"shapedefaults\":{\"line\":{\"color\":\"#2a3f5f\"}},\"ternary\":{\"aaxis\":{\"gridcolor\":\"white\",\"linecolor\":\"white\",\"ticks\":\"\"},\"baxis\":{\"gridcolor\":\"white\",\"linecolor\":\"white\",\"ticks\":\"\"},\"bgcolor\":\"#E5ECF6\",\"caxis\":{\"gridcolor\":\"white\",\"linecolor\":\"white\",\"ticks\":\"\"}},\"title\":{\"x\":0.05},\"xaxis\":{\"automargin\":true,\"gridcolor\":\"white\",\"linecolor\":\"white\",\"ticks\":\"\",\"title\":{\"standoff\":15},\"zerolinecolor\":\"white\",\"zerolinewidth\":2},\"yaxis\":{\"automargin\":true,\"gridcolor\":\"white\",\"linecolor\":\"white\",\"ticks\":\"\",\"title\":{\"standoff\":15},\"zerolinecolor\":\"white\",\"zerolinewidth\":2}}},\"xaxis\":{\"anchor\":\"y\",\"domain\":[0.0,0.45]},\"yaxis\":{\"anchor\":\"x\",\"domain\":[0.0,1.0],\"range\":[0,3000]},\"xaxis2\":{\"anchor\":\"y2\",\"domain\":[0.55,1.0],\"matches\":\"x\"},\"yaxis2\":{\"anchor\":\"x2\",\"domain\":[0.0,1.0],\"matches\":\"y\",\"showticklabels\":false,\"range\":[0,3000]},\"annotations\":[{\"font\":{\"size\":16},\"showarrow\":false,\"text\":\"Quantity Purchased\",\"textangle\":-90,\"x\":0,\"xanchor\":\"right\",\"xref\":\"paper\",\"xshift\":-40,\"y\":0.5,\"yanchor\":\"middle\",\"yref\":\"paper\"}],\"title\":{\"text\":\"Monthly Changes in Quantity Purchased Per Month\",\"x\":0.5,\"y\":0.9},\"height\":600,\"width\":1000},                        {\"responsive\": true}                    ).then(function(){\n",
       "                            \n",
       "var gd = document.getElementById('516b3206-8f57-4a9b-84c1-7024c0fd7595');\n",
       "var x = new MutationObserver(function (mutations, observer) {{\n",
       "        var display = window.getComputedStyle(gd).display;\n",
       "        if (!display || display === 'none') {{\n",
       "            console.log([gd, 'removed!']);\n",
       "            Plotly.purge(gd);\n",
       "            observer.disconnect();\n",
       "        }}\n",
       "}});\n",
       "\n",
       "// Listen for the removal of the full notebook cells\n",
       "var notebookContainer = gd.closest('#notebook-container');\n",
       "if (notebookContainer) {{\n",
       "    x.observe(notebookContainer, {childList: true});\n",
       "}}\n",
       "\n",
       "// Listen for the clearing of the current output cell\n",
       "var outputEl = gd.closest('.output');\n",
       "if (outputEl) {{\n",
       "    x.observe(outputEl, {childList: true});\n",
       "}}\n",
       "\n",
       "                        })                };                });            </script>        </div>"
      ]
     },
     "metadata": {},
     "output_type": "display_data"
    }
   ],
   "source": [
    "#Creating a fig with subplots so a align the multiple chart side y side\n",
    "fig = make_subplots(rows=1,cols=2,shared_xaxes='all',shared_yaxes='all',y_title='Quantity Purchased')\n",
    "\n",
    "#adding the first chart to the location in the fig\n",
    "fig.add_trace(a,row=1,col=1)\n",
    "\n",
    "#adding the second chart to the location in the fig\n",
    "fig.add_trace(b,row=1,col=2)\n",
    "\n",
    "#changing the size  editing of chart\n",
    "fig.update_layout(height=600, width=1000, title='Monthly Changes in Quantity Purchased Per Month',title_x=0.5,title_y=0.90)\n",
    "\n",
    "#changing the axis ticks\n",
    "#fig.update_xaxes(range = np.arange())\n",
    "fig.update_yaxes(range = [0,3000])\n",
    "fig.show()"
   ]
  },
  {
   "cell_type": "markdown",
   "id": "adeea8b9",
   "metadata": {},
   "source": [
    "The insight derived from the breakdown of items purchsed per month aligned with the combined years as there appears to be increase in <b>sales</b> from <b>March to August</b>."
   ]
  },
  {
   "cell_type": "code",
   "execution_count": 56,
   "id": "47d83288",
   "metadata": {},
   "outputs": [],
   "source": [
    "#getting the most sold items from the dataframe\n",
    "freq_item = [df['itemDescription'].value_counts().head(20)]"
   ]
  },
  {
   "cell_type": "code",
   "execution_count": 57,
   "id": "df93f2ca",
   "metadata": {},
   "outputs": [
    {
     "data": {
      "text/plain": [
       "[whole milk            2502\n",
       " other vegetables      1898\n",
       " rolls/buns            1716\n",
       " soda                  1514\n",
       " yogurt                1334\n",
       " root vegetables       1071\n",
       " tropical fruit        1032\n",
       " bottled water          933\n",
       " sausage                924\n",
       " citrus fruit           812\n",
       " pastry                 785\n",
       " pip fruit              744\n",
       " shopping bags          731\n",
       " canned beer            717\n",
       " bottled beer           687\n",
       " whipped/sour cream     662\n",
       " newspapers             596\n",
       " frankfurter            580\n",
       " brown bread            571\n",
       " pork                   566\n",
       " Name: itemDescription, dtype: int64]"
      ]
     },
     "execution_count": 57,
     "metadata": {},
     "output_type": "execute_result"
    }
   ],
   "source": [
    "freq_item "
   ]
  },
  {
   "cell_type": "markdown",
   "id": "eab2abf4",
   "metadata": {},
   "source": [
    "## The Top 5 most sold items from the retail stores are:<p></p>\n",
    "<li>Whole Milk</li>\n",
    "<li>Other Vegetables</li>\n",
    "<li>Rolls/Buns</li>\n",
    "<li>Soda</li>\n",
    "<li>Yogurt</li>\n",
    "\n",
    "Since these are the most purchased items from the retails understanding the consequent items of this sold produts will improve sales and customer statisfaction.<p></p>\n",
    "\n",
    "#### Lets take a dive inside the data using Market Basket Analysis to understand customers purchasing behaviour"
   ]
  },
  {
   "cell_type": "markdown",
   "id": "a121a433",
   "metadata": {},
   "source": [
    "### 3.2 Creating a list of list \n",
    "From the df dataframe we create a bsk daframe which shows the list of item purchased  in a single transcation i.e The list on items an individual bought in a single transaction "
   ]
  },
  {
   "cell_type": "code",
   "execution_count": 58,
   "id": "03ed5ad3",
   "metadata": {},
   "outputs": [
    {
     "data": {
      "text/html": [
       "<div>\n",
       "<style scoped>\n",
       "    .dataframe tbody tr th:only-of-type {\n",
       "        vertical-align: middle;\n",
       "    }\n",
       "\n",
       "    .dataframe tbody tr th {\n",
       "        vertical-align: top;\n",
       "    }\n",
       "\n",
       "    .dataframe thead th {\n",
       "        text-align: right;\n",
       "    }\n",
       "</style>\n",
       "<table border=\"1\" class=\"dataframe\">\n",
       "  <thead>\n",
       "    <tr style=\"text-align: right;\">\n",
       "      <th></th>\n",
       "      <th>Member_number</th>\n",
       "      <th>Date</th>\n",
       "      <th>itemDescription</th>\n",
       "      <th>year</th>\n",
       "      <th>month</th>\n",
       "      <th>day</th>\n",
       "      <th>day_of_week</th>\n",
       "    </tr>\n",
       "  </thead>\n",
       "  <tbody>\n",
       "    <tr>\n",
       "      <th>0</th>\n",
       "      <td>1808</td>\n",
       "      <td>2015-07-21</td>\n",
       "      <td>tropical fruit,</td>\n",
       "      <td>2015</td>\n",
       "      <td>7</td>\n",
       "      <td>21</td>\n",
       "      <td>1</td>\n",
       "    </tr>\n",
       "    <tr>\n",
       "      <th>1</th>\n",
       "      <td>2552</td>\n",
       "      <td>2015-05-01</td>\n",
       "      <td>whole milk,</td>\n",
       "      <td>2015</td>\n",
       "      <td>5</td>\n",
       "      <td>1</td>\n",
       "      <td>4</td>\n",
       "    </tr>\n",
       "    <tr>\n",
       "      <th>2</th>\n",
       "      <td>2300</td>\n",
       "      <td>2015-09-19</td>\n",
       "      <td>pip fruit,</td>\n",
       "      <td>2015</td>\n",
       "      <td>9</td>\n",
       "      <td>19</td>\n",
       "      <td>5</td>\n",
       "    </tr>\n",
       "    <tr>\n",
       "      <th>3</th>\n",
       "      <td>1187</td>\n",
       "      <td>2015-12-12</td>\n",
       "      <td>other vegetables,</td>\n",
       "      <td>2015</td>\n",
       "      <td>12</td>\n",
       "      <td>12</td>\n",
       "      <td>5</td>\n",
       "    </tr>\n",
       "    <tr>\n",
       "      <th>4</th>\n",
       "      <td>3037</td>\n",
       "      <td>2015-01-02</td>\n",
       "      <td>whole milk,</td>\n",
       "      <td>2015</td>\n",
       "      <td>1</td>\n",
       "      <td>2</td>\n",
       "      <td>4</td>\n",
       "    </tr>\n",
       "    <tr>\n",
       "      <th>...</th>\n",
       "      <td>...</td>\n",
       "      <td>...</td>\n",
       "      <td>...</td>\n",
       "      <td>...</td>\n",
       "      <td>...</td>\n",
       "      <td>...</td>\n",
       "      <td>...</td>\n",
       "    </tr>\n",
       "    <tr>\n",
       "      <th>38760</th>\n",
       "      <td>4471</td>\n",
       "      <td>2014-08-10</td>\n",
       "      <td>sliced cheese,</td>\n",
       "      <td>2014</td>\n",
       "      <td>8</td>\n",
       "      <td>10</td>\n",
       "      <td>6</td>\n",
       "    </tr>\n",
       "    <tr>\n",
       "      <th>38761</th>\n",
       "      <td>2022</td>\n",
       "      <td>2014-02-23</td>\n",
       "      <td>candy,</td>\n",
       "      <td>2014</td>\n",
       "      <td>2</td>\n",
       "      <td>23</td>\n",
       "      <td>6</td>\n",
       "    </tr>\n",
       "    <tr>\n",
       "      <th>38762</th>\n",
       "      <td>1097</td>\n",
       "      <td>2014-04-16</td>\n",
       "      <td>cake bar,</td>\n",
       "      <td>2014</td>\n",
       "      <td>4</td>\n",
       "      <td>16</td>\n",
       "      <td>2</td>\n",
       "    </tr>\n",
       "    <tr>\n",
       "      <th>38763</th>\n",
       "      <td>1510</td>\n",
       "      <td>2014-03-12</td>\n",
       "      <td>fruit/vegetable juice,</td>\n",
       "      <td>2014</td>\n",
       "      <td>3</td>\n",
       "      <td>12</td>\n",
       "      <td>2</td>\n",
       "    </tr>\n",
       "    <tr>\n",
       "      <th>38764</th>\n",
       "      <td>1521</td>\n",
       "      <td>2014-12-26</td>\n",
       "      <td>cat food,</td>\n",
       "      <td>2014</td>\n",
       "      <td>12</td>\n",
       "      <td>26</td>\n",
       "      <td>4</td>\n",
       "    </tr>\n",
       "  </tbody>\n",
       "</table>\n",
       "<p>38765 rows × 7 columns</p>\n",
       "</div>"
      ],
      "text/plain": [
       "       Member_number       Date         itemDescription  year  month  day  \\\n",
       "0               1808 2015-07-21         tropical fruit,  2015      7   21   \n",
       "1               2552 2015-05-01             whole milk,  2015      5    1   \n",
       "2               2300 2015-09-19              pip fruit,  2015      9   19   \n",
       "3               1187 2015-12-12       other vegetables,  2015     12   12   \n",
       "4               3037 2015-01-02             whole milk,  2015      1    2   \n",
       "...              ...        ...                     ...   ...    ...  ...   \n",
       "38760           4471 2014-08-10          sliced cheese,  2014      8   10   \n",
       "38761           2022 2014-02-23                  candy,  2014      2   23   \n",
       "38762           1097 2014-04-16               cake bar,  2014      4   16   \n",
       "38763           1510 2014-03-12  fruit/vegetable juice,  2014      3   12   \n",
       "38764           1521 2014-12-26               cat food,  2014     12   26   \n",
       "\n",
       "       day_of_week  \n",
       "0                1  \n",
       "1                4  \n",
       "2                5  \n",
       "3                5  \n",
       "4                4  \n",
       "...            ...  \n",
       "38760            6  \n",
       "38761            6  \n",
       "38762            2  \n",
       "38763            2  \n",
       "38764            4  \n",
       "\n",
       "[38765 rows x 7 columns]"
      ]
     },
     "execution_count": 58,
     "metadata": {},
     "output_type": "execute_result"
    }
   ],
   "source": [
    "#duplicating my dataframe\n",
    "bsk = df\n",
    "\n",
    "#adding coma to the end value in my itemdescription: so when coming the item based on an individual on a single transaction they are separated by coma\n",
    "bsk['itemDescription'] = bsk['itemDescription'].apply(lambda x : x+',')\n",
    "bsk"
   ]
  },
  {
   "cell_type": "code",
   "execution_count": 59,
   "id": "00bed35b",
   "metadata": {},
   "outputs": [],
   "source": [
    "#grouping my dataframe by MemberId and Transactioon date.. and suming the itemdescription to concatenate the item together while setting index as false so as to avoid multi-index level\n",
    "bsk=bsk.groupby([\"Member_number\",\"Date\"], as_index = False)['itemDescription'].sum()"
   ]
  },
  {
   "cell_type": "code",
   "execution_count": 60,
   "id": "7c83fa05",
   "metadata": {},
   "outputs": [
    {
     "data": {
      "text/html": [
       "<div>\n",
       "<style scoped>\n",
       "    .dataframe tbody tr th:only-of-type {\n",
       "        vertical-align: middle;\n",
       "    }\n",
       "\n",
       "    .dataframe tbody tr th {\n",
       "        vertical-align: top;\n",
       "    }\n",
       "\n",
       "    .dataframe thead th {\n",
       "        text-align: right;\n",
       "    }\n",
       "</style>\n",
       "<table border=\"1\" class=\"dataframe\">\n",
       "  <thead>\n",
       "    <tr style=\"text-align: right;\">\n",
       "      <th></th>\n",
       "      <th>Member_number</th>\n",
       "      <th>Date</th>\n",
       "      <th>itemDescription</th>\n",
       "    </tr>\n",
       "  </thead>\n",
       "  <tbody>\n",
       "    <tr>\n",
       "      <th>0</th>\n",
       "      <td>1000</td>\n",
       "      <td>2014-06-24</td>\n",
       "      <td>whole milk,pastry,salty snack,</td>\n",
       "    </tr>\n",
       "    <tr>\n",
       "      <th>1</th>\n",
       "      <td>1000</td>\n",
       "      <td>2015-03-15</td>\n",
       "      <td>sausage,whole milk,semi-finished bread,yogurt,</td>\n",
       "    </tr>\n",
       "    <tr>\n",
       "      <th>2</th>\n",
       "      <td>1000</td>\n",
       "      <td>2015-05-27</td>\n",
       "      <td>soda,pickled vegetables,</td>\n",
       "    </tr>\n",
       "    <tr>\n",
       "      <th>3</th>\n",
       "      <td>1000</td>\n",
       "      <td>2015-07-24</td>\n",
       "      <td>canned beer,misc. beverages,</td>\n",
       "    </tr>\n",
       "    <tr>\n",
       "      <th>4</th>\n",
       "      <td>1000</td>\n",
       "      <td>2015-11-25</td>\n",
       "      <td>sausage,hygiene articles,</td>\n",
       "    </tr>\n",
       "    <tr>\n",
       "      <th>...</th>\n",
       "      <td>...</td>\n",
       "      <td>...</td>\n",
       "      <td>...</td>\n",
       "    </tr>\n",
       "    <tr>\n",
       "      <th>14958</th>\n",
       "      <td>4999</td>\n",
       "      <td>2015-05-16</td>\n",
       "      <td>butter milk,whipped/sour cream,</td>\n",
       "    </tr>\n",
       "    <tr>\n",
       "      <th>14959</th>\n",
       "      <td>4999</td>\n",
       "      <td>2015-12-26</td>\n",
       "      <td>bottled water,herbs,</td>\n",
       "    </tr>\n",
       "    <tr>\n",
       "      <th>14960</th>\n",
       "      <td>5000</td>\n",
       "      <td>2014-09-03</td>\n",
       "      <td>fruit/vegetable juice,onions,</td>\n",
       "    </tr>\n",
       "    <tr>\n",
       "      <th>14961</th>\n",
       "      <td>5000</td>\n",
       "      <td>2014-11-16</td>\n",
       "      <td>bottled beer,other vegetables,</td>\n",
       "    </tr>\n",
       "    <tr>\n",
       "      <th>14962</th>\n",
       "      <td>5000</td>\n",
       "      <td>2015-10-02</td>\n",
       "      <td>soda,root vegetables,semi-finished bread,</td>\n",
       "    </tr>\n",
       "  </tbody>\n",
       "</table>\n",
       "<p>14963 rows × 3 columns</p>\n",
       "</div>"
      ],
      "text/plain": [
       "       Member_number       Date  \\\n",
       "0               1000 2014-06-24   \n",
       "1               1000 2015-03-15   \n",
       "2               1000 2015-05-27   \n",
       "3               1000 2015-07-24   \n",
       "4               1000 2015-11-25   \n",
       "...              ...        ...   \n",
       "14958           4999 2015-05-16   \n",
       "14959           4999 2015-12-26   \n",
       "14960           5000 2014-09-03   \n",
       "14961           5000 2014-11-16   \n",
       "14962           5000 2015-10-02   \n",
       "\n",
       "                                      itemDescription  \n",
       "0                      whole milk,pastry,salty snack,  \n",
       "1      sausage,whole milk,semi-finished bread,yogurt,  \n",
       "2                            soda,pickled vegetables,  \n",
       "3                        canned beer,misc. beverages,  \n",
       "4                           sausage,hygiene articles,  \n",
       "...                                               ...  \n",
       "14958                 butter milk,whipped/sour cream,  \n",
       "14959                            bottled water,herbs,  \n",
       "14960                   fruit/vegetable juice,onions,  \n",
       "14961                  bottled beer,other vegetables,  \n",
       "14962       soda,root vegetables,semi-finished bread,  \n",
       "\n",
       "[14963 rows x 3 columns]"
      ]
     },
     "execution_count": 60,
     "metadata": {},
     "output_type": "execute_result"
    }
   ],
   "source": [
    "pd.DataFrame(bsk)"
   ]
  },
  {
   "cell_type": "code",
   "execution_count": 61,
   "id": "4f029091",
   "metadata": {},
   "outputs": [],
   "source": [
    "#Creating a list of a list, which is the list of items bought in a single transcation\n",
    "itemlist = []\n",
    "for i in range(len(bsk)):\n",
    "    #appending each list in the itemDescription into the itemlist variable without the last value which is the coma\n",
    "    itemlist.append(str(bsk.values[i,2][:-1])) "
   ]
  },
  {
   "cell_type": "code",
   "execution_count": 62,
   "id": "dc70c2bc",
   "metadata": {},
   "outputs": [
    {
     "data": {
      "text/plain": [
       "'whole milk,pastry,salty snack,'"
      ]
     },
     "execution_count": 62,
     "metadata": {},
     "output_type": "execute_result"
    }
   ],
   "source": [
    "#checking the first list of item purchased in the basket dataframe\n",
    "bsk.values[0,2]\n"
   ]
  },
  {
   "cell_type": "code",
   "execution_count": 63,
   "id": "9b81f8fe",
   "metadata": {},
   "outputs": [
    {
     "data": {
      "text/plain": [
       "'whole milk,pastry,salty snack'"
      ]
     },
     "execution_count": 63,
     "metadata": {},
     "output_type": "execute_result"
    }
   ],
   "source": [
    "#cross-checking the item on the list with the item in the item list \n",
    "itemlist[0]"
   ]
  },
  {
   "cell_type": "markdown",
   "id": "e6639140",
   "metadata": {},
   "source": [
    "The (Basket) bsk list of all item purchased in a single transaction"
   ]
  },
  {
   "cell_type": "code",
   "execution_count": 64,
   "id": "5f990d34",
   "metadata": {},
   "outputs": [
    {
     "data": {
      "text/html": [
       "<div>\n",
       "<style scoped>\n",
       "    .dataframe tbody tr th:only-of-type {\n",
       "        vertical-align: middle;\n",
       "    }\n",
       "\n",
       "    .dataframe tbody tr th {\n",
       "        vertical-align: top;\n",
       "    }\n",
       "\n",
       "    .dataframe thead th {\n",
       "        text-align: right;\n",
       "    }\n",
       "</style>\n",
       "<table border=\"1\" class=\"dataframe\">\n",
       "  <thead>\n",
       "    <tr style=\"text-align: right;\">\n",
       "      <th></th>\n",
       "      <th>0</th>\n",
       "    </tr>\n",
       "  </thead>\n",
       "  <tbody>\n",
       "    <tr>\n",
       "      <th>0</th>\n",
       "      <td>whole milk,pastry,salty snack</td>\n",
       "    </tr>\n",
       "    <tr>\n",
       "      <th>1</th>\n",
       "      <td>sausage,whole milk,semi-finished bread,yogurt</td>\n",
       "    </tr>\n",
       "    <tr>\n",
       "      <th>2</th>\n",
       "      <td>soda,pickled vegetables</td>\n",
       "    </tr>\n",
       "    <tr>\n",
       "      <th>3</th>\n",
       "      <td>canned beer,misc. beverages</td>\n",
       "    </tr>\n",
       "    <tr>\n",
       "      <th>4</th>\n",
       "      <td>sausage,hygiene articles</td>\n",
       "    </tr>\n",
       "    <tr>\n",
       "      <th>...</th>\n",
       "      <td>...</td>\n",
       "    </tr>\n",
       "    <tr>\n",
       "      <th>14958</th>\n",
       "      <td>butter milk,whipped/sour cream</td>\n",
       "    </tr>\n",
       "    <tr>\n",
       "      <th>14959</th>\n",
       "      <td>bottled water,herbs</td>\n",
       "    </tr>\n",
       "    <tr>\n",
       "      <th>14960</th>\n",
       "      <td>fruit/vegetable juice,onions</td>\n",
       "    </tr>\n",
       "    <tr>\n",
       "      <th>14961</th>\n",
       "      <td>bottled beer,other vegetables</td>\n",
       "    </tr>\n",
       "    <tr>\n",
       "      <th>14962</th>\n",
       "      <td>soda,root vegetables,semi-finished bread</td>\n",
       "    </tr>\n",
       "  </tbody>\n",
       "</table>\n",
       "<p>14963 rows × 1 columns</p>\n",
       "</div>"
      ],
      "text/plain": [
       "                                                   0\n",
       "0                      whole milk,pastry,salty snack\n",
       "1      sausage,whole milk,semi-finished bread,yogurt\n",
       "2                            soda,pickled vegetables\n",
       "3                        canned beer,misc. beverages\n",
       "4                           sausage,hygiene articles\n",
       "...                                              ...\n",
       "14958                 butter milk,whipped/sour cream\n",
       "14959                            bottled water,herbs\n",
       "14960                   fruit/vegetable juice,onions\n",
       "14961                  bottled beer,other vegetables\n",
       "14962       soda,root vegetables,semi-finished bread\n",
       "\n",
       "[14963 rows x 1 columns]"
      ]
     },
     "execution_count": 64,
     "metadata": {},
     "output_type": "execute_result"
    }
   ],
   "source": [
    "pd.DataFrame(itemlist)"
   ]
  },
  {
   "cell_type": "markdown",
   "id": "17c44643",
   "metadata": {},
   "source": [
    "We can see the itemlist created is a pd.Series with list of items.<p></p>\n",
    "We split each of the item in the itemlist into different columns the create a dataframe"
   ]
  },
  {
   "cell_type": "code",
   "execution_count": 65,
   "id": "1a59d4de",
   "metadata": {},
   "outputs": [
    {
     "data": {
      "text/html": [
       "<div>\n",
       "<style scoped>\n",
       "    .dataframe tbody tr th:only-of-type {\n",
       "        vertical-align: middle;\n",
       "    }\n",
       "\n",
       "    .dataframe tbody tr th {\n",
       "        vertical-align: top;\n",
       "    }\n",
       "\n",
       "    .dataframe thead th {\n",
       "        text-align: right;\n",
       "    }\n",
       "</style>\n",
       "<table border=\"1\" class=\"dataframe\">\n",
       "  <thead>\n",
       "    <tr style=\"text-align: right;\">\n",
       "      <th></th>\n",
       "      <th>0</th>\n",
       "      <th>1</th>\n",
       "      <th>2</th>\n",
       "      <th>3</th>\n",
       "      <th>4</th>\n",
       "      <th>5</th>\n",
       "      <th>6</th>\n",
       "      <th>7</th>\n",
       "      <th>8</th>\n",
       "      <th>9</th>\n",
       "      <th>10</th>\n",
       "    </tr>\n",
       "  </thead>\n",
       "  <tbody>\n",
       "    <tr>\n",
       "      <th>0</th>\n",
       "      <td>whole milk</td>\n",
       "      <td>pastry</td>\n",
       "      <td>salty snack</td>\n",
       "      <td>NaN</td>\n",
       "      <td>NaN</td>\n",
       "      <td>NaN</td>\n",
       "      <td>NaN</td>\n",
       "      <td>NaN</td>\n",
       "      <td>NaN</td>\n",
       "      <td>NaN</td>\n",
       "      <td>NaN</td>\n",
       "    </tr>\n",
       "    <tr>\n",
       "      <th>1</th>\n",
       "      <td>sausage</td>\n",
       "      <td>whole milk</td>\n",
       "      <td>semi-finished bread</td>\n",
       "      <td>yogurt</td>\n",
       "      <td>NaN</td>\n",
       "      <td>NaN</td>\n",
       "      <td>NaN</td>\n",
       "      <td>NaN</td>\n",
       "      <td>NaN</td>\n",
       "      <td>NaN</td>\n",
       "      <td>NaN</td>\n",
       "    </tr>\n",
       "    <tr>\n",
       "      <th>2</th>\n",
       "      <td>soda</td>\n",
       "      <td>pickled vegetables</td>\n",
       "      <td>NaN</td>\n",
       "      <td>NaN</td>\n",
       "      <td>NaN</td>\n",
       "      <td>NaN</td>\n",
       "      <td>NaN</td>\n",
       "      <td>NaN</td>\n",
       "      <td>NaN</td>\n",
       "      <td>NaN</td>\n",
       "      <td>NaN</td>\n",
       "    </tr>\n",
       "    <tr>\n",
       "      <th>3</th>\n",
       "      <td>canned beer</td>\n",
       "      <td>misc. beverages</td>\n",
       "      <td>NaN</td>\n",
       "      <td>NaN</td>\n",
       "      <td>NaN</td>\n",
       "      <td>NaN</td>\n",
       "      <td>NaN</td>\n",
       "      <td>NaN</td>\n",
       "      <td>NaN</td>\n",
       "      <td>NaN</td>\n",
       "      <td>NaN</td>\n",
       "    </tr>\n",
       "    <tr>\n",
       "      <th>4</th>\n",
       "      <td>sausage</td>\n",
       "      <td>hygiene articles</td>\n",
       "      <td>NaN</td>\n",
       "      <td>NaN</td>\n",
       "      <td>NaN</td>\n",
       "      <td>NaN</td>\n",
       "      <td>NaN</td>\n",
       "      <td>NaN</td>\n",
       "      <td>NaN</td>\n",
       "      <td>NaN</td>\n",
       "      <td>NaN</td>\n",
       "    </tr>\n",
       "    <tr>\n",
       "      <th>...</th>\n",
       "      <td>...</td>\n",
       "      <td>...</td>\n",
       "      <td>...</td>\n",
       "      <td>...</td>\n",
       "      <td>...</td>\n",
       "      <td>...</td>\n",
       "      <td>...</td>\n",
       "      <td>...</td>\n",
       "      <td>...</td>\n",
       "      <td>...</td>\n",
       "      <td>...</td>\n",
       "    </tr>\n",
       "    <tr>\n",
       "      <th>14958</th>\n",
       "      <td>butter milk</td>\n",
       "      <td>whipped/sour cream</td>\n",
       "      <td>NaN</td>\n",
       "      <td>NaN</td>\n",
       "      <td>NaN</td>\n",
       "      <td>NaN</td>\n",
       "      <td>NaN</td>\n",
       "      <td>NaN</td>\n",
       "      <td>NaN</td>\n",
       "      <td>NaN</td>\n",
       "      <td>NaN</td>\n",
       "    </tr>\n",
       "    <tr>\n",
       "      <th>14959</th>\n",
       "      <td>bottled water</td>\n",
       "      <td>herbs</td>\n",
       "      <td>NaN</td>\n",
       "      <td>NaN</td>\n",
       "      <td>NaN</td>\n",
       "      <td>NaN</td>\n",
       "      <td>NaN</td>\n",
       "      <td>NaN</td>\n",
       "      <td>NaN</td>\n",
       "      <td>NaN</td>\n",
       "      <td>NaN</td>\n",
       "    </tr>\n",
       "    <tr>\n",
       "      <th>14960</th>\n",
       "      <td>fruit/vegetable juice</td>\n",
       "      <td>onions</td>\n",
       "      <td>NaN</td>\n",
       "      <td>NaN</td>\n",
       "      <td>NaN</td>\n",
       "      <td>NaN</td>\n",
       "      <td>NaN</td>\n",
       "      <td>NaN</td>\n",
       "      <td>NaN</td>\n",
       "      <td>NaN</td>\n",
       "      <td>NaN</td>\n",
       "    </tr>\n",
       "    <tr>\n",
       "      <th>14961</th>\n",
       "      <td>bottled beer</td>\n",
       "      <td>other vegetables</td>\n",
       "      <td>NaN</td>\n",
       "      <td>NaN</td>\n",
       "      <td>NaN</td>\n",
       "      <td>NaN</td>\n",
       "      <td>NaN</td>\n",
       "      <td>NaN</td>\n",
       "      <td>NaN</td>\n",
       "      <td>NaN</td>\n",
       "      <td>NaN</td>\n",
       "    </tr>\n",
       "    <tr>\n",
       "      <th>14962</th>\n",
       "      <td>soda</td>\n",
       "      <td>root vegetables</td>\n",
       "      <td>semi-finished bread</td>\n",
       "      <td>NaN</td>\n",
       "      <td>NaN</td>\n",
       "      <td>NaN</td>\n",
       "      <td>NaN</td>\n",
       "      <td>NaN</td>\n",
       "      <td>NaN</td>\n",
       "      <td>NaN</td>\n",
       "      <td>NaN</td>\n",
       "    </tr>\n",
       "  </tbody>\n",
       "</table>\n",
       "<p>14963 rows × 11 columns</p>\n",
       "</div>"
      ],
      "text/plain": [
       "                          0                   1                    2       3   \\\n",
       "0                 whole milk              pastry          salty snack     NaN   \n",
       "1                    sausage          whole milk  semi-finished bread  yogurt   \n",
       "2                       soda  pickled vegetables                  NaN     NaN   \n",
       "3                canned beer     misc. beverages                  NaN     NaN   \n",
       "4                    sausage    hygiene articles                  NaN     NaN   \n",
       "...                      ...                 ...                  ...     ...   \n",
       "14958            butter milk  whipped/sour cream                  NaN     NaN   \n",
       "14959          bottled water               herbs                  NaN     NaN   \n",
       "14960  fruit/vegetable juice              onions                  NaN     NaN   \n",
       "14961           bottled beer    other vegetables                  NaN     NaN   \n",
       "14962                   soda     root vegetables  semi-finished bread     NaN   \n",
       "\n",
       "        4    5    6    7    8    9    10  \n",
       "0      NaN  NaN  NaN  NaN  NaN  NaN  NaN  \n",
       "1      NaN  NaN  NaN  NaN  NaN  NaN  NaN  \n",
       "2      NaN  NaN  NaN  NaN  NaN  NaN  NaN  \n",
       "3      NaN  NaN  NaN  NaN  NaN  NaN  NaN  \n",
       "4      NaN  NaN  NaN  NaN  NaN  NaN  NaN  \n",
       "...    ...  ...  ...  ...  ...  ...  ...  \n",
       "14958  NaN  NaN  NaN  NaN  NaN  NaN  NaN  \n",
       "14959  NaN  NaN  NaN  NaN  NaN  NaN  NaN  \n",
       "14960  NaN  NaN  NaN  NaN  NaN  NaN  NaN  \n",
       "14961  NaN  NaN  NaN  NaN  NaN  NaN  NaN  \n",
       "14962  NaN  NaN  NaN  NaN  NaN  NaN  NaN  \n",
       "\n",
       "[14963 rows x 11 columns]"
      ]
     },
     "execution_count": 65,
     "metadata": {},
     "output_type": "execute_result"
    }
   ],
   "source": [
    "#we split each of the item in the itemlist into different columns the create a dataframe\n",
    "f = pd.Series(itemlist)\n",
    "itemlist = f.apply(lambda x : pd.Series(str(x).split(',')))\n",
    "itemlist"
   ]
  },
  {
   "cell_type": "code",
   "execution_count": 66,
   "id": "0faf39b1",
   "metadata": {},
   "outputs": [],
   "source": [
    "#replacing the None value with Na \n",
    "itemlist.fillna('Na',inplace=True)\n",
    "\n",
    "#converting each row in the itemlist dataframe into a list\n",
    "itemlist = itemlist.values.tolist()\n"
   ]
  },
  {
   "cell_type": "code",
   "execution_count": 67,
   "id": "0721a5bd",
   "metadata": {},
   "outputs": [
    {
     "data": {
      "text/plain": [
       "14963"
      ]
     },
     "execution_count": 67,
     "metadata": {},
     "output_type": "execute_result"
    }
   ],
   "source": [
    "#assigning the variable lenght with the number of roles in the dataframe\n",
    "length = len(itemlist)\n",
    "length"
   ]
  },
  {
   "cell_type": "code",
   "execution_count": 68,
   "id": "e4daccde",
   "metadata": {},
   "outputs": [],
   "source": [
    "#excluding the Na Value from the list of item \n",
    "for i in range (length):\n",
    "    itemlist[i] = [x for x in itemlist[i] if x != 'Na']\n"
   ]
  },
  {
   "cell_type": "code",
   "execution_count": 69,
   "id": "4f04c9c1",
   "metadata": {},
   "outputs": [
    {
     "data": {
      "text/plain": [
       "[['whole milk', 'pastry', 'salty snack'],\n",
       " ['sausage', 'whole milk', 'semi-finished bread', 'yogurt'],\n",
       " ['soda', 'pickled vegetables'],\n",
       " ['canned beer', 'misc. beverages'],\n",
       " ['sausage', 'hygiene articles'],\n",
       " ['sausage', 'whole milk', 'rolls/buns'],\n",
       " ['whole milk', 'soda'],\n",
       " ['frankfurter', 'soda', 'whipped/sour cream'],\n",
       " ['frankfurter', 'curd'],\n",
       " ['beef', 'white bread'],\n",
       " ['butter', 'whole milk'],\n",
       " ['frozen vegetables', 'other vegetables'],\n",
       " ['tropical fruit', 'sugar'],\n",
       " ['butter milk', 'specialty chocolate'],\n",
       " ['frozen meals', 'dental care'],\n",
       " ['rolls/buns', 'rolls/buns'],\n",
       " ['root vegetables', 'detergent'],\n",
       " ['sausage', 'rolls/buns'],\n",
       " ['dish cleaner', 'cling film/bags'],\n",
       " ['canned beer', 'frozen fish'],\n",
       " ['pip fruit', 'whole milk', 'tropical fruit'],\n",
       " ['root vegetables', 'whole milk', 'pastry'],\n",
       " ['rolls/buns', 'red/blush wine', 'chocolate'],\n",
       " ['other vegetables', 'shopping bags'],\n",
       " ['whole milk', 'chocolate', 'packaged fruit/vegetables', 'rolls/buns'],\n",
       " ['other vegetables', 'hygiene articles'],\n",
       " ['whipped/sour cream', 'margarine'],\n",
       " ['rolls/buns', 'rolls/buns'],\n",
       " ['bottled water', 'softener', 'rolls/buns'],\n",
       " ['whole milk', 'rice'],\n",
       " ['shopping bags', 'skin care'],\n",
       " ['whole milk',\n",
       "  'frankfurter',\n",
       "  'chicken',\n",
       "  'frankfurter',\n",
       "  'flour',\n",
       "  'chocolate',\n",
       "  'bottled beer',\n",
       "  'rolls/buns'],\n",
       " ['hamburger meat', 'liquor (appetizer)', 'liver loaf', 'dessert'],\n",
       " ['tropical fruit',\n",
       "  'soda',\n",
       "  'yogurt',\n",
       "  'root vegetables',\n",
       "  'yogurt',\n",
       "  'domestic eggs',\n",
       "  'white wine',\n",
       "  'photo/film'],\n",
       " ['canned fish', 'cocoa drinks'],\n",
       " ['herbs', 'yogurt', 'newspapers'],\n",
       " ['tropical fruit', 'yogurt'],\n",
       " ['pastry', 'ketchup'],\n",
       " ['pip fruit', 'coffee', 'UHT-milk'],\n",
       " ['bottled water', 'specialty bar'],\n",
       " ['frankfurter', 'bottled water'],\n",
       " ['kitchen towels', 'sliced cheese'],\n",
       " ['pip fruit', 'candles', 'rolls/buns'],\n",
       " ['curd cheese', 'pastry'],\n",
       " ['citrus fruit', 'candy', 'bottled water', 'rolls/buns'],\n",
       " ['whole milk',\n",
       "  'frankfurter',\n",
       "  'candles',\n",
       "  'grapes',\n",
       "  'herbs',\n",
       "  'other vegetables',\n",
       "  'yogurt'],\n",
       " ['frozen vegetables', 'brown bread'],\n",
       " ['frankfurter', 'yogurt'],\n",
       " ['processed cheese', 'whole milk'],\n",
       " ['tropical fruit',\n",
       "  'root vegetables',\n",
       "  'rolls/buns',\n",
       "  'onions',\n",
       "  'shopping bags'],\n",
       " ['hard cheese', 'napkins', 'bottled water'],\n",
       " ['whole milk', 'candy'],\n",
       " ['tropical fruit', 'frozen vegetables'],\n",
       " ['mustard', 'whipped/sour cream'],\n",
       " ['other vegetables', 'mustard'],\n",
       " ['root vegetables', 'mayonnaise'],\n",
       " ['frozen meals', 'whole milk'],\n",
       " ['white bread', 'meat', 'domestic eggs', 'roll products '],\n",
       " ['hamburger meat', 'butter milk'],\n",
       " ['whole milk', 'rolls/buns'],\n",
       " ['whole milk', 'sausage', 'bottled beer', 'yogurt'],\n",
       " ['canned beer', 'cookware'],\n",
       " ['fruit/vegetable juice', 'rolls/buns', 'chocolate'],\n",
       " ['salty snack', 'beef'],\n",
       " ['citrus fruit', 'whole milk'],\n",
       " ['soft cheese', 'pip fruit'],\n",
       " ['UHT-milk', 'bottled beer'],\n",
       " ['chicken', 'red/blush wine'],\n",
       " ['rolls/buns', 'frankfurter', 'oil', 'pip fruit', 'mayonnaise'],\n",
       " ['other vegetables', 'root vegetables'],\n",
       " ['yogurt', 'beef'],\n",
       " ['brown bread', 'pet care'],\n",
       " ['other vegetables', 'rolls/buns'],\n",
       " ['soda', 'dessert', 'shopping bags'],\n",
       " ['curd', 'long life bakery product'],\n",
       " ['beverages', 'domestic eggs'],\n",
       " ['berries', 'cake bar'],\n",
       " ['butter milk', 'root vegetables'],\n",
       " ['hamburger meat', 'red/blush wine'],\n",
       " ['frozen meals', 'butter', 'newspapers', 'yogurt'],\n",
       " ['canned beer', 'shopping bags'],\n",
       " ['canned beer', 'spices', 'rolls/buns', 'frozen fish'],\n",
       " ['sliced cheese', 'butter'],\n",
       " ['rolls/buns', 'baking powder'],\n",
       " ['liquor', 'curd', 'yogurt', 'tropical fruit'],\n",
       " ['beef', 'napkins'],\n",
       " ['whole milk', 'whipped/sour cream'],\n",
       " ['sausage', 'fruit/vegetable juice'],\n",
       " ['chicken', 'frozen meals'],\n",
       " ['male cosmetics', 'curd'],\n",
       " ['domestic eggs', 'soda'],\n",
       " ['sausage', 'whipped/sour cream', 'specialty bar'],\n",
       " ['whipped/sour cream',\n",
       "  'root vegetables',\n",
       "  'rolls/buns',\n",
       "  'packaged fruit/vegetables'],\n",
       " ['white bread', 'bottled beer', 'yogurt', 'berries'],\n",
       " ['fish', 'root vegetables', 'tropical fruit', 'other vegetables'],\n",
       " ['coffee', 'shopping bags'],\n",
       " ['ham', 'cream cheese '],\n",
       " ['canned beer', 'UHT-milk'],\n",
       " ['root vegetables', 'long life bakery product'],\n",
       " ['sausage', 'dessert', 'rolls/buns', 'pickled vegetables'],\n",
       " ['citrus fruit', 'yogurt'],\n",
       " ['fruit/vegetable juice', 'salty snack', 'candy', 'dental care', 'butter'],\n",
       " ['root vegetables', 'whipped/sour cream', 'root vegetables', 'canned beer'],\n",
       " ['softener', 'salt', 'whole milk'],\n",
       " ['rolls/buns', 'bottled water'],\n",
       " ['rolls/buns', 'red/blush wine'],\n",
       " ['pork', 'hamburger meat'],\n",
       " ['rolls/buns', 'baking powder', 'onions', 'bottled water'],\n",
       " ['rolls/buns', 'sugar'],\n",
       " ['soda', 'butter'],\n",
       " ['onions', 'canned beer', 'flower (seeds)'],\n",
       " ['specialty chocolate', 'root vegetables'],\n",
       " ['dessert', 'ham'],\n",
       " ['ice cream', 'pot plants'],\n",
       " ['beverages', 'cream cheese '],\n",
       " ['other vegetables', 'other vegetables', 'berries'],\n",
       " ['whipped/sour cream', 'newspapers'],\n",
       " ['white bread', 'whole milk', 'pastry', 'shopping bags'],\n",
       " ['berries',\n",
       "  'soda',\n",
       "  'butter',\n",
       "  'other vegetables',\n",
       "  'white bread',\n",
       "  'cream cheese '],\n",
       " ['ice cream', 'whipped/sour cream'],\n",
       " ['yogurt', 'root vegetables'],\n",
       " ['frankfurter', 'pastry'],\n",
       " ['fruit/vegetable juice', 'dessert'],\n",
       " ['sausage', 'snack products', 'rolls/buns'],\n",
       " ['tropical fruit', 'soda', 'rolls/buns'],\n",
       " ['chicken', 'waffles'],\n",
       " ['pip fruit', 'cling film/bags', 'yogurt', 'cat food'],\n",
       " ['bottled water', 'domestic eggs', 'frozen meals'],\n",
       " ['tropical fruit', 'newspapers'],\n",
       " ['whole milk', 'frozen vegetables'],\n",
       " ['pip fruit', 'white wine', 'white bread', 'salt'],\n",
       " ['whole milk', 'yogurt', 'yogurt', 'rolls/buns'],\n",
       " ['sausage', 'frozen vegetables'],\n",
       " ['whole milk', 'newspapers'],\n",
       " ['fruit/vegetable juice', 'vinegar'],\n",
       " ['tropical fruit', 'white bread', 'rolls/buns'],\n",
       " ['citrus fruit', 'shopping bags', 'chewing gum', 'cake bar'],\n",
       " ['frankfurter', 'yogurt', 'canned beer'],\n",
       " ['margarine', 'napkins'],\n",
       " ['whole milk', 'pip fruit', 'whipped/sour cream'],\n",
       " ['sausage', 'pork', 'butter', 'whole milk', 'fruit/vegetable juice'],\n",
       " ['pip fruit', 'herbs', 'frozen meals'],\n",
       " ['other vegetables', 'specialty chocolate'],\n",
       " ['Instant food products', 'whipped/sour cream', 'butter', 'cake bar'],\n",
       " ['salty snack', 'rolls/buns'],\n",
       " ['whole milk', 'pasta', 'rolls/buns'],\n",
       " ['yogurt', 'rolls/buns'],\n",
       " ['root vegetables', 'white bread'],\n",
       " ['tropical fruit', 'chicken', 'onions', 'packaged fruit/vegetables'],\n",
       " ['chicken', 'frozen vegetables', 'candy'],\n",
       " ['tropical fruit', 'brown bread', 'whole milk'],\n",
       " ['prosecco', 'dessert'],\n",
       " ['hamburger meat', 'yogurt'],\n",
       " ['citrus fruit', 'bottled water'],\n",
       " ['whole milk', 'other vegetables'],\n",
       " ['beef', 'dessert'],\n",
       " ['tropical fruit', 'sliced cheese'],\n",
       " ['napkins', 'whole milk', 'chocolate marshmallow'],\n",
       " ['citrus fruit', 'rolls/buns', 'whole milk'],\n",
       " ['tropical fruit', 'other vegetables'],\n",
       " ['root vegetables', 'curd'],\n",
       " ['fruit/vegetable juice', 'specialty chocolate', 'Instant food products'],\n",
       " ['root vegetables', 'yogurt', 'butter', 'yogurt'],\n",
       " ['chicken', 'onions'],\n",
       " ['whole milk', 'pastry'],\n",
       " ['pork', 'bottled water'],\n",
       " ['pip fruit', 'soda'],\n",
       " ['curd', 'soda'],\n",
       " ['sweet spreads', 'butter'],\n",
       " ['rolls/buns', 'condensed milk', 'whole milk', 'soda'],\n",
       " ['rolls/buns', 'tropical fruit'],\n",
       " ['specialty bar', 'margarine'],\n",
       " ['butter', 'whole milk'],\n",
       " ['white bread', 'candy'],\n",
       " ['frankfurter', 'herbs'],\n",
       " ['waffles', 'beverages'],\n",
       " ['pasta', 'yogurt', 'cat food'],\n",
       " ['house keeping products', 'yogurt'],\n",
       " ['whipped/sour cream', 'hygiene articles'],\n",
       " ['UHT-milk', 'other vegetables', 'dishes'],\n",
       " ['meat', 'whole milk'],\n",
       " ['hamburger meat', 'bottled beer'],\n",
       " ['pork', 'coffee', 'frozen vegetables'],\n",
       " ['shopping bags', 'shopping bags'],\n",
       " ['fish', 'tropical fruit', 'red/blush wine', 'cream cheese '],\n",
       " ['other vegetables', 'soda', 'rolls/buns', 'dishes'],\n",
       " ['tropical fruit',\n",
       "  'other vegetables',\n",
       "  'hamburger meat',\n",
       "  'popcorn',\n",
       "  'female sanitary products'],\n",
       " ['root vegetables', 'grapes'],\n",
       " ['chicken', 'beverages', 'coffee'],\n",
       " ['beef', 'shopping bags'],\n",
       " ['soda', 'hamburger meat'],\n",
       " ['butter', 'dog food'],\n",
       " ['soda', 'whole milk'],\n",
       " ['bottled water', 'chewing gum'],\n",
       " ['frankfurter', 'whipped/sour cream'],\n",
       " ['butter milk', 'yogurt', 'yogurt', 'margarine'],\n",
       " ['pork',\n",
       "  'other vegetables',\n",
       "  'yogurt',\n",
       "  'shopping bags',\n",
       "  'soft cheese',\n",
       "  'detergent'],\n",
       " ['soda', 'soda'],\n",
       " ['chicken', 'frozen vegetables'],\n",
       " ['waffles', 'rolls/buns'],\n",
       " ['whole milk', 'sugar'],\n",
       " ['other vegetables', 'whole milk'],\n",
       " ['hamburger meat', 'pastry'],\n",
       " ['soda', 'fruit/vegetable juice'],\n",
       " ['bottled beer', 'oil'],\n",
       " ['frankfurter', 'citrus fruit', 'margarine'],\n",
       " ['photo/film', 'other vegetables'],\n",
       " ['pork', 'white wine'],\n",
       " ['bottled water', 'yogurt', 'newspapers', 'soda'],\n",
       " ['ham', 'whole milk'],\n",
       " ['whipped/sour cream', 'meat spreads'],\n",
       " ['pip fruit', 'other vegetables'],\n",
       " ['salty snack', 'pickled vegetables'],\n",
       " ['soda', 'domestic eggs', 'sliced cheese', 'soda'],\n",
       " ['tropical fruit', 'UHT-milk'],\n",
       " ['chicken', 'other vegetables'],\n",
       " ['yogurt', 'root vegetables'],\n",
       " ['sausage', 'bottled water'],\n",
       " ['root vegetables', 'other vegetables'],\n",
       " ['sausage', 'salty snack', 'cling film/bags'],\n",
       " ['dessert', 'spread cheese'],\n",
       " ['soda', 'fruit/vegetable juice', 'bottled beer'],\n",
       " ['beef', 'chocolate'],\n",
       " ['whipped/sour cream', 'hard cheese'],\n",
       " ['beverages', 'dessert'],\n",
       " ['whole milk',\n",
       "  'tropical fruit',\n",
       "  'root vegetables',\n",
       "  'Instant food products',\n",
       "  'margarine'],\n",
       " ['whole milk', 'sauces'],\n",
       " ['ham', 'whipped/sour cream', 'ketchup'],\n",
       " ['white bread', 'frozen fruits'],\n",
       " ['tropical fruit',\n",
       "  'whole milk',\n",
       "  'other vegetables',\n",
       "  'long life bakery product'],\n",
       " ['other vegetables', 'yogurt', 'whole milk', 'butter', 'shopping bags'],\n",
       " ['whole milk', 'citrus fruit'],\n",
       " ['rolls/buns', 'candy'],\n",
       " ['root vegetables', 'whole milk'],\n",
       " ['cream cheese ', 'rolls/buns'],\n",
       " ['long life bakery product', 'root vegetables', 'other vegetables'],\n",
       " ['tropical fruit', 'whole milk', 'long life bakery product', 'rum'],\n",
       " ['hamburger meat', 'soda'],\n",
       " ['tropical fruit', 'rolls/buns'],\n",
       " ['red/blush wine', 'frozen fish'],\n",
       " ['beef', 'dessert'],\n",
       " ['frankfurter', 'tropical fruit'],\n",
       " ['root vegetables', 'bottled beer'],\n",
       " ['whole milk', 'other vegetables'],\n",
       " ['oil', 'shopping bags'],\n",
       " ['whole milk', 'tropical fruit'],\n",
       " ['rolls/buns', 'tropical fruit', 'coffee', 'chocolate'],\n",
       " ['hamburger meat', 'pork'],\n",
       " ['soda', 'yogurt'],\n",
       " ['pork', 'spread cheese'],\n",
       " ['pork', 'rolls/buns'],\n",
       " ['brown bread', 'fruit/vegetable juice'],\n",
       " ['salt', 'domestic eggs'],\n",
       " ['bottled beer', 'tropical fruit', 'sliced cheese', 'dishes'],\n",
       " ['cream cheese ', 'newspapers'],\n",
       " ['citrus fruit', 'red/blush wine'],\n",
       " ['yogurt', 'roll products ', 'fruit/vegetable juice'],\n",
       " ['ham', 'other vegetables'],\n",
       " ['frankfurter', 'canned beer'],\n",
       " ['brown bread', 'salt'],\n",
       " ['yogurt', 'bottled water', 'domestic eggs'],\n",
       " ['finished products', 'brown bread', 'dishes'],\n",
       " ['pip fruit', 'curd', 'pip fruit', 'prosecco'],\n",
       " ['detergent', 'candy'],\n",
       " ['semi-finished bread', 'ketchup'],\n",
       " ['oil', 'shopping bags'],\n",
       " ['misc. beverages', 'instant coffee'],\n",
       " ['fruit/vegetable juice', 'flower (seeds)'],\n",
       " ['UHT-milk', 'canned fish'],\n",
       " ['pip fruit', 'rolls/buns'],\n",
       " ['frankfurter', 'frozen meals', 'dishes'],\n",
       " ['frankfurter', 'citrus fruit', 'bottled water', 'fruit/vegetable juice'],\n",
       " ['sausage', 'brown bread'],\n",
       " ['frankfurter', 'chicken', 'butter', 'bottled water'],\n",
       " ['ham', 'whole milk', 'whole milk', 'coffee'],\n",
       " ['sausage', 'butter', 'bottled water'],\n",
       " ['other vegetables', 'butter'],\n",
       " ['pastry', 'pasta'],\n",
       " ['canned beer', 'rolls/buns', 'artif. sweetener', 'soda'],\n",
       " ['white bread', 'brown bread'],\n",
       " ['rolls/buns', 'root vegetables'],\n",
       " ['tropical fruit', 'soda'],\n",
       " ['chicken', 'soda'],\n",
       " ['frankfurter', 'curd', 'white bread', 'rolls/buns', 'coffee'],\n",
       " ['red/blush wine', 'bottled water', 'sweet spreads'],\n",
       " ['rolls/buns', 'onions', 'napkins'],\n",
       " ['canned beer', 'soda'],\n",
       " ['root vegetables', 'frozen vegetables', 'pet care'],\n",
       " ['beverages', 'yogurt'],\n",
       " ['tropical fruit', 'whole milk'],\n",
       " ['specialty bar',\n",
       "  'tropical fruit',\n",
       "  'yogurt',\n",
       "  'bottled beer',\n",
       "  'baking powder'],\n",
       " ['coffee', 'butter milk'],\n",
       " ['other vegetables', 'frankfurter', 'newspapers', 'whole milk', 'pastry'],\n",
       " ['bottled water', 'hygiene articles'],\n",
       " ['beef', 'margarine', 'other vegetables'],\n",
       " ['specialty chocolate', 'soda', 'bathroom cleaner'],\n",
       " ['hamburger meat', 'whole milk'],\n",
       " ['pork', 'sliced cheese'],\n",
       " ['pip fruit', 'other vegetables'],\n",
       " ['other vegetables', 'shopping bags', 'soda'],\n",
       " ['yogurt', 'newspapers'],\n",
       " ['root vegetables', 'citrus fruit'],\n",
       " ['rolls/buns', 'soda'],\n",
       " ['canned beer', 'herbs', 'margarine'],\n",
       " ['ice cream', 'whipped/sour cream'],\n",
       " ['other vegetables', 'beef', 'soda', 'curd', 'butter'],\n",
       " ['rolls/buns', 'citrus fruit'],\n",
       " ['sausage', 'beverages'],\n",
       " ['whole milk', 'whole milk'],\n",
       " ['specialty chocolate', 'white bread'],\n",
       " ['other vegetables', 'whole milk'],\n",
       " ['ham', 'white bread'],\n",
       " ['coffee', 'berries'],\n",
       " ['soda', 'flower (seeds)', 'jam'],\n",
       " ['sausage', 'pip fruit', 'chocolate'],\n",
       " ['herbs', 'pot plants', 'cake bar'],\n",
       " ['yogurt', 'berries'],\n",
       " ['whole milk', 'hard cheese'],\n",
       " ['tropical fruit',\n",
       "  'meat',\n",
       "  'other vegetables',\n",
       "  'domestic eggs',\n",
       "  'baking powder'],\n",
       " ['yogurt', 'sauces'],\n",
       " ['beef', 'yogurt'],\n",
       " ['sausage',\n",
       "  'whisky',\n",
       "  'specialty chocolate',\n",
       "  'dishes',\n",
       "  'yogurt',\n",
       "  'napkins',\n",
       "  'detergent',\n",
       "  'pastry'],\n",
       " ['ice cream', 'whole milk'],\n",
       " ['yogurt', 'newspapers'],\n",
       " ['photo/film', 'shopping bags'],\n",
       " ['root vegetables',\n",
       "  'soda',\n",
       "  'specialty bar',\n",
       "  'other vegetables',\n",
       "  'frozen vegetables'],\n",
       " ['rolls/buns',\n",
       "  'grapes',\n",
       "  'bottled beer',\n",
       "  'sausage',\n",
       "  'salty snack',\n",
       "  'Instant food products',\n",
       "  'domestic eggs',\n",
       "  'bottled water'],\n",
       " ['frankfurter', 'other vegetables', 'bottled beer'],\n",
       " ['dessert', 'domestic eggs'],\n",
       " ['pasta', 'whole milk', 'waffles'],\n",
       " ['newspapers', 'salty snack'],\n",
       " ['chocolate marshmallow', 'other vegetables'],\n",
       " ['whole milk', 'brown bread'],\n",
       " ['hamburger meat', 'detergent', 'flour'],\n",
       " ['tropical fruit', 'soda'],\n",
       " ['sausage', 'tropical fruit', 'misc. beverages', 'root vegetables'],\n",
       " ['sausage', 'whole milk'],\n",
       " ['yogurt', 'shopping bags'],\n",
       " ['pickled vegetables', 'flour'],\n",
       " ['packaged fruit/vegetables', 'bottled water', 'pork', 'domestic eggs'],\n",
       " ['pip fruit', 'fruit/vegetable juice'],\n",
       " ['shopping bags', 'root vegetables'],\n",
       " ['sausage', 'whole milk', 'cake bar'],\n",
       " ['hard cheese', 'whole milk'],\n",
       " ['whipped/sour cream', 'curd', 'shopping bags'],\n",
       " ['tropical fruit', 'whole milk', 'soda', 'curd'],\n",
       " ['frankfurter', 'whipped/sour cream', 'bottled water'],\n",
       " ['citrus fruit', 'dessert'],\n",
       " ['tropical fruit', 'candy'],\n",
       " ['rolls/buns', 'shopping bags', 'cat food'],\n",
       " ['tropical fruit',\n",
       "  'citrus fruit',\n",
       "  'yogurt',\n",
       "  'frankfurter',\n",
       "  'specialty chocolate',\n",
       "  'hard cheese',\n",
       "  'whole milk',\n",
       "  'canned beer'],\n",
       " ['canned beer', 'napkins', 'rolls/buns'],\n",
       " ['root vegetables', 'frozen vegetables', 'bottled water', 'cat food'],\n",
       " ['grapes', 'other vegetables'],\n",
       " ['pip fruit', 'brown bread'],\n",
       " ['root vegetables', 'instant coffee'],\n",
       " ['spread cheese', 'pork'],\n",
       " ['hamburger meat', 'pasta'],\n",
       " ['whole milk', 'yogurt'],\n",
       " ['soda',\n",
       "  'hygiene articles',\n",
       "  'grapes',\n",
       "  'pudding powder',\n",
       "  'butter milk',\n",
       "  'butter'],\n",
       " ['whole milk', 'processed cheese'],\n",
       " ['brown bread', 'sparkling wine'],\n",
       " ['rolls/buns', 'other vegetables', 'whipped/sour cream'],\n",
       " ['root vegetables', 'frozen vegetables'],\n",
       " ['candy', 'white wine'],\n",
       " ['yogurt', 'beverages', 'brown bread'],\n",
       " ['other vegetables', 'white bread', 'detergent'],\n",
       " ['chicken', 'pastry', 'candles'],\n",
       " ['waffles', 'hygiene articles', 'tea'],\n",
       " ['cream', 'yogurt'],\n",
       " ['ice cream', 'herbs'],\n",
       " ['yogurt', 'root vegetables'],\n",
       " ['domestic eggs', 'yogurt'],\n",
       " ['yogurt', 'other vegetables', 'rolls/buns', 'herbs'],\n",
       " ['pork', 'whole milk'],\n",
       " ['other vegetables', 'white bread'],\n",
       " ['bottled water', 'yogurt', 'tropical fruit', 'whole milk'],\n",
       " ['beef', 'specialty fat', 'newspapers'],\n",
       " ['onions', 'newspapers'],\n",
       " ['rolls/buns', 'semi-finished bread'],\n",
       " ['whole milk', 'pastry'],\n",
       " ['shopping bags', 'rolls/buns'],\n",
       " ['citrus fruit', 'misc. beverages'],\n",
       " ['liver loaf', 'chicken', 'rolls/buns', 'spread cheese', 'shopping bags'],\n",
       " ['citrus fruit', 'misc. beverages'],\n",
       " ['pastry', 'canned beer', 'whipped/sour cream', 'grapes'],\n",
       " ['frozen potato products', 'specialty cheese'],\n",
       " ['salty snack', 'pastry', 'oil'],\n",
       " ['brown bread', 'whole milk', 'shopping bags'],\n",
       " ['chocolate', 'whole milk'],\n",
       " ['curd', 'sugar'],\n",
       " ['pip fruit', 'margarine'],\n",
       " ['pip fruit', 'salty snack', 'pastry'],\n",
       " ['citrus fruit', 'frozen vegetables', 'margarine'],\n",
       " ['margarine', 'yogurt'],\n",
       " ['pickled vegetables', 'liquor'],\n",
       " ['bottled water', 'chocolate'],\n",
       " ['soda', 'salty snack'],\n",
       " ['ham', 'yogurt'],\n",
       " ['pastry', 'baking powder', 'butter', 'margarine', 'curd', 'dishes'],\n",
       " ['whole milk', 'soda'],\n",
       " ['whole milk', 'frozen vegetables', 'soda', 'UHT-milk'],\n",
       " ['other vegetables', 'whipped/sour cream'],\n",
       " ['bottled water', 'flour', 'sugar'],\n",
       " ['beef', 'semi-finished bread'],\n",
       " ['dish cleaner', 'ice cream', 'jam', 'newspapers'],\n",
       " ['curd', 'canned beer'],\n",
       " ['whole milk', 'yogurt', 'newspapers'],\n",
       " ['pork', 'pudding powder', 'domestic eggs'],\n",
       " ['bottled beer', 'specialty bar', 'baking powder'],\n",
       " ['root vegetables', 'shopping bags'],\n",
       " ['chocolate', 'brown bread', 'salty snack'],\n",
       " ['root vegetables', 'citrus fruit'],\n",
       " ['chicken', 'shopping bags'],\n",
       " ['misc. beverages', 'UHT-milk', 'white bread'],\n",
       " ['dog food', 'sausage', 'dessert', 'shopping bags'],\n",
       " ['other vegetables', 'butter'],\n",
       " ['turkey', 'root vegetables'],\n",
       " ['whipped/sour cream', 'yogurt'],\n",
       " ['other vegetables', 'yogurt'],\n",
       " ['other vegetables', 'napkins'],\n",
       " ['brown bread', 'butter milk', 'canned vegetables', 'soda'],\n",
       " ['brown bread', 'soda'],\n",
       " ['other vegetables', 'zwieback'],\n",
       " ['other vegetables',\n",
       "  'cream cheese ',\n",
       "  'liquor',\n",
       "  'root vegetables',\n",
       "  'newspapers',\n",
       "  'hard cheese'],\n",
       " ['chicken', 'bottled water'],\n",
       " ['newspapers', 'white bread', 'rolls/buns', 'beverages'],\n",
       " ['frankfurter', 'rolls/buns'],\n",
       " ['meat', 'whole milk', 'whipped/sour cream'],\n",
       " ['bottled beer', 'frozen vegetables', 'sliced cheese'],\n",
       " ['pip fruit', 'processed cheese', 'canned beer'],\n",
       " ['berries', 'condensed milk'],\n",
       " ['house keeping products', 'rolls/buns', 'pickled vegetables', 'curd'],\n",
       " ['ham', 'yogurt'],\n",
       " ['whole milk', 'hair spray', 'butter', 'pastry'],\n",
       " ['grapes', 'whole milk'],\n",
       " ['tropical fruit', 'sugar'],\n",
       " ['soda', 'UHT-milk', 'newspapers', 'white bread'],\n",
       " ['citrus fruit', 'brown bread'],\n",
       " ['meat', 'other vegetables'],\n",
       " ['pastry',\n",
       "  'condensed milk',\n",
       "  'rice',\n",
       "  'tropical fruit',\n",
       "  'chocolate marshmallow'],\n",
       " ['other vegetables', 'specialty bar'],\n",
       " ['coffee', 'shopping bags'],\n",
       " ['chicken', 'dishes'],\n",
       " ['root vegetables', 'frozen vegetables'],\n",
       " ['bottled water', 'citrus fruit'],\n",
       " ['rolls/buns', 'oil', 'yogurt'],\n",
       " ['pip fruit', 'whole milk'],\n",
       " ['frozen vegetables', 'rolls/buns', 'cling film/bags'],\n",
       " ['pork', 'soda', 'canned vegetables'],\n",
       " ['bottled beer', 'hygiene articles'],\n",
       " ['yogurt', 'soda'],\n",
       " ['root vegetables', 'margarine', 'rolls/buns'],\n",
       " ['rolls/buns', 'margarine'],\n",
       " ['sausage', 'pastry'],\n",
       " ['popcorn', 'citrus fruit'],\n",
       " ['condensed milk', 'shopping bags'],\n",
       " ['rolls/buns', 'whipped/sour cream'],\n",
       " ['misc. beverages', 'whole milk', 'long life bakery product'],\n",
       " ['newspapers', 'pork', 'root vegetables', 'napkins'],\n",
       " ['citrus fruit', 'soda'],\n",
       " ['soda', 'roll products '],\n",
       " ['frankfurter', 'rolls/buns', 'shopping bags', 'margarine'],\n",
       " ['other vegetables', 'butter', 'pastry', 'UHT-milk'],\n",
       " ['specialty bar', 'soda', 'frozen vegetables', 'frozen vegetables'],\n",
       " ['liquor', 'domestic eggs'],\n",
       " ['frankfurter', 'white bread'],\n",
       " ['meat', 'coffee'],\n",
       " ['whole milk', 'baking powder'],\n",
       " ['flower (seeds)', 'white wine'],\n",
       " ['grapes', 'frozen meals', 'flower (seeds)'],\n",
       " ['tea', 'yogurt', 'shopping bags', 'brown bread'],\n",
       " ['cream cheese ', 'specialty chocolate'],\n",
       " ['margarine', 'soda'],\n",
       " ['yogurt', 'softener'],\n",
       " ['tropical fruit', 'cream cheese ', 'cream cheese '],\n",
       " ['bottled water', 'frankfurter', 'dessert', 'root vegetables'],\n",
       " ['bottled beer', 'whole milk'],\n",
       " ['other vegetables',\n",
       "  'semi-finished bread',\n",
       "  'other vegetables',\n",
       "  'rolls/buns',\n",
       "  'shopping bags',\n",
       "  'salty snack'],\n",
       " ['soda', 'whole milk'],\n",
       " ['yogurt', 'pastry'],\n",
       " ['coffee', 'shopping bags', 'shopping bags'],\n",
       " ['sausage', 'rolls/buns', 'rice'],\n",
       " ['curd', 'domestic eggs'],\n",
       " ['pork', 'whole milk', 'napkins'],\n",
       " ['cream cheese ', 'newspapers'],\n",
       " ['other vegetables', 'oil'],\n",
       " ['pastry', 'brown bread', 'yogurt'],\n",
       " ['hard cheese', 'butter'],\n",
       " ['whole milk', 'other vegetables'],\n",
       " ['sausage', 'shopping bags', 'soda', 'butter', 'dessert', 'soda'],\n",
       " ['citrus fruit', 'flower (seeds)'],\n",
       " ['rolls/buns', 'fruit/vegetable juice'],\n",
       " ['instant coffee', 'shopping bags'],\n",
       " ['root vegetables', 'butter milk'],\n",
       " ['tropical fruit', 'other vegetables'],\n",
       " ['tropical fruit', 'butter milk', 'brown bread'],\n",
       " ['tropical fruit', 'whole milk'],\n",
       " ['herbs', 'citrus fruit'],\n",
       " ['other vegetables', 'beef'],\n",
       " ['nut snack', 'canned beer'],\n",
       " ['whole milk', 'other vegetables', 'other vegetables', 'sugar'],\n",
       " ['citrus fruit', 'napkins'],\n",
       " ['whole milk', 'root vegetables'],\n",
       " ['rolls/buns', 'butter milk'],\n",
       " ['tropical fruit', 'soft cheese'],\n",
       " ['rolls/buns', 'brown bread', 'canned beer'],\n",
       " ['pork', 'pickled vegetables'],\n",
       " ['tropical fruit', 'misc. beverages'],\n",
       " ['photo/film', 'frankfurter', 'other vegetables', 'curd', 'waffles'],\n",
       " ['pip fruit', 'other vegetables', 'cling film/bags'],\n",
       " ['rolls/buns', 'whole milk', 'soda'],\n",
       " ['tropical fruit', 'yogurt'],\n",
       " ['cat food', 'rolls/buns'],\n",
       " ['berries', 'white bread'],\n",
       " ['newspapers', 'soups'],\n",
       " ['rolls/buns', 'soda'],\n",
       " ['other vegetables', 'napkins'],\n",
       " ['chicken', 'brown bread'],\n",
       " ['UHT-milk', 'soda'],\n",
       " ['pork', 'soda'],\n",
       " ['oil', 'pickled vegetables'],\n",
       " ['misc. beverages', 'spread cheese'],\n",
       " ['soda', 'whole milk', 'whole milk', 'sugar'],\n",
       " ['pork', 'domestic eggs'],\n",
       " ['root vegetables', 'coffee'],\n",
       " ['meat', 'whole milk'],\n",
       " ['chicken', 'domestic eggs', 'white bread'],\n",
       " ['soda', 'whipped/sour cream'],\n",
       " ['canned beer', 'fish'],\n",
       " ['hard cheese', 'root vegetables', 'white bread'],\n",
       " ['brown bread', 'other vegetables'],\n",
       " ['bottled beer', 'soda'],\n",
       " ['tropical fruit', 'root vegetables'],\n",
       " ['curd', 'soft cheese'],\n",
       " ['frozen vegetables', 'pip fruit', 'root vegetables', 'cereals'],\n",
       " ['other vegetables', 'berries', 'candy', 'sliced cheese'],\n",
       " ['yogurt', 'soda', 'yogurt'],\n",
       " ['bottled water', 'shopping bags', 'waffles'],\n",
       " ['whole milk', 'bottled beer'],\n",
       " ['pork', 'margarine'],\n",
       " ['soda', 'whole milk'],\n",
       " ['frozen meals', 'detergent'],\n",
       " ['specialty chocolate', 'canned fish'],\n",
       " ['soda', 'other vegetables'],\n",
       " ['root vegetables', 'soda', 'long life bakery product'],\n",
       " ['pork', 'yogurt'],\n",
       " ['yogurt',\n",
       "  'sausage',\n",
       "  'whole milk',\n",
       "  'shopping bags',\n",
       "  'white bread',\n",
       "  'dog food',\n",
       "  'baking powder',\n",
       "  'sliced cheese'],\n",
       " ['pork', 'tropical fruit'],\n",
       " ['soda', 'other vegetables'],\n",
       " ['soda', 'bottled beer', 'chicken', 'yogurt'],\n",
       " ['seasonal products', 'frozen vegetables', 'yogurt'],\n",
       " ['long life bakery product', 'rolls/buns', 'UHT-milk', 'bottled water'],\n",
       " ['pip fruit', 'berries'],\n",
       " ['other vegetables', 'fruit/vegetable juice'],\n",
       " ['canned beer', 'sugar'],\n",
       " ['curd', 'soft cheese'],\n",
       " ['berries', 'pip fruit', 'pastry'],\n",
       " ['curd cheese', 'soda'],\n",
       " ['soda', 'frozen meals'],\n",
       " ['whole milk', 'rolls/buns'],\n",
       " ['pork', 'domestic eggs'],\n",
       " ['tropical fruit', 'rolls/buns', 'canned beer', 'dish cleaner'],\n",
       " ['chicken', 'cake bar'],\n",
       " ['chewing gum', 'whole milk', 'bottled beer', 'ready soups'],\n",
       " ['butter', 'ice cream'],\n",
       " ['whole milk', 'grapes'],\n",
       " ['frankfurter', 'soft cheese', 'mustard'],\n",
       " ['female sanitary products', 'rolls/buns'],\n",
       " ['citrus fruit', 'sausage', 'whole milk', 'canned beer'],\n",
       " ['root vegetables', 'other vegetables', 'frozen vegetables'],\n",
       " ['whole milk', 'sausage', 'pet care', 'yogurt'],\n",
       " ['whole milk', 'house keeping products'],\n",
       " ['frankfurter', 'brandy'],\n",
       " ['berries', 'other vegetables'],\n",
       " ['beef', 'curd', 'frozen meals'],\n",
       " ['tropical fruit', 'UHT-milk', 'napkins', 'whole milk'],\n",
       " ['whole milk', 'bottled water'],\n",
       " ['yogurt', 'citrus fruit'],\n",
       " ['whole milk', 'cream cheese '],\n",
       " ['rolls/buns', 'other vegetables', 'butter', 'root vegetables', 'rolls/buns'],\n",
       " ['citrus fruit', 'light bulbs'],\n",
       " ['frozen vegetables', 'domestic eggs'],\n",
       " ['citrus fruit', 'soda'],\n",
       " ['yogurt', 'whole milk'],\n",
       " ['whole milk', 'root vegetables'],\n",
       " ['shopping bags', 'frozen meals'],\n",
       " ['butter', 'chewing gum'],\n",
       " ['domestic eggs', 'beef', 'coffee', 'bottled beer'],\n",
       " ['pip fruit', 'tropical fruit', 'mustard'],\n",
       " ['beef', 'newspapers', 'bottled beer'],\n",
       " ['other vegetables', 'yogurt', 'whole milk', 'spread cheese'],\n",
       " ['white bread', 'yogurt'],\n",
       " ['canned beer', 'berries', 'male cosmetics', 'fruit/vegetable juice'],\n",
       " ['misc. beverages', 'coffee'],\n",
       " ['red/blush wine', 'salty snack'],\n",
       " ['canned beer', 'citrus fruit'],\n",
       " ['white bread', 'frozen vegetables'],\n",
       " ['sausage', 'bottled water'],\n",
       " ['whole milk', 'beef', 'citrus fruit', 'newspapers', 'bottled water'],\n",
       " ['other vegetables', 'sliced cheese'],\n",
       " ['whole milk', 'root vegetables', 'canned vegetables'],\n",
       " ['beef', 'house keeping products'],\n",
       " ['frozen vegetables', 'whole milk'],\n",
       " ['pork', 'packaged fruit/vegetables', 'chocolate'],\n",
       " ['curd', 'spices'],\n",
       " ['root vegetables', 'brown bread'],\n",
       " ['bottled water', 'tropical fruit'],\n",
       " ['rolls/buns', 'other vegetables'],\n",
       " ['coffee', 'domestic eggs'],\n",
       " ['sweet spreads', 'herbs', 'long life bakery product'],\n",
       " ['frankfurter', 'frozen vegetables'],\n",
       " ['bottled beer', 'whole milk', 'UHT-milk', 'chocolate'],\n",
       " ['soda', 'detergent'],\n",
       " ['other vegetables', 'rolls/buns'],\n",
       " ['waffles', 'whole milk', 'other vegetables', 'white bread'],\n",
       " ['soda', 'margarine'],\n",
       " ['liquor', 'bottled water'],\n",
       " ['napkins', 'napkins'],\n",
       " ['napkins', 'cleaner'],\n",
       " ['finished products', 'newspapers', 'whipped/sour cream'],\n",
       " ['cake bar', 'bottled beer'],\n",
       " ['chocolate', 'shopping bags'],\n",
       " ['whole milk', 'canned beer'],\n",
       " ['pip fruit', 'whipped/sour cream'],\n",
       " ['chicken', 'pip fruit'],\n",
       " ['whole milk', 'sparkling wine'],\n",
       " ['citrus fruit', 'whipped/sour cream'],\n",
       " ['whole milk',\n",
       "  'turkey',\n",
       "  'pork',\n",
       "  'dog food',\n",
       "  'rolls/buns',\n",
       "  'soda',\n",
       "  'bottled water',\n",
       "  'bottled water'],\n",
       " ['soda', 'whipped/sour cream'],\n",
       " ['other vegetables', 'soda'],\n",
       " ['brown bread', 'pasta'],\n",
       " ['specialty chocolate', 'beverages'],\n",
       " ['bottled water', 'onions'],\n",
       " ['rolls/buns', 'margarine'],\n",
       " ['specialty bar', 'newspapers'],\n",
       " ['bottled beer', 'fruit/vegetable juice', 'rolls/buns'],\n",
       " ['hard cheese', 'rolls/buns'],\n",
       " ['citrus fruit', 'syrup'],\n",
       " ['baking powder', 'pickled vegetables'],\n",
       " ['root vegetables', 'cling film/bags'],\n",
       " ['pip fruit', 'whipped/sour cream'],\n",
       " ['rolls/buns', 'soft cheese', 'fruit/vegetable juice'],\n",
       " ['hamburger meat', 'other vegetables'],\n",
       " ['citrus fruit', 'brown bread', 'specialty chocolate'],\n",
       " ['pasta', 'oil'],\n",
       " ['bottled water', 'yogurt', 'beef', 'berries', 'chocolate', 'butter'],\n",
       " ['whole milk',\n",
       "  'citrus fruit',\n",
       "  'shopping bags',\n",
       "  'white wine',\n",
       "  'soda',\n",
       "  'yogurt'],\n",
       " ['hard cheese', 'sugar', 'bottled water'],\n",
       " ['soda', 'whole milk'],\n",
       " ['tropical fruit', 'other vegetables'],\n",
       " ['frozen potato products', 'domestic eggs', 'curd cheese'],\n",
       " ['whole milk', 'tropical fruit'],\n",
       " ['pastry', 'other vegetables'],\n",
       " ['rolls/buns', 'canned beer', 'brown bread', 'dessert'],\n",
       " ['tropical fruit', 'shopping bags'],\n",
       " ['oil', 'coffee'],\n",
       " ['other vegetables', 'ice cream', 'pork', 'salt'],\n",
       " ['bottled water', 'chocolate', 'jam'],\n",
       " ['cereals', 'soda'],\n",
       " ['chicken', 'frozen meals', 'napkins'],\n",
       " ['frozen potato products', 'whole milk'],\n",
       " ['citrus fruit', 'white bread'],\n",
       " ['bottled beer', 'oil', 'whole milk', 'dishes'],\n",
       " ['white bread', 'mayonnaise'],\n",
       " ['sausage', 'root vegetables'],\n",
       " ['butter', 'mustard'],\n",
       " ['rolls/buns', 'red/blush wine'],\n",
       " ['candy', 'baking powder', 'canned fish'],\n",
       " ['ice cream', 'hamburger meat', 'shopping bags', 'whole milk', 'soft cheese'],\n",
       " ['beef', 'butter milk'],\n",
       " ['hamburger meat', 'pip fruit'],\n",
       " ['sausage', 'domestic eggs'],\n",
       " ['root vegetables',\n",
       "  'ham',\n",
       "  'butter',\n",
       "  'brown bread',\n",
       "  'pastry',\n",
       "  'spread cheese'],\n",
       " ['sausage',\n",
       "  'bottled beer',\n",
       "  'dessert',\n",
       "  'butter',\n",
       "  'cream cheese ',\n",
       "  'other vegetables',\n",
       "  'canned beer',\n",
       "  'brown bread'],\n",
       " ['beef', 'whole milk', 'newspapers'],\n",
       " ['root vegetables', 'sweet spreads'],\n",
       " ['beef', 'whole milk', 'frozen meals'],\n",
       " ['frankfurter', 'canned beer'],\n",
       " ['ice cream', 'chewing gum'],\n",
       " ['pip fruit', 'specialty bar', 'chocolate'],\n",
       " ['white bread', 'domestic eggs'],\n",
       " ['soda', 'detergent'],\n",
       " ['soda', 'butter'],\n",
       " ['other vegetables', 'whole milk', 'canned fruit'],\n",
       " ['soda', 'soda'],\n",
       " ['citrus fruit', 'domestic eggs'],\n",
       " ['other vegetables', 'onions', 'shopping bags'],\n",
       " ['butter milk', 'cleaner', 'bottled water'],\n",
       " ['other vegetables', 'bottled beer'],\n",
       " ['whole milk', 'rolls/buns', 'soda'],\n",
       " ['tropical fruit', 'dessert'],\n",
       " ['bottled beer', 'sliced cheese'],\n",
       " ['hamburger meat', 'bottled beer'],\n",
       " ['pip fruit', 'rolls/buns', 'soda'],\n",
       " ['bottled water', 'soda'],\n",
       " ['whipped/sour cream', 'specialty chocolate'],\n",
       " ['canned beer', 'root vegetables'],\n",
       " ['other vegetables', 'meat spreads'],\n",
       " ['sparkling wine', 'waffles'],\n",
       " ['root vegetables', 'root vegetables'],\n",
       " ['berries', 'white bread'],\n",
       " ['hamburger meat', 'citrus fruit', 'specialty chocolate', 'other vegetables'],\n",
       " ['brown bread', 'pastry'],\n",
       " ['butter', 'seasonal products', 'fruit/vegetable juice'],\n",
       " ['soda', 'shopping bags'],\n",
       " ['citrus fruit', 'root vegetables'],\n",
       " ['whole milk', 'bottled water', 'honey'],\n",
       " ['pip fruit', 'napkins'],\n",
       " ['butter', 'coffee', 'soda', 'pastry'],\n",
       " ['butter', 'shopping bags'],\n",
       " ['finished products', 'liquor'],\n",
       " ['whole milk', 'soft cheese'],\n",
       " ['pip fruit', 'shopping bags'],\n",
       " ['domestic eggs', 'newspapers'],\n",
       " ['mayonnaise', 'candy', 'rolls/buns', 'bottled beer'],\n",
       " ['whole milk', 'brown bread'],\n",
       " ['pip fruit', 'waffles'],\n",
       " ['beef', 'whipped/sour cream'],\n",
       " ['sausage', 'chocolate'],\n",
       " ['citrus fruit', 'yogurt'],\n",
       " ['root vegetables',\n",
       "  'citrus fruit',\n",
       "  'root vegetables',\n",
       "  'misc. beverages',\n",
       "  'sliced cheese',\n",
       "  'packaged fruit/vegetables',\n",
       "  'yogurt',\n",
       "  'whipped/sour cream'],\n",
       " ['citrus fruit', 'napkins'],\n",
       " ['frozen fish', 'specialty chocolate'],\n",
       " ['other vegetables', 'specialty chocolate', 'newspapers'],\n",
       " ['grapes', 'rolls/buns'],\n",
       " ['beverages', 'sausage'],\n",
       " ['sugar', 'canned vegetables', 'flour', 'bottled water', 'salty snack'],\n",
       " ['rolls/buns', 'whole milk', 'white bread', 'popcorn'],\n",
       " ['brown bread', 'detergent'],\n",
       " ['citrus fruit', 'root vegetables'],\n",
       " ['candy', 'dessert', 'rolls/buns', 'canned fish'],\n",
       " ['candles', 'whole milk'],\n",
       " ['misc. beverages', 'coffee'],\n",
       " ['coffee', 'oil'],\n",
       " ['yogurt', 'roll products '],\n",
       " ['yogurt', 'rolls/buns'],\n",
       " ['soda', 'curd cheese', 'root vegetables', 'semi-finished bread'],\n",
       " ['soda', 'beverages'],\n",
       " ['root vegetables', 'yogurt'],\n",
       " ['whole milk', 'waffles'],\n",
       " ['rolls/buns', 'pastry'],\n",
       " ['softener', 'chocolate'],\n",
       " ['sliced cheese', 'pip fruit'],\n",
       " ['grapes', 'chicken', 'bottled beer', 'root vegetables'],\n",
       " ['whole milk', 'oil'],\n",
       " ['white bread', 'bottled water', 'ready soups', 'curd'],\n",
       " ['yogurt', 'whole milk', 'yogurt', 'chewing gum'],\n",
       " ['tropical fruit', 'hygiene articles', 'candles'],\n",
       " ['sausage', 'cat food'],\n",
       " ['pastry',\n",
       "  'sausage',\n",
       "  'soda',\n",
       "  'rolls/buns',\n",
       "  'sugar',\n",
       "  'soda',\n",
       "  'other vegetables',\n",
       "  'whole milk',\n",
       "  'softener'],\n",
       " ['ham', 'pickled vegetables', 'shopping bags'],\n",
       " ['whole milk', 'yogurt', 'semi-finished bread'],\n",
       " ['frankfurter', 'whole milk'],\n",
       " ['soft cheese', 'bottled water'],\n",
       " ['pork', 'beef', 'yogurt'],\n",
       " ['rolls/buns', 'frozen meals'],\n",
       " ['shopping bags', 'misc. beverages'],\n",
       " ['tropical fruit', 'butter milk'],\n",
       " ['sausage', 'dessert'],\n",
       " ['yogurt', 'shopping bags'],\n",
       " ['ham', 'brown bread'],\n",
       " ['fruit/vegetable juice', 'long life bakery product', 'specialty cheese'],\n",
       " ['butter', 'margarine'],\n",
       " ['finished products', 'domestic eggs'],\n",
       " ['specialty bar', 'whole milk'],\n",
       " ['UHT-milk', 'other vegetables'],\n",
       " ['rolls/buns', 'tropical fruit', 'salty snack', 'specialty bar'],\n",
       " ['frankfurter', 'butter', 'specialty bar', 'yogurt'],\n",
       " ['tropical fruit', 'salt'],\n",
       " ['beef', 'domestic eggs'],\n",
       " ['tropical fruit', 'cat food'],\n",
       " ['root vegetables', 'other vegetables'],\n",
       " ['chicken',\n",
       "  'beef',\n",
       "  'pork',\n",
       "  'beef',\n",
       "  'newspapers',\n",
       "  'dessert',\n",
       "  'margarine',\n",
       "  'brown bread',\n",
       "  'newspapers'],\n",
       " ['domestic eggs', 'fruit/vegetable juice'],\n",
       " ['citrus fruit', 'bottled beer'],\n",
       " ['syrup', 'waffles'],\n",
       " ['meat', 'chicken', 'yogurt', 'pip fruit'],\n",
       " ['sauces', 'yogurt'],\n",
       " ['grapes', 'root vegetables', 'shopping bags'],\n",
       " ['pip fruit', 'other vegetables', 'semi-finished bread', 'sliced cheese'],\n",
       " ['citrus fruit', 'long life bakery product'],\n",
       " ['turkey', 'onions'],\n",
       " ['canned beer', 'brown bread'],\n",
       " ['whole milk',\n",
       "  'soda',\n",
       "  'root vegetables',\n",
       "  'pastry',\n",
       "  'specialty fat',\n",
       "  'bottled water',\n",
       "  'napkins',\n",
       "  'tropical fruit'],\n",
       " ['citrus fruit', 'grapes', 'bottled water'],\n",
       " ['whole milk', 'sugar'],\n",
       " ['whole milk', 'dog food', 'pastry'],\n",
       " ['meat', 'cling film/bags', 'curd'],\n",
       " ['pork', 'frozen meals'],\n",
       " ['citrus fruit', 'citrus fruit'],\n",
       " ['whole milk', 'sausage', 'yogurt', 'whole milk', 'butter'],\n",
       " ['other vegetables', 'fruit/vegetable juice'],\n",
       " ['tropical fruit', 'rolls/buns', 'frozen fish'],\n",
       " ['tropical fruit', 'meat', 'whole milk', 'candles'],\n",
       " ['canned beer', 'brown bread'],\n",
       " ['red/blush wine', 'instant coffee'],\n",
       " ['sausage', 'pasta'],\n",
       " ['canned beer', 'margarine', 'chocolate'],\n",
       " ['pastry', 'waffles'],\n",
       " ['rolls/buns',\n",
       "  'specialty chocolate',\n",
       "  'napkins',\n",
       "  'onions',\n",
       "  'rice',\n",
       "  'rolls/buns',\n",
       "  'butter milk',\n",
       "  'dental care'],\n",
       " ['frankfurter', 'ice cream'],\n",
       " ['sugar', 'bottled water'],\n",
       " ['canned beer', 'coffee'],\n",
       " ['condensed milk', 'onions'],\n",
       " ['citrus fruit', 'butter', 'UHT-milk'],\n",
       " ['packaged fruit/vegetables', 'flour'],\n",
       " ['citrus fruit', 'semi-finished bread', 'yogurt'],\n",
       " ['ham', 'rum'],\n",
       " ['UHT-milk', 'cooking chocolate'],\n",
       " ['sausage', 'specialty chocolate'],\n",
       " ['pastry', 'rolls/buns'],\n",
       " ['whole milk', 'curd'],\n",
       " ['white bread', 'jam'],\n",
       " ['butter milk', 'soda', 'seasonal products'],\n",
       " ['shopping bags',\n",
       "  'whole milk',\n",
       "  'whole milk',\n",
       "  'whole milk',\n",
       "  'detergent',\n",
       "  'flour'],\n",
       " ['dessert', 'sliced cheese', 'bottled beer', 'other vegetables'],\n",
       " ['photo/film', 'brown bread'],\n",
       " ['hard cheese', 'pastry'],\n",
       " ['beef',\n",
       "  'citrus fruit',\n",
       "  'specialty bar',\n",
       "  'white bread',\n",
       "  'soda',\n",
       "  'vinegar',\n",
       "  'long life bakery product',\n",
       "  'domestic eggs'],\n",
       " ['yogurt', 'whipped/sour cream'],\n",
       " ['photo/film', 'beverages', 'bottled beer'],\n",
       " ['beef', 'white bread', 'frozen potato products'],\n",
       " ['mustard', 'brown bread'],\n",
       " ['ham', 'whipped/sour cream', 'newspapers'],\n",
       " ['canned beer', 'sliced cheese'],\n",
       " ['soda', 'canned beer'],\n",
       " ['soda', 'butter milk', 'soda'],\n",
       " ['ham', 'domestic eggs'],\n",
       " ['whole milk', 'other vegetables'],\n",
       " ['frankfurter', 'pastry', 'misc. beverages'],\n",
       " ['yogurt', 'margarine'],\n",
       " ['hard cheese', 'soda'],\n",
       " ['ice cream', 'onions'],\n",
       " ['white wine', 'photo/film', 'whipped/sour cream'],\n",
       " ['grapes', 'detergent'],\n",
       " ['sausage', 'root vegetables'],\n",
       " ['pork', 'sliced cheese', 'flour'],\n",
       " ['pasta', 'canned beer'],\n",
       " ['butter', 'grapes', 'bottled water'],\n",
       " ['rolls/buns', 'bottled beer'],\n",
       " ['UHT-milk', 'curd'],\n",
       " ['other vegetables', 'rolls/buns'],\n",
       " ['whipped/sour cream', 'shopping bags'],\n",
       " ['rolls/buns',\n",
       "  'whipped/sour cream',\n",
       "  'waffles',\n",
       "  'rolls/buns',\n",
       "  'margarine',\n",
       "  'soda',\n",
       "  'salty snack',\n",
       "  'soda',\n",
       "  'canned beer'],\n",
       " ['chicken', 'whole milk'],\n",
       " ['butter milk', 'other vegetables'],\n",
       " ['root vegetables', 'margarine', 'bottled water'],\n",
       " ['yogurt', 'shopping bags', 'coffee'],\n",
       " ['curd', 'pastry'],\n",
       " ['salty snack', 'root vegetables'],\n",
       " ['bottled water', 'soda'],\n",
       " ['condensed milk', 'other vegetables'],\n",
       " ['dog food', 'processed cheese'],\n",
       " ['butter', 'roll products '],\n",
       " ['canned beer', 'bottled beer'],\n",
       " ['other vegetables', 'curd', 'abrasive cleaner'],\n",
       " ['sausage', 'sausage', 'bottled beer', 'spread cheese'],\n",
       " ['shopping bags', 'waffles'],\n",
       " ['newspapers', 'pip fruit', 'dishes'],\n",
       " ['whole milk', 'cling film/bags'],\n",
       " ['butter milk', 'hard cheese'],\n",
       " ['cleaner', 'misc. beverages'],\n",
       " ['pork', 'other vegetables', 'cream cheese '],\n",
       " ['beverages', 'sugar'],\n",
       " ['citrus fruit', 'other vegetables'],\n",
       " ['rolls/buns', 'hard cheese'],\n",
       " ['ham',\n",
       "  'whole milk',\n",
       "  'other vegetables',\n",
       "  'soda',\n",
       "  'white bread',\n",
       "  'tropical fruit',\n",
       "  'sugar'],\n",
       " ['frankfurter', 'margarine'],\n",
       " ['roll products ', 'waffles'],\n",
       " ['meat', 'soda'],\n",
       " ['condensed milk', 'whole milk'],\n",
       " ['whipped/sour cream', 'yogurt'],\n",
       " ['sausage', 'processed cheese'],\n",
       " ['finished products', 'yogurt', 'bottled beer', 'bottled water'],\n",
       " ['brown bread', 'tropical fruit'],\n",
       " ['onions', 'hard cheese'],\n",
       " ['soda', 'shopping bags'],\n",
       " ['frozen vegetables',\n",
       "  'sausage',\n",
       "  'whole milk',\n",
       "  'frozen vegetables',\n",
       "  'rolls/buns',\n",
       "  'other vegetables',\n",
       "  'oil',\n",
       "  'frozen fish',\n",
       "  'baking powder'],\n",
       " ['oil', 'margarine'],\n",
       " ['specialty chocolate', 'pasta', 'soda', 'long life bakery product'],\n",
       " ['whole milk', 'specialty cheese'],\n",
       " ['meat', 'other vegetables', 'pasta'],\n",
       " ['butter', 'chocolate'],\n",
       " ['citrus fruit', 'other vegetables'],\n",
       " ['sausage', 'dog food', 'bottled beer', 'bottled water'],\n",
       " ['sausage', 'frozen meals'],\n",
       " ['beverages', 'beverages', 'sugar', 'pasta', 'domestic eggs'],\n",
       " ['shopping bags', 'tropical fruit'],\n",
       " ['soda', 'cling film/bags'],\n",
       " ['UHT-milk', 'soft cheese'],\n",
       " ['candy', 'soda'],\n",
       " ['rolls/buns', 'salty snack', 'bottled water', 'shopping bags'],\n",
       " ['coffee', 'white bread'],\n",
       " ['onions', 'soft cheese'],\n",
       " ['dessert', 'condensed milk', 'rolls/buns', 'shopping bags'],\n",
       " ['turkey', 'shopping bags'],\n",
       " ['soda', 'soda', 'canned fruit', 'processed cheese', 'soda', 'shopping bags'],\n",
       " ['tropical fruit', 'rolls/buns'],\n",
       " ['grapes', 'other vegetables'],\n",
       " ['yogurt', 'canned beer'],\n",
       " ['whipped/sour cream', 'yogurt'],\n",
       " ['tropical fruit', 'berries'],\n",
       " ['other vegetables', 'UHT-milk'],\n",
       " ['frozen vegetables', 'other vegetables'],\n",
       " ['butter', 'candy'],\n",
       " ['chicken', 'butter'],\n",
       " ['margarine', 'margarine'],\n",
       " ['dessert', 'packaged fruit/vegetables'],\n",
       " ['citrus fruit', 'skin care'],\n",
       " ['tropical fruit', 'pip fruit'],\n",
       " ['root vegetables', 'frozen vegetables'],\n",
       " ['beef', 'curd'],\n",
       " ['frankfurter', 'whole milk'],\n",
       " ['citrus fruit', 'coffee'],\n",
       " ['soda', 'frozen meals', 'bottled beer'],\n",
       " ['other vegetables', 'chewing gum'],\n",
       " ['canned beer', 'dessert', 'fruit/vegetable juice'],\n",
       " ['grapes', 'other vegetables'],\n",
       " ['pork', 'turkey', 'pot plants', 'whole milk', 'soda', 'dishes'],\n",
       " ['chicken', 'pastry'],\n",
       " ['pastry', 'liqueur'],\n",
       " ['sausage', 'processed cheese', 'baking powder', 'specialty cheese'],\n",
       " ['ham', 'napkins'],\n",
       " ['white wine', 'specialty bar', 'specialty chocolate'],\n",
       " ['soda', 'red/blush wine'],\n",
       " ['tea', 'coffee'],\n",
       " ['berries', 'domestic eggs'],\n",
       " ['sugar', 'other vegetables'],\n",
       " ['sausage', 'coffee'],\n",
       " ['UHT-milk', 'herbs', 'butter', 'oil'],\n",
       " ['frozen dessert', 'cream cheese '],\n",
       " ['rolls/buns', 'yogurt'],\n",
       " ['yogurt', 'coffee'],\n",
       " ['rolls/buns',\n",
       "  'fruit/vegetable juice',\n",
       "  'frozen vegetables',\n",
       "  'whipped/sour cream'],\n",
       " ['whole milk', 'shopping bags'],\n",
       " ['fruit/vegetable juice', 'berries'],\n",
       " ['hamburger meat', 'coffee'],\n",
       " ['ice cream', 'whole milk'],\n",
       " ['sausage', 'grapes', 'sliced cheese', 'napkins'],\n",
       " ['pork', 'root vegetables'],\n",
       " ['pip fruit', 'shopping bags'],\n",
       " ['sausage', 'curd'],\n",
       " ['whole milk', 'domestic eggs', 'canned vegetables', 'flower (seeds)'],\n",
       " ['rolls/buns', 'hard cheese', 'rolls/buns', 'flour'],\n",
       " ['whole milk', 'onions', 'pickled vegetables'],\n",
       " ['organic sausage', 'frozen meals', 'sugar'],\n",
       " ['frozen meals', 'bottled beer'],\n",
       " ['citrus fruit', 'other vegetables'],\n",
       " ['tropical fruit', 'white bread', 'butter'],\n",
       " ['tropical fruit', 'yogurt', 'semi-finished bread', 'soda'],\n",
       " ['sausage', 'other vegetables', 'tropical fruit', 'mayonnaise'],\n",
       " ['bottled water', 'pastry'],\n",
       " ['sugar', 'curd'],\n",
       " ['specialty bar', 'tropical fruit'],\n",
       " ['other vegetables', 'whole milk', 'soda'],\n",
       " ['UHT-milk', 'canned fish', 'root vegetables', 'waffles'],\n",
       " ['hamburger meat', 'other vegetables', 'domestic eggs'],\n",
       " ['pork', 'brown bread'],\n",
       " ['pork', 'yogurt'],\n",
       " ['cream cheese ',\n",
       "  'pip fruit',\n",
       "  'citrus fruit',\n",
       "  'chicken',\n",
       "  'other vegetables',\n",
       "  'curd',\n",
       "  'specialty chocolate',\n",
       "  'pastry'],\n",
       " ['shopping bags', 'tropical fruit', 'red/blush wine'],\n",
       " ['other vegetables', 'sliced cheese'],\n",
       " ['butter', 'whole milk'],\n",
       " ['other vegetables', 'margarine', 'brown bread'],\n",
       " ['whole milk', 'misc. beverages'],\n",
       " ['white wine', 'sauces'],\n",
       " ['oil', 'canned fish'],\n",
       " ['rolls/buns', 'seasonal products'],\n",
       " ['tropical fruit', 'root vegetables'],\n",
       " ['red/blush wine', 'frozen meals', 'canned fruit'],\n",
       " ['other vegetables', 'whole milk', 'softener'],\n",
       " ['other vegetables', 'liquor', 'whole milk', 'butter milk'],\n",
       " ['cake bar', 'flower soil/fertilizer'],\n",
       " ['citrus fruit', 'cereals'],\n",
       " ['pork', 'napkins'],\n",
       " ['specialty bar', 'cleaner'],\n",
       " ['pork', 'pastry'],\n",
       " ['artif. sweetener', 'whole milk'],\n",
       " ['tidbits', 'cream cheese '],\n",
       " ['dessert', 'rolls/buns'],\n",
       " ['coffee', 'other vegetables', 'specialty cheese'],\n",
       " ['frozen potato products', 'domestic eggs', 'shopping bags', 'butter milk'],\n",
       " ['rolls/buns', 'dental care'],\n",
       " ['ice cream', 'butter'],\n",
       " ['citrus fruit', 'pastry'],\n",
       " ['sausage', 'onions', 'mustard'],\n",
       " ['curd', 'hygiene articles'],\n",
       " ['root vegetables', 'butter', 'dessert'],\n",
       " ['other vegetables', 'whole milk'],\n",
       " ['white bread', 'specialty chocolate'],\n",
       " ['salt', 'citrus fruit'],\n",
       " ['dessert', 'house keeping products'],\n",
       " ['hard cheese', 'yogurt'],\n",
       " ['sausage', 'whole milk', 'rolls/buns', 'bottled beer'],\n",
       " ['whole milk', 'cream cheese ', 'semi-finished bread'],\n",
       " ['condensed milk', 'hard cheese'],\n",
       " ['butter', 'brown bread'],\n",
       " ['sausage', 'rolls/buns'],\n",
       " ['frankfurter', 'shopping bags'],\n",
       " ...]"
      ]
     },
     "execution_count": 69,
     "metadata": {},
     "output_type": "execute_result"
    }
   ],
   "source": [
    "itemlist"
   ]
  },
  {
   "cell_type": "code",
   "execution_count": 70,
   "id": "723d1fa1",
   "metadata": {},
   "outputs": [
    {
     "data": {
      "text/html": [
       "<div>\n",
       "<style scoped>\n",
       "    .dataframe tbody tr th:only-of-type {\n",
       "        vertical-align: middle;\n",
       "    }\n",
       "\n",
       "    .dataframe tbody tr th {\n",
       "        vertical-align: top;\n",
       "    }\n",
       "\n",
       "    .dataframe thead th {\n",
       "        text-align: right;\n",
       "    }\n",
       "</style>\n",
       "<table border=\"1\" class=\"dataframe\">\n",
       "  <thead>\n",
       "    <tr style=\"text-align: right;\">\n",
       "      <th></th>\n",
       "      <th>Instant food products</th>\n",
       "      <th>UHT-milk</th>\n",
       "      <th>abrasive cleaner</th>\n",
       "      <th>artif. sweetener</th>\n",
       "      <th>baby cosmetics</th>\n",
       "      <th>bags</th>\n",
       "      <th>baking powder</th>\n",
       "      <th>bathroom cleaner</th>\n",
       "      <th>beef</th>\n",
       "      <th>berries</th>\n",
       "      <th>...</th>\n",
       "      <th>turkey</th>\n",
       "      <th>vinegar</th>\n",
       "      <th>waffles</th>\n",
       "      <th>whipped/sour cream</th>\n",
       "      <th>whisky</th>\n",
       "      <th>white bread</th>\n",
       "      <th>white wine</th>\n",
       "      <th>whole milk</th>\n",
       "      <th>yogurt</th>\n",
       "      <th>zwieback</th>\n",
       "    </tr>\n",
       "  </thead>\n",
       "  <tbody>\n",
       "    <tr>\n",
       "      <th>0</th>\n",
       "      <td>False</td>\n",
       "      <td>False</td>\n",
       "      <td>False</td>\n",
       "      <td>False</td>\n",
       "      <td>False</td>\n",
       "      <td>False</td>\n",
       "      <td>False</td>\n",
       "      <td>False</td>\n",
       "      <td>False</td>\n",
       "      <td>False</td>\n",
       "      <td>...</td>\n",
       "      <td>False</td>\n",
       "      <td>False</td>\n",
       "      <td>False</td>\n",
       "      <td>False</td>\n",
       "      <td>False</td>\n",
       "      <td>False</td>\n",
       "      <td>False</td>\n",
       "      <td>True</td>\n",
       "      <td>False</td>\n",
       "      <td>False</td>\n",
       "    </tr>\n",
       "    <tr>\n",
       "      <th>1</th>\n",
       "      <td>False</td>\n",
       "      <td>False</td>\n",
       "      <td>False</td>\n",
       "      <td>False</td>\n",
       "      <td>False</td>\n",
       "      <td>False</td>\n",
       "      <td>False</td>\n",
       "      <td>False</td>\n",
       "      <td>False</td>\n",
       "      <td>False</td>\n",
       "      <td>...</td>\n",
       "      <td>False</td>\n",
       "      <td>False</td>\n",
       "      <td>False</td>\n",
       "      <td>False</td>\n",
       "      <td>False</td>\n",
       "      <td>False</td>\n",
       "      <td>False</td>\n",
       "      <td>True</td>\n",
       "      <td>True</td>\n",
       "      <td>False</td>\n",
       "    </tr>\n",
       "    <tr>\n",
       "      <th>2</th>\n",
       "      <td>False</td>\n",
       "      <td>False</td>\n",
       "      <td>False</td>\n",
       "      <td>False</td>\n",
       "      <td>False</td>\n",
       "      <td>False</td>\n",
       "      <td>False</td>\n",
       "      <td>False</td>\n",
       "      <td>False</td>\n",
       "      <td>False</td>\n",
       "      <td>...</td>\n",
       "      <td>False</td>\n",
       "      <td>False</td>\n",
       "      <td>False</td>\n",
       "      <td>False</td>\n",
       "      <td>False</td>\n",
       "      <td>False</td>\n",
       "      <td>False</td>\n",
       "      <td>False</td>\n",
       "      <td>False</td>\n",
       "      <td>False</td>\n",
       "    </tr>\n",
       "    <tr>\n",
       "      <th>3</th>\n",
       "      <td>False</td>\n",
       "      <td>False</td>\n",
       "      <td>False</td>\n",
       "      <td>False</td>\n",
       "      <td>False</td>\n",
       "      <td>False</td>\n",
       "      <td>False</td>\n",
       "      <td>False</td>\n",
       "      <td>False</td>\n",
       "      <td>False</td>\n",
       "      <td>...</td>\n",
       "      <td>False</td>\n",
       "      <td>False</td>\n",
       "      <td>False</td>\n",
       "      <td>False</td>\n",
       "      <td>False</td>\n",
       "      <td>False</td>\n",
       "      <td>False</td>\n",
       "      <td>False</td>\n",
       "      <td>False</td>\n",
       "      <td>False</td>\n",
       "    </tr>\n",
       "    <tr>\n",
       "      <th>4</th>\n",
       "      <td>False</td>\n",
       "      <td>False</td>\n",
       "      <td>False</td>\n",
       "      <td>False</td>\n",
       "      <td>False</td>\n",
       "      <td>False</td>\n",
       "      <td>False</td>\n",
       "      <td>False</td>\n",
       "      <td>False</td>\n",
       "      <td>False</td>\n",
       "      <td>...</td>\n",
       "      <td>False</td>\n",
       "      <td>False</td>\n",
       "      <td>False</td>\n",
       "      <td>False</td>\n",
       "      <td>False</td>\n",
       "      <td>False</td>\n",
       "      <td>False</td>\n",
       "      <td>False</td>\n",
       "      <td>False</td>\n",
       "      <td>False</td>\n",
       "    </tr>\n",
       "    <tr>\n",
       "      <th>...</th>\n",
       "      <td>...</td>\n",
       "      <td>...</td>\n",
       "      <td>...</td>\n",
       "      <td>...</td>\n",
       "      <td>...</td>\n",
       "      <td>...</td>\n",
       "      <td>...</td>\n",
       "      <td>...</td>\n",
       "      <td>...</td>\n",
       "      <td>...</td>\n",
       "      <td>...</td>\n",
       "      <td>...</td>\n",
       "      <td>...</td>\n",
       "      <td>...</td>\n",
       "      <td>...</td>\n",
       "      <td>...</td>\n",
       "      <td>...</td>\n",
       "      <td>...</td>\n",
       "      <td>...</td>\n",
       "      <td>...</td>\n",
       "      <td>...</td>\n",
       "    </tr>\n",
       "    <tr>\n",
       "      <th>14958</th>\n",
       "      <td>False</td>\n",
       "      <td>False</td>\n",
       "      <td>False</td>\n",
       "      <td>False</td>\n",
       "      <td>False</td>\n",
       "      <td>False</td>\n",
       "      <td>False</td>\n",
       "      <td>False</td>\n",
       "      <td>False</td>\n",
       "      <td>False</td>\n",
       "      <td>...</td>\n",
       "      <td>False</td>\n",
       "      <td>False</td>\n",
       "      <td>False</td>\n",
       "      <td>True</td>\n",
       "      <td>False</td>\n",
       "      <td>False</td>\n",
       "      <td>False</td>\n",
       "      <td>False</td>\n",
       "      <td>False</td>\n",
       "      <td>False</td>\n",
       "    </tr>\n",
       "    <tr>\n",
       "      <th>14959</th>\n",
       "      <td>False</td>\n",
       "      <td>False</td>\n",
       "      <td>False</td>\n",
       "      <td>False</td>\n",
       "      <td>False</td>\n",
       "      <td>False</td>\n",
       "      <td>False</td>\n",
       "      <td>False</td>\n",
       "      <td>False</td>\n",
       "      <td>False</td>\n",
       "      <td>...</td>\n",
       "      <td>False</td>\n",
       "      <td>False</td>\n",
       "      <td>False</td>\n",
       "      <td>False</td>\n",
       "      <td>False</td>\n",
       "      <td>False</td>\n",
       "      <td>False</td>\n",
       "      <td>False</td>\n",
       "      <td>False</td>\n",
       "      <td>False</td>\n",
       "    </tr>\n",
       "    <tr>\n",
       "      <th>14960</th>\n",
       "      <td>False</td>\n",
       "      <td>False</td>\n",
       "      <td>False</td>\n",
       "      <td>False</td>\n",
       "      <td>False</td>\n",
       "      <td>False</td>\n",
       "      <td>False</td>\n",
       "      <td>False</td>\n",
       "      <td>False</td>\n",
       "      <td>False</td>\n",
       "      <td>...</td>\n",
       "      <td>False</td>\n",
       "      <td>False</td>\n",
       "      <td>False</td>\n",
       "      <td>False</td>\n",
       "      <td>False</td>\n",
       "      <td>False</td>\n",
       "      <td>False</td>\n",
       "      <td>False</td>\n",
       "      <td>False</td>\n",
       "      <td>False</td>\n",
       "    </tr>\n",
       "    <tr>\n",
       "      <th>14961</th>\n",
       "      <td>False</td>\n",
       "      <td>False</td>\n",
       "      <td>False</td>\n",
       "      <td>False</td>\n",
       "      <td>False</td>\n",
       "      <td>False</td>\n",
       "      <td>False</td>\n",
       "      <td>False</td>\n",
       "      <td>False</td>\n",
       "      <td>False</td>\n",
       "      <td>...</td>\n",
       "      <td>False</td>\n",
       "      <td>False</td>\n",
       "      <td>False</td>\n",
       "      <td>False</td>\n",
       "      <td>False</td>\n",
       "      <td>False</td>\n",
       "      <td>False</td>\n",
       "      <td>False</td>\n",
       "      <td>False</td>\n",
       "      <td>False</td>\n",
       "    </tr>\n",
       "    <tr>\n",
       "      <th>14962</th>\n",
       "      <td>False</td>\n",
       "      <td>False</td>\n",
       "      <td>False</td>\n",
       "      <td>False</td>\n",
       "      <td>False</td>\n",
       "      <td>False</td>\n",
       "      <td>False</td>\n",
       "      <td>False</td>\n",
       "      <td>False</td>\n",
       "      <td>False</td>\n",
       "      <td>...</td>\n",
       "      <td>False</td>\n",
       "      <td>False</td>\n",
       "      <td>False</td>\n",
       "      <td>False</td>\n",
       "      <td>False</td>\n",
       "      <td>False</td>\n",
       "      <td>False</td>\n",
       "      <td>False</td>\n",
       "      <td>False</td>\n",
       "      <td>False</td>\n",
       "    </tr>\n",
       "  </tbody>\n",
       "</table>\n",
       "<p>14963 rows × 167 columns</p>\n",
       "</div>"
      ],
      "text/plain": [
       "       Instant food products  UHT-milk  abrasive cleaner  artif. sweetener  \\\n",
       "0                      False     False             False             False   \n",
       "1                      False     False             False             False   \n",
       "2                      False     False             False             False   \n",
       "3                      False     False             False             False   \n",
       "4                      False     False             False             False   \n",
       "...                      ...       ...               ...               ...   \n",
       "14958                  False     False             False             False   \n",
       "14959                  False     False             False             False   \n",
       "14960                  False     False             False             False   \n",
       "14961                  False     False             False             False   \n",
       "14962                  False     False             False             False   \n",
       "\n",
       "       baby cosmetics   bags  baking powder  bathroom cleaner   beef  berries  \\\n",
       "0               False  False          False             False  False    False   \n",
       "1               False  False          False             False  False    False   \n",
       "2               False  False          False             False  False    False   \n",
       "3               False  False          False             False  False    False   \n",
       "4               False  False          False             False  False    False   \n",
       "...               ...    ...            ...               ...    ...      ...   \n",
       "14958           False  False          False             False  False    False   \n",
       "14959           False  False          False             False  False    False   \n",
       "14960           False  False          False             False  False    False   \n",
       "14961           False  False          False             False  False    False   \n",
       "14962           False  False          False             False  False    False   \n",
       "\n",
       "       ...  turkey  vinegar  waffles  whipped/sour cream  whisky  white bread  \\\n",
       "0      ...   False    False    False               False   False        False   \n",
       "1      ...   False    False    False               False   False        False   \n",
       "2      ...   False    False    False               False   False        False   \n",
       "3      ...   False    False    False               False   False        False   \n",
       "4      ...   False    False    False               False   False        False   \n",
       "...    ...     ...      ...      ...                 ...     ...          ...   \n",
       "14958  ...   False    False    False                True   False        False   \n",
       "14959  ...   False    False    False               False   False        False   \n",
       "14960  ...   False    False    False               False   False        False   \n",
       "14961  ...   False    False    False               False   False        False   \n",
       "14962  ...   False    False    False               False   False        False   \n",
       "\n",
       "       white wine  whole milk  yogurt  zwieback  \n",
       "0           False        True   False     False  \n",
       "1           False        True    True     False  \n",
       "2           False       False   False     False  \n",
       "3           False       False   False     False  \n",
       "4           False       False   False     False  \n",
       "...           ...         ...     ...       ...  \n",
       "14958       False       False   False     False  \n",
       "14959       False       False   False     False  \n",
       "14960       False       False   False     False  \n",
       "14961       False       False   False     False  \n",
       "14962       False       False   False     False  \n",
       "\n",
       "[14963 rows x 167 columns]"
      ]
     },
     "execution_count": 70,
     "metadata": {},
     "output_type": "execute_result"
    }
   ],
   "source": [
    "#Creating an item matrix\n",
    "TE = TransactionEncoder()\n",
    "TE.fit(itemlist)\n",
    "item_transformed = TE.transform(itemlist)\n",
    "itemlist_matrix = pd.DataFrame(item_transformed,columns=TE.columns_)\n",
    "itemlist_matrix"
   ]
  },
  {
   "cell_type": "markdown",
   "id": "81baac28",
   "metadata": {},
   "source": [
    "### 3.3 Implementation of Market Basket Analysis Algorithm"
   ]
  },
  {
   "cell_type": "markdown",
   "id": "18897cce",
   "metadata": {},
   "source": [
    "### 3.3.1 Apriori Algorithm"
   ]
  },
  {
   "cell_type": "code",
   "execution_count": 71,
   "id": "742ab317",
   "metadata": {},
   "outputs": [
    {
     "data": {
      "text/html": [
       "<div>\n",
       "<style scoped>\n",
       "    .dataframe tbody tr th:only-of-type {\n",
       "        vertical-align: middle;\n",
       "    }\n",
       "\n",
       "    .dataframe tbody tr th {\n",
       "        vertical-align: top;\n",
       "    }\n",
       "\n",
       "    .dataframe thead th {\n",
       "        text-align: right;\n",
       "    }\n",
       "</style>\n",
       "<table border=\"1\" class=\"dataframe\">\n",
       "  <thead>\n",
       "    <tr style=\"text-align: right;\">\n",
       "      <th></th>\n",
       "      <th>support</th>\n",
       "      <th>itemsets</th>\n",
       "    </tr>\n",
       "  </thead>\n",
       "  <tbody>\n",
       "    <tr>\n",
       "      <th>62</th>\n",
       "      <td>0.157923</td>\n",
       "      <td>(whole milk)</td>\n",
       "    </tr>\n",
       "    <tr>\n",
       "      <th>40</th>\n",
       "      <td>0.122101</td>\n",
       "      <td>(other vegetables)</td>\n",
       "    </tr>\n",
       "    <tr>\n",
       "      <th>46</th>\n",
       "      <td>0.110005</td>\n",
       "      <td>(rolls/buns)</td>\n",
       "    </tr>\n",
       "    <tr>\n",
       "      <th>52</th>\n",
       "      <td>0.097106</td>\n",
       "      <td>(soda)</td>\n",
       "    </tr>\n",
       "    <tr>\n",
       "      <th>63</th>\n",
       "      <td>0.085879</td>\n",
       "      <td>(yogurt)</td>\n",
       "    </tr>\n",
       "    <tr>\n",
       "      <th>...</th>\n",
       "      <td>...</td>\n",
       "      <td>...</td>\n",
       "    </tr>\n",
       "    <tr>\n",
       "      <th>64</th>\n",
       "      <td>0.010559</td>\n",
       "      <td>(other vegetables, rolls/buns)</td>\n",
       "    </tr>\n",
       "    <tr>\n",
       "      <th>29</th>\n",
       "      <td>0.010559</td>\n",
       "      <td>(herbs)</td>\n",
       "    </tr>\n",
       "    <tr>\n",
       "      <th>45</th>\n",
       "      <td>0.010493</td>\n",
       "      <td>(red/blush wine)</td>\n",
       "    </tr>\n",
       "    <tr>\n",
       "      <th>44</th>\n",
       "      <td>0.010158</td>\n",
       "      <td>(processed cheese)</td>\n",
       "    </tr>\n",
       "    <tr>\n",
       "      <th>53</th>\n",
       "      <td>0.010025</td>\n",
       "      <td>(soft cheese)</td>\n",
       "    </tr>\n",
       "  </tbody>\n",
       "</table>\n",
       "<p>69 rows × 2 columns</p>\n",
       "</div>"
      ],
      "text/plain": [
       "     support                        itemsets\n",
       "62  0.157923                    (whole milk)\n",
       "40  0.122101              (other vegetables)\n",
       "46  0.110005                    (rolls/buns)\n",
       "52  0.097106                          (soda)\n",
       "63  0.085879                        (yogurt)\n",
       "..       ...                             ...\n",
       "64  0.010559  (other vegetables, rolls/buns)\n",
       "29  0.010559                         (herbs)\n",
       "45  0.010493                (red/blush wine)\n",
       "44  0.010158              (processed cheese)\n",
       "53  0.010025                   (soft cheese)\n",
       "\n",
       "[69 rows x 2 columns]"
      ]
     },
     "execution_count": 71,
     "metadata": {},
     "output_type": "execute_result"
    }
   ],
   "source": [
    "## Apriori Algorithm to get the support value \n",
    "bsk_freq_items = apriori(itemlist_matrix, min_support=0.01,use_colnames=True,max_len=None)\n",
    "\n",
    "#arranging the dataframe based on the support value\n",
    "bsk_freq_items.sort_values(by='support',ascending=False)"
   ]
  },
  {
   "cell_type": "markdown",
   "id": "8b1515cf",
   "metadata": {},
   "source": [
    "Support Value measures how frequent an association rule happens in a dataset"
   ]
  },
  {
   "cell_type": "markdown",
   "id": "3721d682",
   "metadata": {},
   "source": [
    "### 3.4 Association Rule"
   ]
  },
  {
   "cell_type": "code",
   "execution_count": 72,
   "id": "f8948f95",
   "metadata": {},
   "outputs": [
    {
     "data": {
      "text/html": [
       "<div>\n",
       "<style scoped>\n",
       "    .dataframe tbody tr th:only-of-type {\n",
       "        vertical-align: middle;\n",
       "    }\n",
       "\n",
       "    .dataframe tbody tr th {\n",
       "        vertical-align: top;\n",
       "    }\n",
       "\n",
       "    .dataframe thead th {\n",
       "        text-align: right;\n",
       "    }\n",
       "</style>\n",
       "<table border=\"1\" class=\"dataframe\">\n",
       "  <thead>\n",
       "    <tr style=\"text-align: right;\">\n",
       "      <th></th>\n",
       "      <th>antecedents</th>\n",
       "      <th>consequents</th>\n",
       "      <th>antecedent support</th>\n",
       "      <th>consequent support</th>\n",
       "      <th>support</th>\n",
       "      <th>confidence</th>\n",
       "      <th>lift</th>\n",
       "      <th>leverage</th>\n",
       "      <th>conviction</th>\n",
       "      <th>zhangs_metric</th>\n",
       "    </tr>\n",
       "  </thead>\n",
       "  <tbody>\n",
       "    <tr>\n",
       "      <th>0</th>\n",
       "      <td>(other vegetables)</td>\n",
       "      <td>(rolls/buns)</td>\n",
       "      <td>0.122101</td>\n",
       "      <td>0.110005</td>\n",
       "      <td>0.010559</td>\n",
       "      <td>0.086481</td>\n",
       "      <td>0.786154</td>\n",
       "      <td>-0.002872</td>\n",
       "      <td>0.974249</td>\n",
       "      <td>-0.236553</td>\n",
       "    </tr>\n",
       "    <tr>\n",
       "      <th>1</th>\n",
       "      <td>(rolls/buns)</td>\n",
       "      <td>(other vegetables)</td>\n",
       "      <td>0.110005</td>\n",
       "      <td>0.122101</td>\n",
       "      <td>0.010559</td>\n",
       "      <td>0.095990</td>\n",
       "      <td>0.786154</td>\n",
       "      <td>-0.002872</td>\n",
       "      <td>0.971117</td>\n",
       "      <td>-0.234091</td>\n",
       "    </tr>\n",
       "    <tr>\n",
       "      <th>2</th>\n",
       "      <td>(other vegetables)</td>\n",
       "      <td>(whole milk)</td>\n",
       "      <td>0.122101</td>\n",
       "      <td>0.157923</td>\n",
       "      <td>0.014837</td>\n",
       "      <td>0.121511</td>\n",
       "      <td>0.769430</td>\n",
       "      <td>-0.004446</td>\n",
       "      <td>0.958551</td>\n",
       "      <td>-0.254477</td>\n",
       "    </tr>\n",
       "    <tr>\n",
       "      <th>3</th>\n",
       "      <td>(whole milk)</td>\n",
       "      <td>(other vegetables)</td>\n",
       "      <td>0.157923</td>\n",
       "      <td>0.122101</td>\n",
       "      <td>0.014837</td>\n",
       "      <td>0.093948</td>\n",
       "      <td>0.769430</td>\n",
       "      <td>-0.004446</td>\n",
       "      <td>0.968928</td>\n",
       "      <td>-0.262461</td>\n",
       "    </tr>\n",
       "    <tr>\n",
       "      <th>4</th>\n",
       "      <td>(rolls/buns)</td>\n",
       "      <td>(whole milk)</td>\n",
       "      <td>0.110005</td>\n",
       "      <td>0.157923</td>\n",
       "      <td>0.013968</td>\n",
       "      <td>0.126974</td>\n",
       "      <td>0.804028</td>\n",
       "      <td>-0.003404</td>\n",
       "      <td>0.964550</td>\n",
       "      <td>-0.214986</td>\n",
       "    </tr>\n",
       "    <tr>\n",
       "      <th>5</th>\n",
       "      <td>(whole milk)</td>\n",
       "      <td>(rolls/buns)</td>\n",
       "      <td>0.157923</td>\n",
       "      <td>0.110005</td>\n",
       "      <td>0.013968</td>\n",
       "      <td>0.088447</td>\n",
       "      <td>0.804028</td>\n",
       "      <td>-0.003404</td>\n",
       "      <td>0.976350</td>\n",
       "      <td>-0.224474</td>\n",
       "    </tr>\n",
       "    <tr>\n",
       "      <th>6</th>\n",
       "      <td>(soda)</td>\n",
       "      <td>(whole milk)</td>\n",
       "      <td>0.097106</td>\n",
       "      <td>0.157923</td>\n",
       "      <td>0.011629</td>\n",
       "      <td>0.119752</td>\n",
       "      <td>0.758296</td>\n",
       "      <td>-0.003707</td>\n",
       "      <td>0.956636</td>\n",
       "      <td>-0.260917</td>\n",
       "    </tr>\n",
       "    <tr>\n",
       "      <th>7</th>\n",
       "      <td>(whole milk)</td>\n",
       "      <td>(soda)</td>\n",
       "      <td>0.157923</td>\n",
       "      <td>0.097106</td>\n",
       "      <td>0.011629</td>\n",
       "      <td>0.073635</td>\n",
       "      <td>0.758296</td>\n",
       "      <td>-0.003707</td>\n",
       "      <td>0.974663</td>\n",
       "      <td>-0.274587</td>\n",
       "    </tr>\n",
       "    <tr>\n",
       "      <th>8</th>\n",
       "      <td>(yogurt)</td>\n",
       "      <td>(whole milk)</td>\n",
       "      <td>0.085879</td>\n",
       "      <td>0.157923</td>\n",
       "      <td>0.011161</td>\n",
       "      <td>0.129961</td>\n",
       "      <td>0.822940</td>\n",
       "      <td>-0.002401</td>\n",
       "      <td>0.967861</td>\n",
       "      <td>-0.190525</td>\n",
       "    </tr>\n",
       "    <tr>\n",
       "      <th>9</th>\n",
       "      <td>(whole milk)</td>\n",
       "      <td>(yogurt)</td>\n",
       "      <td>0.157923</td>\n",
       "      <td>0.085879</td>\n",
       "      <td>0.011161</td>\n",
       "      <td>0.070673</td>\n",
       "      <td>0.822940</td>\n",
       "      <td>-0.002401</td>\n",
       "      <td>0.983638</td>\n",
       "      <td>-0.203508</td>\n",
       "    </tr>\n",
       "  </tbody>\n",
       "</table>\n",
       "</div>"
      ],
      "text/plain": [
       "          antecedents         consequents  antecedent support  \\\n",
       "0  (other vegetables)        (rolls/buns)            0.122101   \n",
       "1        (rolls/buns)  (other vegetables)            0.110005   \n",
       "2  (other vegetables)        (whole milk)            0.122101   \n",
       "3        (whole milk)  (other vegetables)            0.157923   \n",
       "4        (rolls/buns)        (whole milk)            0.110005   \n",
       "5        (whole milk)        (rolls/buns)            0.157923   \n",
       "6              (soda)        (whole milk)            0.097106   \n",
       "7        (whole milk)              (soda)            0.157923   \n",
       "8            (yogurt)        (whole milk)            0.085879   \n",
       "9        (whole milk)            (yogurt)            0.157923   \n",
       "\n",
       "   consequent support   support  confidence      lift  leverage  conviction  \\\n",
       "0            0.110005  0.010559    0.086481  0.786154 -0.002872    0.974249   \n",
       "1            0.122101  0.010559    0.095990  0.786154 -0.002872    0.971117   \n",
       "2            0.157923  0.014837    0.121511  0.769430 -0.004446    0.958551   \n",
       "3            0.122101  0.014837    0.093948  0.769430 -0.004446    0.968928   \n",
       "4            0.157923  0.013968    0.126974  0.804028 -0.003404    0.964550   \n",
       "5            0.110005  0.013968    0.088447  0.804028 -0.003404    0.976350   \n",
       "6            0.157923  0.011629    0.119752  0.758296 -0.003707    0.956636   \n",
       "7            0.097106  0.011629    0.073635  0.758296 -0.003707    0.974663   \n",
       "8            0.157923  0.011161    0.129961  0.822940 -0.002401    0.967861   \n",
       "9            0.085879  0.011161    0.070673  0.822940 -0.002401    0.983638   \n",
       "\n",
       "   zhangs_metric  \n",
       "0      -0.236553  \n",
       "1      -0.234091  \n",
       "2      -0.254477  \n",
       "3      -0.262461  \n",
       "4      -0.214986  \n",
       "5      -0.224474  \n",
       "6      -0.260917  \n",
       "7      -0.274587  \n",
       "8      -0.190525  \n",
       "9      -0.203508  "
      ]
     },
     "execution_count": 72,
     "metadata": {},
     "output_type": "execute_result"
    }
   ],
   "source": [
    "#Creating a dataframe with product support , confidence and Lift\n",
    "mba = association_rules(bsk_freq_items, metric='confidence',min_threshold = 0)\n",
    "mba"
   ]
  },
  {
   "cell_type": "markdown",
   "id": "2c186776",
   "metadata": {},
   "source": [
    "Since we not getting a lift ratio greater than one i.e (Lift>1), which means a strong association between items. This might be due to the fact Association rules needs to appear in hundreds of transactions to be statistically significant.\n",
    "\n"
   ]
  },
  {
   "cell_type": "markdown",
   "id": "8404facd",
   "metadata": {},
   "source": [
    "Due to this problem, based on this data we try to still understand the data"
   ]
  },
  {
   "cell_type": "code",
   "execution_count": 73,
   "id": "236e9905",
   "metadata": {},
   "outputs": [
    {
     "data": {
      "text/html": [
       "<div>\n",
       "<style scoped>\n",
       "    .dataframe tbody tr th:only-of-type {\n",
       "        vertical-align: middle;\n",
       "    }\n",
       "\n",
       "    .dataframe tbody tr th {\n",
       "        vertical-align: top;\n",
       "    }\n",
       "\n",
       "    .dataframe thead th {\n",
       "        text-align: right;\n",
       "    }\n",
       "</style>\n",
       "<table border=\"1\" class=\"dataframe\">\n",
       "  <thead>\n",
       "    <tr style=\"text-align: right;\">\n",
       "      <th></th>\n",
       "      <th>antecedents</th>\n",
       "      <th>consequents</th>\n",
       "      <th>antecedent support</th>\n",
       "      <th>consequent support</th>\n",
       "      <th>support</th>\n",
       "      <th>confidence</th>\n",
       "      <th>lift</th>\n",
       "      <th>leverage</th>\n",
       "      <th>conviction</th>\n",
       "      <th>zhangs_metric</th>\n",
       "    </tr>\n",
       "  </thead>\n",
       "  <tbody>\n",
       "    <tr>\n",
       "      <th>2</th>\n",
       "      <td>(other vegetables)</td>\n",
       "      <td>(whole milk)</td>\n",
       "      <td>0.122101</td>\n",
       "      <td>0.157923</td>\n",
       "      <td>0.014837</td>\n",
       "      <td>0.121511</td>\n",
       "      <td>0.769430</td>\n",
       "      <td>-0.004446</td>\n",
       "      <td>0.958551</td>\n",
       "      <td>-0.254477</td>\n",
       "    </tr>\n",
       "    <tr>\n",
       "      <th>3</th>\n",
       "      <td>(whole milk)</td>\n",
       "      <td>(other vegetables)</td>\n",
       "      <td>0.157923</td>\n",
       "      <td>0.122101</td>\n",
       "      <td>0.014837</td>\n",
       "      <td>0.093948</td>\n",
       "      <td>0.769430</td>\n",
       "      <td>-0.004446</td>\n",
       "      <td>0.968928</td>\n",
       "      <td>-0.262461</td>\n",
       "    </tr>\n",
       "    <tr>\n",
       "      <th>4</th>\n",
       "      <td>(rolls/buns)</td>\n",
       "      <td>(whole milk)</td>\n",
       "      <td>0.110005</td>\n",
       "      <td>0.157923</td>\n",
       "      <td>0.013968</td>\n",
       "      <td>0.126974</td>\n",
       "      <td>0.804028</td>\n",
       "      <td>-0.003404</td>\n",
       "      <td>0.964550</td>\n",
       "      <td>-0.214986</td>\n",
       "    </tr>\n",
       "    <tr>\n",
       "      <th>5</th>\n",
       "      <td>(whole milk)</td>\n",
       "      <td>(rolls/buns)</td>\n",
       "      <td>0.157923</td>\n",
       "      <td>0.110005</td>\n",
       "      <td>0.013968</td>\n",
       "      <td>0.088447</td>\n",
       "      <td>0.804028</td>\n",
       "      <td>-0.003404</td>\n",
       "      <td>0.976350</td>\n",
       "      <td>-0.224474</td>\n",
       "    </tr>\n",
       "    <tr>\n",
       "      <th>6</th>\n",
       "      <td>(soda)</td>\n",
       "      <td>(whole milk)</td>\n",
       "      <td>0.097106</td>\n",
       "      <td>0.157923</td>\n",
       "      <td>0.011629</td>\n",
       "      <td>0.119752</td>\n",
       "      <td>0.758296</td>\n",
       "      <td>-0.003707</td>\n",
       "      <td>0.956636</td>\n",
       "      <td>-0.260917</td>\n",
       "    </tr>\n",
       "    <tr>\n",
       "      <th>7</th>\n",
       "      <td>(whole milk)</td>\n",
       "      <td>(soda)</td>\n",
       "      <td>0.157923</td>\n",
       "      <td>0.097106</td>\n",
       "      <td>0.011629</td>\n",
       "      <td>0.073635</td>\n",
       "      <td>0.758296</td>\n",
       "      <td>-0.003707</td>\n",
       "      <td>0.974663</td>\n",
       "      <td>-0.274587</td>\n",
       "    </tr>\n",
       "    <tr>\n",
       "      <th>8</th>\n",
       "      <td>(yogurt)</td>\n",
       "      <td>(whole milk)</td>\n",
       "      <td>0.085879</td>\n",
       "      <td>0.157923</td>\n",
       "      <td>0.011161</td>\n",
       "      <td>0.129961</td>\n",
       "      <td>0.822940</td>\n",
       "      <td>-0.002401</td>\n",
       "      <td>0.967861</td>\n",
       "      <td>-0.190525</td>\n",
       "    </tr>\n",
       "    <tr>\n",
       "      <th>9</th>\n",
       "      <td>(whole milk)</td>\n",
       "      <td>(yogurt)</td>\n",
       "      <td>0.157923</td>\n",
       "      <td>0.085879</td>\n",
       "      <td>0.011161</td>\n",
       "      <td>0.070673</td>\n",
       "      <td>0.822940</td>\n",
       "      <td>-0.002401</td>\n",
       "      <td>0.983638</td>\n",
       "      <td>-0.203508</td>\n",
       "    </tr>\n",
       "    <tr>\n",
       "      <th>0</th>\n",
       "      <td>(other vegetables)</td>\n",
       "      <td>(rolls/buns)</td>\n",
       "      <td>0.122101</td>\n",
       "      <td>0.110005</td>\n",
       "      <td>0.010559</td>\n",
       "      <td>0.086481</td>\n",
       "      <td>0.786154</td>\n",
       "      <td>-0.002872</td>\n",
       "      <td>0.974249</td>\n",
       "      <td>-0.236553</td>\n",
       "    </tr>\n",
       "    <tr>\n",
       "      <th>1</th>\n",
       "      <td>(rolls/buns)</td>\n",
       "      <td>(other vegetables)</td>\n",
       "      <td>0.110005</td>\n",
       "      <td>0.122101</td>\n",
       "      <td>0.010559</td>\n",
       "      <td>0.095990</td>\n",
       "      <td>0.786154</td>\n",
       "      <td>-0.002872</td>\n",
       "      <td>0.971117</td>\n",
       "      <td>-0.234091</td>\n",
       "    </tr>\n",
       "  </tbody>\n",
       "</table>\n",
       "</div>"
      ],
      "text/plain": [
       "          antecedents         consequents  antecedent support  \\\n",
       "2  (other vegetables)        (whole milk)            0.122101   \n",
       "3        (whole milk)  (other vegetables)            0.157923   \n",
       "4        (rolls/buns)        (whole milk)            0.110005   \n",
       "5        (whole milk)        (rolls/buns)            0.157923   \n",
       "6              (soda)        (whole milk)            0.097106   \n",
       "7        (whole milk)              (soda)            0.157923   \n",
       "8            (yogurt)        (whole milk)            0.085879   \n",
       "9        (whole milk)            (yogurt)            0.157923   \n",
       "0  (other vegetables)        (rolls/buns)            0.122101   \n",
       "1        (rolls/buns)  (other vegetables)            0.110005   \n",
       "\n",
       "   consequent support   support  confidence      lift  leverage  conviction  \\\n",
       "2            0.157923  0.014837    0.121511  0.769430 -0.004446    0.958551   \n",
       "3            0.122101  0.014837    0.093948  0.769430 -0.004446    0.968928   \n",
       "4            0.157923  0.013968    0.126974  0.804028 -0.003404    0.964550   \n",
       "5            0.110005  0.013968    0.088447  0.804028 -0.003404    0.976350   \n",
       "6            0.157923  0.011629    0.119752  0.758296 -0.003707    0.956636   \n",
       "7            0.097106  0.011629    0.073635  0.758296 -0.003707    0.974663   \n",
       "8            0.157923  0.011161    0.129961  0.822940 -0.002401    0.967861   \n",
       "9            0.085879  0.011161    0.070673  0.822940 -0.002401    0.983638   \n",
       "0            0.110005  0.010559    0.086481  0.786154 -0.002872    0.974249   \n",
       "1            0.122101  0.010559    0.095990  0.786154 -0.002872    0.971117   \n",
       "\n",
       "   zhangs_metric  \n",
       "2      -0.254477  \n",
       "3      -0.262461  \n",
       "4      -0.214986  \n",
       "5      -0.224474  \n",
       "6      -0.260917  \n",
       "7      -0.274587  \n",
       "8      -0.190525  \n",
       "9      -0.203508  \n",
       "0      -0.236553  \n",
       "1      -0.234091  "
      ]
     },
     "execution_count": 73,
     "metadata": {},
     "output_type": "execute_result"
    }
   ],
   "source": [
    "#re-arranging the mba dataframe based on the support\n",
    "mba.sort_values(by='support', ascending =False)"
   ]
  },
  {
   "cell_type": "code",
   "execution_count": 74,
   "id": "3892d56c",
   "metadata": {},
   "outputs": [
    {
     "data": {
      "text/html": [
       "<div>\n",
       "<style scoped>\n",
       "    .dataframe tbody tr th:only-of-type {\n",
       "        vertical-align: middle;\n",
       "    }\n",
       "\n",
       "    .dataframe tbody tr th {\n",
       "        vertical-align: top;\n",
       "    }\n",
       "\n",
       "    .dataframe thead th {\n",
       "        text-align: right;\n",
       "    }\n",
       "</style>\n",
       "<table border=\"1\" class=\"dataframe\">\n",
       "  <thead>\n",
       "    <tr style=\"text-align: right;\">\n",
       "      <th></th>\n",
       "      <th>antecedents</th>\n",
       "      <th>consequents</th>\n",
       "      <th>antecedent support</th>\n",
       "      <th>consequent support</th>\n",
       "      <th>support</th>\n",
       "      <th>confidence</th>\n",
       "      <th>lift</th>\n",
       "      <th>leverage</th>\n",
       "      <th>conviction</th>\n",
       "      <th>zhangs_metric</th>\n",
       "    </tr>\n",
       "  </thead>\n",
       "  <tbody>\n",
       "    <tr>\n",
       "      <th>0</th>\n",
       "      <td>other vegetables</td>\n",
       "      <td>rolls/buns</td>\n",
       "      <td>0.122101</td>\n",
       "      <td>0.110005</td>\n",
       "      <td>0.010559</td>\n",
       "      <td>0.086481</td>\n",
       "      <td>0.786154</td>\n",
       "      <td>-0.002872</td>\n",
       "      <td>0.974249</td>\n",
       "      <td>-0.236553</td>\n",
       "    </tr>\n",
       "    <tr>\n",
       "      <th>1</th>\n",
       "      <td>rolls/buns</td>\n",
       "      <td>other vegetables</td>\n",
       "      <td>0.110005</td>\n",
       "      <td>0.122101</td>\n",
       "      <td>0.010559</td>\n",
       "      <td>0.095990</td>\n",
       "      <td>0.786154</td>\n",
       "      <td>-0.002872</td>\n",
       "      <td>0.971117</td>\n",
       "      <td>-0.234091</td>\n",
       "    </tr>\n",
       "    <tr>\n",
       "      <th>2</th>\n",
       "      <td>other vegetables</td>\n",
       "      <td>whole milk</td>\n",
       "      <td>0.122101</td>\n",
       "      <td>0.157923</td>\n",
       "      <td>0.014837</td>\n",
       "      <td>0.121511</td>\n",
       "      <td>0.769430</td>\n",
       "      <td>-0.004446</td>\n",
       "      <td>0.958551</td>\n",
       "      <td>-0.254477</td>\n",
       "    </tr>\n",
       "    <tr>\n",
       "      <th>3</th>\n",
       "      <td>whole milk</td>\n",
       "      <td>other vegetables</td>\n",
       "      <td>0.157923</td>\n",
       "      <td>0.122101</td>\n",
       "      <td>0.014837</td>\n",
       "      <td>0.093948</td>\n",
       "      <td>0.769430</td>\n",
       "      <td>-0.004446</td>\n",
       "      <td>0.968928</td>\n",
       "      <td>-0.262461</td>\n",
       "    </tr>\n",
       "    <tr>\n",
       "      <th>4</th>\n",
       "      <td>rolls/buns</td>\n",
       "      <td>whole milk</td>\n",
       "      <td>0.110005</td>\n",
       "      <td>0.157923</td>\n",
       "      <td>0.013968</td>\n",
       "      <td>0.126974</td>\n",
       "      <td>0.804028</td>\n",
       "      <td>-0.003404</td>\n",
       "      <td>0.964550</td>\n",
       "      <td>-0.214986</td>\n",
       "    </tr>\n",
       "  </tbody>\n",
       "</table>\n",
       "</div>"
      ],
      "text/plain": [
       "        antecedents       consequents  antecedent support  consequent support  \\\n",
       "0  other vegetables        rolls/buns            0.122101            0.110005   \n",
       "1        rolls/buns  other vegetables            0.110005            0.122101   \n",
       "2  other vegetables        whole milk            0.122101            0.157923   \n",
       "3        whole milk  other vegetables            0.157923            0.122101   \n",
       "4        rolls/buns        whole milk            0.110005            0.157923   \n",
       "\n",
       "    support  confidence      lift  leverage  conviction  zhangs_metric  \n",
       "0  0.010559    0.086481  0.786154 -0.002872    0.974249      -0.236553  \n",
       "1  0.010559    0.095990  0.786154 -0.002872    0.971117      -0.234091  \n",
       "2  0.014837    0.121511  0.769430 -0.004446    0.958551      -0.254477  \n",
       "3  0.014837    0.093948  0.769430 -0.004446    0.968928      -0.262461  \n",
       "4  0.013968    0.126974  0.804028 -0.003404    0.964550      -0.214986  "
      ]
     },
     "execution_count": 74,
     "metadata": {},
     "output_type": "execute_result"
    }
   ],
   "source": [
    "# remove the parentheses in the antecedents and consequents columns\n",
    "mba['antecedents'] = mba['antecedents'].apply(lambda a: ', '.join(list(a)))\n",
    "mba['consequents'] = mba['consequents'].apply(lambda a: ', '.join(list(a)))\n",
    "mba.head()"
   ]
  },
  {
   "cell_type": "code",
   "execution_count": 75,
   "id": "1ca1bb78",
   "metadata": {},
   "outputs": [
    {
     "name": "stderr",
     "output_type": "stream",
     "text": [
      "C:\\Users\\Richard\\anaconda3\\lib\\site-packages\\plotly\\io\\_renderers.py:396: DeprecationWarning:\n",
      "\n",
      "distutils Version classes are deprecated. Use packaging.version instead.\n",
      "\n",
      "C:\\Users\\Richard\\anaconda3\\lib\\site-packages\\plotly\\io\\_renderers.py:396: DeprecationWarning:\n",
      "\n",
      "distutils Version classes are deprecated. Use packaging.version instead.\n",
      "\n"
     ]
    },
    {
     "data": {
      "application/vnd.plotly.v1+json": {
       "config": {
        "plotlyServerURL": "https://plot.ly"
       },
       "data": [
        {
         "coloraxis": "coloraxis",
         "histfunc": "sum",
         "hovertemplate": "consequents=%{x}<br>antecedents=%{y}<br>sum of lift=%{z}<extra></extra>",
         "name": "",
         "type": "histogram2d",
         "x": [
          "rolls/buns",
          "other vegetables",
          "whole milk",
          "other vegetables",
          "whole milk",
          "rolls/buns",
          "whole milk",
          "soda",
          "whole milk",
          "yogurt"
         ],
         "xaxis": "x",
         "xbingroup": "x",
         "y": [
          "other vegetables",
          "rolls/buns",
          "other vegetables",
          "whole milk",
          "rolls/buns",
          "whole milk",
          "soda",
          "whole milk",
          "yogurt",
          "whole milk"
         ],
         "yaxis": "y",
         "ybingroup": "y",
         "z": [
          0.7861535586427698,
          0.7861535586427697,
          0.7694304712706219,
          0.7694304712706218,
          0.8040284376030019,
          0.8040284376030019,
          0.7582956912879478,
          0.7582956912879478,
          0.8229402378760758,
          0.8229402378760758
         ]
        }
       ],
       "layout": {
        "coloraxis": {
         "colorbar": {
          "title": {
           "text": "sum of lift"
          }
         },
         "colorscale": [
          [
           0,
           "white"
          ],
          [
           0.5,
           "blue"
          ],
          [
           1,
           "green"
          ]
         ]
        },
        "legend": {
         "tracegroupgap": 0
        },
        "template": {
         "data": {
          "bar": [
           {
            "error_x": {
             "color": "#2a3f5f"
            },
            "error_y": {
             "color": "#2a3f5f"
            },
            "marker": {
             "line": {
              "color": "#E5ECF6",
              "width": 0.5
             },
             "pattern": {
              "fillmode": "overlay",
              "size": 10,
              "solidity": 0.2
             }
            },
            "type": "bar"
           }
          ],
          "barpolar": [
           {
            "marker": {
             "line": {
              "color": "#E5ECF6",
              "width": 0.5
             },
             "pattern": {
              "fillmode": "overlay",
              "size": 10,
              "solidity": 0.2
             }
            },
            "type": "barpolar"
           }
          ],
          "carpet": [
           {
            "aaxis": {
             "endlinecolor": "#2a3f5f",
             "gridcolor": "white",
             "linecolor": "white",
             "minorgridcolor": "white",
             "startlinecolor": "#2a3f5f"
            },
            "baxis": {
             "endlinecolor": "#2a3f5f",
             "gridcolor": "white",
             "linecolor": "white",
             "minorgridcolor": "white",
             "startlinecolor": "#2a3f5f"
            },
            "type": "carpet"
           }
          ],
          "choropleth": [
           {
            "colorbar": {
             "outlinewidth": 0,
             "ticks": ""
            },
            "type": "choropleth"
           }
          ],
          "contour": [
           {
            "colorbar": {
             "outlinewidth": 0,
             "ticks": ""
            },
            "colorscale": [
             [
              0,
              "#0d0887"
             ],
             [
              0.1111111111111111,
              "#46039f"
             ],
             [
              0.2222222222222222,
              "#7201a8"
             ],
             [
              0.3333333333333333,
              "#9c179e"
             ],
             [
              0.4444444444444444,
              "#bd3786"
             ],
             [
              0.5555555555555556,
              "#d8576b"
             ],
             [
              0.6666666666666666,
              "#ed7953"
             ],
             [
              0.7777777777777778,
              "#fb9f3a"
             ],
             [
              0.8888888888888888,
              "#fdca26"
             ],
             [
              1,
              "#f0f921"
             ]
            ],
            "type": "contour"
           }
          ],
          "contourcarpet": [
           {
            "colorbar": {
             "outlinewidth": 0,
             "ticks": ""
            },
            "type": "contourcarpet"
           }
          ],
          "heatmap": [
           {
            "colorbar": {
             "outlinewidth": 0,
             "ticks": ""
            },
            "colorscale": [
             [
              0,
              "#0d0887"
             ],
             [
              0.1111111111111111,
              "#46039f"
             ],
             [
              0.2222222222222222,
              "#7201a8"
             ],
             [
              0.3333333333333333,
              "#9c179e"
             ],
             [
              0.4444444444444444,
              "#bd3786"
             ],
             [
              0.5555555555555556,
              "#d8576b"
             ],
             [
              0.6666666666666666,
              "#ed7953"
             ],
             [
              0.7777777777777778,
              "#fb9f3a"
             ],
             [
              0.8888888888888888,
              "#fdca26"
             ],
             [
              1,
              "#f0f921"
             ]
            ],
            "type": "heatmap"
           }
          ],
          "heatmapgl": [
           {
            "colorbar": {
             "outlinewidth": 0,
             "ticks": ""
            },
            "colorscale": [
             [
              0,
              "#0d0887"
             ],
             [
              0.1111111111111111,
              "#46039f"
             ],
             [
              0.2222222222222222,
              "#7201a8"
             ],
             [
              0.3333333333333333,
              "#9c179e"
             ],
             [
              0.4444444444444444,
              "#bd3786"
             ],
             [
              0.5555555555555556,
              "#d8576b"
             ],
             [
              0.6666666666666666,
              "#ed7953"
             ],
             [
              0.7777777777777778,
              "#fb9f3a"
             ],
             [
              0.8888888888888888,
              "#fdca26"
             ],
             [
              1,
              "#f0f921"
             ]
            ],
            "type": "heatmapgl"
           }
          ],
          "histogram": [
           {
            "marker": {
             "pattern": {
              "fillmode": "overlay",
              "size": 10,
              "solidity": 0.2
             }
            },
            "type": "histogram"
           }
          ],
          "histogram2d": [
           {
            "colorbar": {
             "outlinewidth": 0,
             "ticks": ""
            },
            "colorscale": [
             [
              0,
              "#0d0887"
             ],
             [
              0.1111111111111111,
              "#46039f"
             ],
             [
              0.2222222222222222,
              "#7201a8"
             ],
             [
              0.3333333333333333,
              "#9c179e"
             ],
             [
              0.4444444444444444,
              "#bd3786"
             ],
             [
              0.5555555555555556,
              "#d8576b"
             ],
             [
              0.6666666666666666,
              "#ed7953"
             ],
             [
              0.7777777777777778,
              "#fb9f3a"
             ],
             [
              0.8888888888888888,
              "#fdca26"
             ],
             [
              1,
              "#f0f921"
             ]
            ],
            "type": "histogram2d"
           }
          ],
          "histogram2dcontour": [
           {
            "colorbar": {
             "outlinewidth": 0,
             "ticks": ""
            },
            "colorscale": [
             [
              0,
              "#0d0887"
             ],
             [
              0.1111111111111111,
              "#46039f"
             ],
             [
              0.2222222222222222,
              "#7201a8"
             ],
             [
              0.3333333333333333,
              "#9c179e"
             ],
             [
              0.4444444444444444,
              "#bd3786"
             ],
             [
              0.5555555555555556,
              "#d8576b"
             ],
             [
              0.6666666666666666,
              "#ed7953"
             ],
             [
              0.7777777777777778,
              "#fb9f3a"
             ],
             [
              0.8888888888888888,
              "#fdca26"
             ],
             [
              1,
              "#f0f921"
             ]
            ],
            "type": "histogram2dcontour"
           }
          ],
          "mesh3d": [
           {
            "colorbar": {
             "outlinewidth": 0,
             "ticks": ""
            },
            "type": "mesh3d"
           }
          ],
          "parcoords": [
           {
            "line": {
             "colorbar": {
              "outlinewidth": 0,
              "ticks": ""
             }
            },
            "type": "parcoords"
           }
          ],
          "pie": [
           {
            "automargin": true,
            "type": "pie"
           }
          ],
          "scatter": [
           {
            "marker": {
             "colorbar": {
              "outlinewidth": 0,
              "ticks": ""
             }
            },
            "type": "scatter"
           }
          ],
          "scatter3d": [
           {
            "line": {
             "colorbar": {
              "outlinewidth": 0,
              "ticks": ""
             }
            },
            "marker": {
             "colorbar": {
              "outlinewidth": 0,
              "ticks": ""
             }
            },
            "type": "scatter3d"
           }
          ],
          "scattercarpet": [
           {
            "marker": {
             "colorbar": {
              "outlinewidth": 0,
              "ticks": ""
             }
            },
            "type": "scattercarpet"
           }
          ],
          "scattergeo": [
           {
            "marker": {
             "colorbar": {
              "outlinewidth": 0,
              "ticks": ""
             }
            },
            "type": "scattergeo"
           }
          ],
          "scattergl": [
           {
            "marker": {
             "colorbar": {
              "outlinewidth": 0,
              "ticks": ""
             }
            },
            "type": "scattergl"
           }
          ],
          "scattermapbox": [
           {
            "marker": {
             "colorbar": {
              "outlinewidth": 0,
              "ticks": ""
             }
            },
            "type": "scattermapbox"
           }
          ],
          "scatterpolar": [
           {
            "marker": {
             "colorbar": {
              "outlinewidth": 0,
              "ticks": ""
             }
            },
            "type": "scatterpolar"
           }
          ],
          "scatterpolargl": [
           {
            "marker": {
             "colorbar": {
              "outlinewidth": 0,
              "ticks": ""
             }
            },
            "type": "scatterpolargl"
           }
          ],
          "scatterternary": [
           {
            "marker": {
             "colorbar": {
              "outlinewidth": 0,
              "ticks": ""
             }
            },
            "type": "scatterternary"
           }
          ],
          "surface": [
           {
            "colorbar": {
             "outlinewidth": 0,
             "ticks": ""
            },
            "colorscale": [
             [
              0,
              "#0d0887"
             ],
             [
              0.1111111111111111,
              "#46039f"
             ],
             [
              0.2222222222222222,
              "#7201a8"
             ],
             [
              0.3333333333333333,
              "#9c179e"
             ],
             [
              0.4444444444444444,
              "#bd3786"
             ],
             [
              0.5555555555555556,
              "#d8576b"
             ],
             [
              0.6666666666666666,
              "#ed7953"
             ],
             [
              0.7777777777777778,
              "#fb9f3a"
             ],
             [
              0.8888888888888888,
              "#fdca26"
             ],
             [
              1,
              "#f0f921"
             ]
            ],
            "type": "surface"
           }
          ],
          "table": [
           {
            "cells": {
             "fill": {
              "color": "#EBF0F8"
             },
             "line": {
              "color": "white"
             }
            },
            "header": {
             "fill": {
              "color": "#C8D4E3"
             },
             "line": {
              "color": "white"
             }
            },
            "type": "table"
           }
          ]
         },
         "layout": {
          "annotationdefaults": {
           "arrowcolor": "#2a3f5f",
           "arrowhead": 0,
           "arrowwidth": 1
          },
          "autotypenumbers": "strict",
          "coloraxis": {
           "colorbar": {
            "outlinewidth": 0,
            "ticks": ""
           }
          },
          "colorscale": {
           "diverging": [
            [
             0,
             "#8e0152"
            ],
            [
             0.1,
             "#c51b7d"
            ],
            [
             0.2,
             "#de77ae"
            ],
            [
             0.3,
             "#f1b6da"
            ],
            [
             0.4,
             "#fde0ef"
            ],
            [
             0.5,
             "#f7f7f7"
            ],
            [
             0.6,
             "#e6f5d0"
            ],
            [
             0.7,
             "#b8e186"
            ],
            [
             0.8,
             "#7fbc41"
            ],
            [
             0.9,
             "#4d9221"
            ],
            [
             1,
             "#276419"
            ]
           ],
           "sequential": [
            [
             0,
             "#0d0887"
            ],
            [
             0.1111111111111111,
             "#46039f"
            ],
            [
             0.2222222222222222,
             "#7201a8"
            ],
            [
             0.3333333333333333,
             "#9c179e"
            ],
            [
             0.4444444444444444,
             "#bd3786"
            ],
            [
             0.5555555555555556,
             "#d8576b"
            ],
            [
             0.6666666666666666,
             "#ed7953"
            ],
            [
             0.7777777777777778,
             "#fb9f3a"
            ],
            [
             0.8888888888888888,
             "#fdca26"
            ],
            [
             1,
             "#f0f921"
            ]
           ],
           "sequentialminus": [
            [
             0,
             "#0d0887"
            ],
            [
             0.1111111111111111,
             "#46039f"
            ],
            [
             0.2222222222222222,
             "#7201a8"
            ],
            [
             0.3333333333333333,
             "#9c179e"
            ],
            [
             0.4444444444444444,
             "#bd3786"
            ],
            [
             0.5555555555555556,
             "#d8576b"
            ],
            [
             0.6666666666666666,
             "#ed7953"
            ],
            [
             0.7777777777777778,
             "#fb9f3a"
            ],
            [
             0.8888888888888888,
             "#fdca26"
            ],
            [
             1,
             "#f0f921"
            ]
           ]
          },
          "colorway": [
           "#636efa",
           "#EF553B",
           "#00cc96",
           "#ab63fa",
           "#FFA15A",
           "#19d3f3",
           "#FF6692",
           "#B6E880",
           "#FF97FF",
           "#FECB52"
          ],
          "font": {
           "color": "#2a3f5f"
          },
          "geo": {
           "bgcolor": "white",
           "lakecolor": "white",
           "landcolor": "#E5ECF6",
           "showlakes": true,
           "showland": true,
           "subunitcolor": "white"
          },
          "hoverlabel": {
           "align": "left"
          },
          "hovermode": "closest",
          "mapbox": {
           "style": "light"
          },
          "paper_bgcolor": "white",
          "plot_bgcolor": "#E5ECF6",
          "polar": {
           "angularaxis": {
            "gridcolor": "white",
            "linecolor": "white",
            "ticks": ""
           },
           "bgcolor": "#E5ECF6",
           "radialaxis": {
            "gridcolor": "white",
            "linecolor": "white",
            "ticks": ""
           }
          },
          "scene": {
           "xaxis": {
            "backgroundcolor": "#E5ECF6",
            "gridcolor": "white",
            "gridwidth": 2,
            "linecolor": "white",
            "showbackground": true,
            "ticks": "",
            "zerolinecolor": "white"
           },
           "yaxis": {
            "backgroundcolor": "#E5ECF6",
            "gridcolor": "white",
            "gridwidth": 2,
            "linecolor": "white",
            "showbackground": true,
            "ticks": "",
            "zerolinecolor": "white"
           },
           "zaxis": {
            "backgroundcolor": "#E5ECF6",
            "gridcolor": "white",
            "gridwidth": 2,
            "linecolor": "white",
            "showbackground": true,
            "ticks": "",
            "zerolinecolor": "white"
           }
          },
          "shapedefaults": {
           "line": {
            "color": "#2a3f5f"
           }
          },
          "ternary": {
           "aaxis": {
            "gridcolor": "white",
            "linecolor": "white",
            "ticks": ""
           },
           "baxis": {
            "gridcolor": "white",
            "linecolor": "white",
            "ticks": ""
           },
           "bgcolor": "#E5ECF6",
           "caxis": {
            "gridcolor": "white",
            "linecolor": "white",
            "ticks": ""
           }
          },
          "title": {
           "x": 0.05
          },
          "xaxis": {
           "automargin": true,
           "gridcolor": "white",
           "linecolor": "white",
           "ticks": "",
           "title": {
            "standoff": 15
           },
           "zerolinecolor": "white",
           "zerolinewidth": 2
          },
          "yaxis": {
           "automargin": true,
           "gridcolor": "white",
           "linecolor": "white",
           "ticks": "",
           "title": {
            "standoff": 15
           },
           "zerolinecolor": "white",
           "zerolinewidth": 2
          }
         }
        },
        "title": {
         "text": "Lift of Association",
         "x": 0.5,
         "y": 0.86
        },
        "xaxis": {
         "anchor": "y",
         "domain": [
          0,
          1
         ],
         "title": {
          "text": "consequents"
         }
        },
        "yaxis": {
         "anchor": "x",
         "domain": [
          0,
          1
         ],
         "title": {
          "text": "antecedents"
         }
        }
       }
      },
      "text/html": [
       "<div>                            <div id=\"8d6741ca-9d37-40a1-ae8d-9d8b213455aa\" class=\"plotly-graph-div\" style=\"height:525px; width:100%;\"></div>            <script type=\"text/javascript\">                require([\"plotly\"], function(Plotly) {                    window.PLOTLYENV=window.PLOTLYENV || {};                                    if (document.getElementById(\"8d6741ca-9d37-40a1-ae8d-9d8b213455aa\")) {                    Plotly.newPlot(                        \"8d6741ca-9d37-40a1-ae8d-9d8b213455aa\",                        [{\"coloraxis\":\"coloraxis\",\"histfunc\":\"sum\",\"hovertemplate\":\"consequents=%{x}<br>antecedents=%{y}<br>sum of lift=%{z}<extra></extra>\",\"name\":\"\",\"x\":[\"rolls/buns\",\"other vegetables\",\"whole milk\",\"other vegetables\",\"whole milk\",\"rolls/buns\",\"whole milk\",\"soda\",\"whole milk\",\"yogurt\"],\"xaxis\":\"x\",\"xbingroup\":\"x\",\"y\":[\"other vegetables\",\"rolls/buns\",\"other vegetables\",\"whole milk\",\"rolls/buns\",\"whole milk\",\"soda\",\"whole milk\",\"yogurt\",\"whole milk\"],\"yaxis\":\"y\",\"ybingroup\":\"y\",\"z\":[0.7861535586427698,0.7861535586427697,0.7694304712706219,0.7694304712706218,0.8040284376030019,0.8040284376030019,0.7582956912879478,0.7582956912879478,0.8229402378760758,0.8229402378760758],\"type\":\"histogram2d\"}],                        {\"template\":{\"data\":{\"bar\":[{\"error_x\":{\"color\":\"#2a3f5f\"},\"error_y\":{\"color\":\"#2a3f5f\"},\"marker\":{\"line\":{\"color\":\"#E5ECF6\",\"width\":0.5},\"pattern\":{\"fillmode\":\"overlay\",\"size\":10,\"solidity\":0.2}},\"type\":\"bar\"}],\"barpolar\":[{\"marker\":{\"line\":{\"color\":\"#E5ECF6\",\"width\":0.5},\"pattern\":{\"fillmode\":\"overlay\",\"size\":10,\"solidity\":0.2}},\"type\":\"barpolar\"}],\"carpet\":[{\"aaxis\":{\"endlinecolor\":\"#2a3f5f\",\"gridcolor\":\"white\",\"linecolor\":\"white\",\"minorgridcolor\":\"white\",\"startlinecolor\":\"#2a3f5f\"},\"baxis\":{\"endlinecolor\":\"#2a3f5f\",\"gridcolor\":\"white\",\"linecolor\":\"white\",\"minorgridcolor\":\"white\",\"startlinecolor\":\"#2a3f5f\"},\"type\":\"carpet\"}],\"choropleth\":[{\"colorbar\":{\"outlinewidth\":0,\"ticks\":\"\"},\"type\":\"choropleth\"}],\"contour\":[{\"colorbar\":{\"outlinewidth\":0,\"ticks\":\"\"},\"colorscale\":[[0.0,\"#0d0887\"],[0.1111111111111111,\"#46039f\"],[0.2222222222222222,\"#7201a8\"],[0.3333333333333333,\"#9c179e\"],[0.4444444444444444,\"#bd3786\"],[0.5555555555555556,\"#d8576b\"],[0.6666666666666666,\"#ed7953\"],[0.7777777777777778,\"#fb9f3a\"],[0.8888888888888888,\"#fdca26\"],[1.0,\"#f0f921\"]],\"type\":\"contour\"}],\"contourcarpet\":[{\"colorbar\":{\"outlinewidth\":0,\"ticks\":\"\"},\"type\":\"contourcarpet\"}],\"heatmap\":[{\"colorbar\":{\"outlinewidth\":0,\"ticks\":\"\"},\"colorscale\":[[0.0,\"#0d0887\"],[0.1111111111111111,\"#46039f\"],[0.2222222222222222,\"#7201a8\"],[0.3333333333333333,\"#9c179e\"],[0.4444444444444444,\"#bd3786\"],[0.5555555555555556,\"#d8576b\"],[0.6666666666666666,\"#ed7953\"],[0.7777777777777778,\"#fb9f3a\"],[0.8888888888888888,\"#fdca26\"],[1.0,\"#f0f921\"]],\"type\":\"heatmap\"}],\"heatmapgl\":[{\"colorbar\":{\"outlinewidth\":0,\"ticks\":\"\"},\"colorscale\":[[0.0,\"#0d0887\"],[0.1111111111111111,\"#46039f\"],[0.2222222222222222,\"#7201a8\"],[0.3333333333333333,\"#9c179e\"],[0.4444444444444444,\"#bd3786\"],[0.5555555555555556,\"#d8576b\"],[0.6666666666666666,\"#ed7953\"],[0.7777777777777778,\"#fb9f3a\"],[0.8888888888888888,\"#fdca26\"],[1.0,\"#f0f921\"]],\"type\":\"heatmapgl\"}],\"histogram\":[{\"marker\":{\"pattern\":{\"fillmode\":\"overlay\",\"size\":10,\"solidity\":0.2}},\"type\":\"histogram\"}],\"histogram2d\":[{\"colorbar\":{\"outlinewidth\":0,\"ticks\":\"\"},\"colorscale\":[[0.0,\"#0d0887\"],[0.1111111111111111,\"#46039f\"],[0.2222222222222222,\"#7201a8\"],[0.3333333333333333,\"#9c179e\"],[0.4444444444444444,\"#bd3786\"],[0.5555555555555556,\"#d8576b\"],[0.6666666666666666,\"#ed7953\"],[0.7777777777777778,\"#fb9f3a\"],[0.8888888888888888,\"#fdca26\"],[1.0,\"#f0f921\"]],\"type\":\"histogram2d\"}],\"histogram2dcontour\":[{\"colorbar\":{\"outlinewidth\":0,\"ticks\":\"\"},\"colorscale\":[[0.0,\"#0d0887\"],[0.1111111111111111,\"#46039f\"],[0.2222222222222222,\"#7201a8\"],[0.3333333333333333,\"#9c179e\"],[0.4444444444444444,\"#bd3786\"],[0.5555555555555556,\"#d8576b\"],[0.6666666666666666,\"#ed7953\"],[0.7777777777777778,\"#fb9f3a\"],[0.8888888888888888,\"#fdca26\"],[1.0,\"#f0f921\"]],\"type\":\"histogram2dcontour\"}],\"mesh3d\":[{\"colorbar\":{\"outlinewidth\":0,\"ticks\":\"\"},\"type\":\"mesh3d\"}],\"parcoords\":[{\"line\":{\"colorbar\":{\"outlinewidth\":0,\"ticks\":\"\"}},\"type\":\"parcoords\"}],\"pie\":[{\"automargin\":true,\"type\":\"pie\"}],\"scatter\":[{\"marker\":{\"colorbar\":{\"outlinewidth\":0,\"ticks\":\"\"}},\"type\":\"scatter\"}],\"scatter3d\":[{\"line\":{\"colorbar\":{\"outlinewidth\":0,\"ticks\":\"\"}},\"marker\":{\"colorbar\":{\"outlinewidth\":0,\"ticks\":\"\"}},\"type\":\"scatter3d\"}],\"scattercarpet\":[{\"marker\":{\"colorbar\":{\"outlinewidth\":0,\"ticks\":\"\"}},\"type\":\"scattercarpet\"}],\"scattergeo\":[{\"marker\":{\"colorbar\":{\"outlinewidth\":0,\"ticks\":\"\"}},\"type\":\"scattergeo\"}],\"scattergl\":[{\"marker\":{\"colorbar\":{\"outlinewidth\":0,\"ticks\":\"\"}},\"type\":\"scattergl\"}],\"scattermapbox\":[{\"marker\":{\"colorbar\":{\"outlinewidth\":0,\"ticks\":\"\"}},\"type\":\"scattermapbox\"}],\"scatterpolar\":[{\"marker\":{\"colorbar\":{\"outlinewidth\":0,\"ticks\":\"\"}},\"type\":\"scatterpolar\"}],\"scatterpolargl\":[{\"marker\":{\"colorbar\":{\"outlinewidth\":0,\"ticks\":\"\"}},\"type\":\"scatterpolargl\"}],\"scatterternary\":[{\"marker\":{\"colorbar\":{\"outlinewidth\":0,\"ticks\":\"\"}},\"type\":\"scatterternary\"}],\"surface\":[{\"colorbar\":{\"outlinewidth\":0,\"ticks\":\"\"},\"colorscale\":[[0.0,\"#0d0887\"],[0.1111111111111111,\"#46039f\"],[0.2222222222222222,\"#7201a8\"],[0.3333333333333333,\"#9c179e\"],[0.4444444444444444,\"#bd3786\"],[0.5555555555555556,\"#d8576b\"],[0.6666666666666666,\"#ed7953\"],[0.7777777777777778,\"#fb9f3a\"],[0.8888888888888888,\"#fdca26\"],[1.0,\"#f0f921\"]],\"type\":\"surface\"}],\"table\":[{\"cells\":{\"fill\":{\"color\":\"#EBF0F8\"},\"line\":{\"color\":\"white\"}},\"header\":{\"fill\":{\"color\":\"#C8D4E3\"},\"line\":{\"color\":\"white\"}},\"type\":\"table\"}]},\"layout\":{\"annotationdefaults\":{\"arrowcolor\":\"#2a3f5f\",\"arrowhead\":0,\"arrowwidth\":1},\"autotypenumbers\":\"strict\",\"coloraxis\":{\"colorbar\":{\"outlinewidth\":0,\"ticks\":\"\"}},\"colorscale\":{\"diverging\":[[0,\"#8e0152\"],[0.1,\"#c51b7d\"],[0.2,\"#de77ae\"],[0.3,\"#f1b6da\"],[0.4,\"#fde0ef\"],[0.5,\"#f7f7f7\"],[0.6,\"#e6f5d0\"],[0.7,\"#b8e186\"],[0.8,\"#7fbc41\"],[0.9,\"#4d9221\"],[1,\"#276419\"]],\"sequential\":[[0.0,\"#0d0887\"],[0.1111111111111111,\"#46039f\"],[0.2222222222222222,\"#7201a8\"],[0.3333333333333333,\"#9c179e\"],[0.4444444444444444,\"#bd3786\"],[0.5555555555555556,\"#d8576b\"],[0.6666666666666666,\"#ed7953\"],[0.7777777777777778,\"#fb9f3a\"],[0.8888888888888888,\"#fdca26\"],[1.0,\"#f0f921\"]],\"sequentialminus\":[[0.0,\"#0d0887\"],[0.1111111111111111,\"#46039f\"],[0.2222222222222222,\"#7201a8\"],[0.3333333333333333,\"#9c179e\"],[0.4444444444444444,\"#bd3786\"],[0.5555555555555556,\"#d8576b\"],[0.6666666666666666,\"#ed7953\"],[0.7777777777777778,\"#fb9f3a\"],[0.8888888888888888,\"#fdca26\"],[1.0,\"#f0f921\"]]},\"colorway\":[\"#636efa\",\"#EF553B\",\"#00cc96\",\"#ab63fa\",\"#FFA15A\",\"#19d3f3\",\"#FF6692\",\"#B6E880\",\"#FF97FF\",\"#FECB52\"],\"font\":{\"color\":\"#2a3f5f\"},\"geo\":{\"bgcolor\":\"white\",\"lakecolor\":\"white\",\"landcolor\":\"#E5ECF6\",\"showlakes\":true,\"showland\":true,\"subunitcolor\":\"white\"},\"hoverlabel\":{\"align\":\"left\"},\"hovermode\":\"closest\",\"mapbox\":{\"style\":\"light\"},\"paper_bgcolor\":\"white\",\"plot_bgcolor\":\"#E5ECF6\",\"polar\":{\"angularaxis\":{\"gridcolor\":\"white\",\"linecolor\":\"white\",\"ticks\":\"\"},\"bgcolor\":\"#E5ECF6\",\"radialaxis\":{\"gridcolor\":\"white\",\"linecolor\":\"white\",\"ticks\":\"\"}},\"scene\":{\"xaxis\":{\"backgroundcolor\":\"#E5ECF6\",\"gridcolor\":\"white\",\"gridwidth\":2,\"linecolor\":\"white\",\"showbackground\":true,\"ticks\":\"\",\"zerolinecolor\":\"white\"},\"yaxis\":{\"backgroundcolor\":\"#E5ECF6\",\"gridcolor\":\"white\",\"gridwidth\":2,\"linecolor\":\"white\",\"showbackground\":true,\"ticks\":\"\",\"zerolinecolor\":\"white\"},\"zaxis\":{\"backgroundcolor\":\"#E5ECF6\",\"gridcolor\":\"white\",\"gridwidth\":2,\"linecolor\":\"white\",\"showbackground\":true,\"ticks\":\"\",\"zerolinecolor\":\"white\"}},\"shapedefaults\":{\"line\":{\"color\":\"#2a3f5f\"}},\"ternary\":{\"aaxis\":{\"gridcolor\":\"white\",\"linecolor\":\"white\",\"ticks\":\"\"},\"baxis\":{\"gridcolor\":\"white\",\"linecolor\":\"white\",\"ticks\":\"\"},\"bgcolor\":\"#E5ECF6\",\"caxis\":{\"gridcolor\":\"white\",\"linecolor\":\"white\",\"ticks\":\"\"}},\"title\":{\"x\":0.05},\"xaxis\":{\"automargin\":true,\"gridcolor\":\"white\",\"linecolor\":\"white\",\"ticks\":\"\",\"title\":{\"standoff\":15},\"zerolinecolor\":\"white\",\"zerolinewidth\":2},\"yaxis\":{\"automargin\":true,\"gridcolor\":\"white\",\"linecolor\":\"white\",\"ticks\":\"\",\"title\":{\"standoff\":15},\"zerolinecolor\":\"white\",\"zerolinewidth\":2}}},\"xaxis\":{\"anchor\":\"y\",\"domain\":[0.0,1.0],\"title\":{\"text\":\"consequents\"}},\"yaxis\":{\"anchor\":\"x\",\"domain\":[0.0,1.0],\"title\":{\"text\":\"antecedents\"}},\"coloraxis\":{\"colorbar\":{\"title\":{\"text\":\"sum of lift\"}},\"colorscale\":[[0.0,\"white\"],[0.5,\"blue\"],[1.0,\"green\"]]},\"legend\":{\"tracegroupgap\":0},\"title\":{\"text\":\"Lift of Association\",\"x\":0.5,\"y\":0.86}},                        {\"responsive\": true}                    ).then(function(){\n",
       "                            \n",
       "var gd = document.getElementById('8d6741ca-9d37-40a1-ae8d-9d8b213455aa');\n",
       "var x = new MutationObserver(function (mutations, observer) {{\n",
       "        var display = window.getComputedStyle(gd).display;\n",
       "        if (!display || display === 'none') {{\n",
       "            console.log([gd, 'removed!']);\n",
       "            Plotly.purge(gd);\n",
       "            observer.disconnect();\n",
       "        }}\n",
       "}});\n",
       "\n",
       "// Listen for the removal of the full notebook cells\n",
       "var notebookContainer = gd.closest('#notebook-container');\n",
       "if (notebookContainer) {{\n",
       "    x.observe(notebookContainer, {childList: true});\n",
       "}}\n",
       "\n",
       "// Listen for the clearing of the current output cell\n",
       "var outputEl = gd.closest('.output');\n",
       "if (outputEl) {{\n",
       "    x.observe(outputEl, {childList: true});\n",
       "}}\n",
       "\n",
       "                        })                };                });            </script>        </div>"
      ]
     },
     "metadata": {},
     "output_type": "display_data"
    }
   ],
   "source": [
    "px.density_heatmap(data_frame=mba,x='consequents',y='antecedents',z='lift',title='Lift of Association',color_continuous_scale =['white', 'blue', 'green']).update_layout(title_x=0.50,title_y=0.86)"
   ]
  },
  {
   "cell_type": "markdown",
   "id": "3b111d3e",
   "metadata": {},
   "source": [
    "The green tiles shows a strong association rule between the antecedents and the consequents"
   ]
  },
  {
   "cell_type": "code",
   "execution_count": 76,
   "id": "75ccf797",
   "metadata": {},
   "outputs": [
    {
     "data": {
      "text/html": [
       "<div>\n",
       "<style scoped>\n",
       "    .dataframe tbody tr th:only-of-type {\n",
       "        vertical-align: middle;\n",
       "    }\n",
       "\n",
       "    .dataframe tbody tr th {\n",
       "        vertical-align: top;\n",
       "    }\n",
       "\n",
       "    .dataframe thead th {\n",
       "        text-align: right;\n",
       "    }\n",
       "</style>\n",
       "<table border=\"1\" class=\"dataframe\">\n",
       "  <thead>\n",
       "    <tr style=\"text-align: right;\">\n",
       "      <th></th>\n",
       "      <th>association</th>\n",
       "      <th>support</th>\n",
       "    </tr>\n",
       "  </thead>\n",
       "  <tbody>\n",
       "    <tr>\n",
       "      <th>0</th>\n",
       "      <td>other vegetables -&gt; rolls/buns</td>\n",
       "      <td>0.010559</td>\n",
       "    </tr>\n",
       "    <tr>\n",
       "      <th>1</th>\n",
       "      <td>rolls/buns -&gt; other vegetables</td>\n",
       "      <td>0.010559</td>\n",
       "    </tr>\n",
       "    <tr>\n",
       "      <th>2</th>\n",
       "      <td>other vegetables -&gt; whole milk</td>\n",
       "      <td>0.014837</td>\n",
       "    </tr>\n",
       "    <tr>\n",
       "      <th>3</th>\n",
       "      <td>whole milk -&gt; other vegetables</td>\n",
       "      <td>0.014837</td>\n",
       "    </tr>\n",
       "    <tr>\n",
       "      <th>4</th>\n",
       "      <td>rolls/buns -&gt; whole milk</td>\n",
       "      <td>0.013968</td>\n",
       "    </tr>\n",
       "    <tr>\n",
       "      <th>5</th>\n",
       "      <td>whole milk -&gt; rolls/buns</td>\n",
       "      <td>0.013968</td>\n",
       "    </tr>\n",
       "    <tr>\n",
       "      <th>6</th>\n",
       "      <td>soda -&gt; whole milk</td>\n",
       "      <td>0.011629</td>\n",
       "    </tr>\n",
       "    <tr>\n",
       "      <th>7</th>\n",
       "      <td>whole milk -&gt; soda</td>\n",
       "      <td>0.011629</td>\n",
       "    </tr>\n",
       "    <tr>\n",
       "      <th>8</th>\n",
       "      <td>yogurt -&gt; whole milk</td>\n",
       "      <td>0.011161</td>\n",
       "    </tr>\n",
       "    <tr>\n",
       "      <th>9</th>\n",
       "      <td>whole milk -&gt; yogurt</td>\n",
       "      <td>0.011161</td>\n",
       "    </tr>\n",
       "  </tbody>\n",
       "</table>\n",
       "</div>"
      ],
      "text/plain": [
       "                      association   support\n",
       "0  other vegetables -> rolls/buns  0.010559\n",
       "1  rolls/buns -> other vegetables  0.010559\n",
       "2  other vegetables -> whole milk  0.014837\n",
       "3  whole milk -> other vegetables  0.014837\n",
       "4        rolls/buns -> whole milk  0.013968\n",
       "5        whole milk -> rolls/buns  0.013968\n",
       "6              soda -> whole milk  0.011629\n",
       "7              whole milk -> soda  0.011629\n",
       "8            yogurt -> whole milk  0.011161\n",
       "9            whole milk -> yogurt  0.011161"
      ]
     },
     "execution_count": 76,
     "metadata": {},
     "output_type": "execute_result"
    }
   ],
   "source": [
    "d =  pd.DataFrame(mba['antecedents']+' '+'->'+' '+mba['consequents']).rename(columns ={0:'association'})\n",
    "d['support'] = mba['support']\n",
    "d"
   ]
  },
  {
   "cell_type": "code",
   "execution_count": 77,
   "id": "ea61d66a",
   "metadata": {},
   "outputs": [
    {
     "data": {
      "text/plain": [
       "<AxesSubplot:title={'center':'Most Frequent Association'}, xlabel='association'>"
      ]
     },
     "execution_count": 77,
     "metadata": {},
     "output_type": "execute_result"
    },
    {
     "data": {
      "image/png": "[encoded data removed]",
      "text/plain": [
       "<Figure size 432x288 with 1 Axes>"
      ]
     },
     "metadata": {
      "needs_background": "light"
     },
     "output_type": "display_data"
    }
   ],
   "source": [
    "d.sort_values(by='support',ascending=False).plot(kind='bar',y='support',x='association',title='Most Frequent Association')"
   ]
  },
  {
   "cell_type": "markdown",
   "id": "fdf1d87f",
   "metadata": {},
   "source": [
    "The above plot shows the most frequent association of goods. This are the most common products sold togther"
   ]
  },
  {
   "cell_type": "markdown",
   "id": "ce02f194",
   "metadata": {},
   "source": [
    "## 4. Insights "
   ]
  },
  {
   "cell_type": "markdown",
   "id": "35a3106f",
   "metadata": {},
   "source": [
    "####  1. The Top 5 most sold items from the retail stores are:  \n",
    "\n",
    "1. Whole Milk\n",
    "2. Other Vegetables\n",
    "3. Rolls/Buns\n",
    "4. Soda\n",
    "5. Yogurt"
   ]
  },
  {
   "cell_type": "markdown",
   "id": "f15ceaea",
   "metadata": {},
   "source": [
    "#### 2. Top 5 products sold together are: \n",
    "1. Other Vegetables and Whole Milk\n",
    "2. Whole Milk and Other Vegetables\n",
    "3. Rolls/Buns and Whole Milk\n",
    "4. Whole Milk and Soda\n",
    "5. Whole Milk and Yogurt\n"
   ]
  },
  {
   "cell_type": "markdown",
   "id": "1cdb2db9",
   "metadata": {},
   "source": [
    "#### 3.There is a strong connection between Whole Milk and other products i.e Individuals who buy Whole Milk tends to buy the following products:\n",
    "- Other Vegetables\n",
    "- Rolls/Buns\n",
    "- Soda \n",
    "- Yogurt\n"
   ]
  },
  {
   "cell_type": "markdown",
   "id": "1dfdc6f2",
   "metadata": {},
   "source": [
    "#### 4. The Retails Store see a strongs increase in demand for products from March to August"
   ]
  },
  {
   "cell_type": "markdown",
   "id": "4dc99bde",
   "metadata": {},
   "source": [
    "## 4.1 Recommendation "
   ]
  },
  {
   "cell_type": "markdown",
   "id": "a0e9ea3a",
   "metadata": {},
   "source": [
    "- The Strong association products(i.e correlated goods) should be placed near each other to increase sales and improve customer experience & Satisfaction.\n",
    "- Discounted price on consequent products to Whole Milk.\n",
    "- Increase in stock of the top 5 most sold products between the month March and August. \n",
    "- To improve analysis data collected on customer features like gender,age,occupation,address might improve the analysis of understanding the customer. so a create a more functional recommodation system"
   ]
  },
  {
   "cell_type": "markdown",
   "id": "f0d61d80",
   "metadata": {},
   "source": [
    "## 4.2 Problems encountered\n",
    "- Due to Data ethnics getting real world transaction data available to the public seams impossible. Hence the data used for analysis is a fake real world dataset download from kaggle.\n",
    "- Market Basket analysis requires a large amount of data for the result to become significant. Hence the analyis result was based on the data available to us.  "
   ]
  },
  {
   "cell_type": "code",
   "execution_count": null,
   "id": "284f3e17",
   "metadata": {},
   "outputs": [],
   "source": []
  },
  {
   "cell_type": "code",
   "execution_count": null,
   "id": "52195c29",
   "metadata": {},
   "outputs": [],
   "source": []
  }
 ],
 "metadata": {
  "kernelspec": {
   "display_name": "Python 3 (ipykernel)",
   "language": "python",
   "name": "python3"
  },
  "language_info": {
   "codemirror_mode": {
    "name": "ipython",
    "version": 3
   },
   "file_extension": ".py",
   "mimetype": "text/x-python",
   "name": "python",
   "nbconvert_exporter": "python",
   "pygments_lexer": "ipython3",
   "version": "3.9.12"
  }
 },
 "nbformat": 4,
 "nbformat_minor": 5
}
